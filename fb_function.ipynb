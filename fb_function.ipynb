{
 "cells": [
  {
   "cell_type": "code",
   "execution_count": null,
   "metadata": {
    "collapsed": true
   },
   "outputs": [],
   "source": [
    "import requests\n",
    "import json\n",
    "import re\n",
    "#https://developers.facebook.com/tools/explorer/"
   ]
  },
  {
   "cell_type": "code",
   "execution_count": null,
   "metadata": {
    "collapsed": true
   },
   "outputs": [],
   "source": []
  },
  {
   "cell_type": "markdown",
   "metadata": {
    "collapsed": false
   },
   "source": [
    "# get_article_likes(url)"
   ]
  },
  {
   "cell_type": "markdown",
   "metadata": {},
   "source": [
    "articleId1 = '840467622637666_1356775207673569'\n",
    "token = 'EAACEdEose0cBAK4RUdZConJOZAYo3ZCfWcVoOPJQicPORBai5PGA1rCPDVEmYEzAF6HoiYjprK1PBjYDJ1z9iQLjoEjeZBIXZCuEefKL66APZA4e59DqpUZB5hZALYZADxGFn9cBii8IbXGqqn7pjxBECVh8LBhroOyyQYBOcZARZAvw6MjipsxWoi10Uwffazqqe8ZD'\n",
    "url = 'https://graph.facebook.com/v2.3/{}?access_token={}&debug=all&format=json&method=get&pretty=0&suppress_http_code=1'.format(articleId1,token)\n",
    "\n",
    "like_list = []\n",
    "get_article_likes(url)"
   ]
  },
  {
   "cell_type": "markdown",
   "metadata": {},
   "source": []
  },
  {
   "cell_type": "code",
   "execution_count": null,
   "metadata": {
    "collapsed": false
   },
   "outputs": [],
   "source": [
    "#文章ID取讚數\n",
    "def get_article_likes(url):\n",
    "    \n",
    "    print \"開始\"\n",
    "    res = requests.get(url)\n",
    "    jsonData = json.loads(res.text)\n",
    "    \n",
    "    \n",
    "    for i in jsonData['likes']['data']:#取按讚\n",
    "        #print i\n",
    "        like_list.append(i)\n",
    "    print  len(like_list)\n",
    "\n",
    "\n",
    "    i=0\n",
    "    while (jsonData.has_key('from')):#jsonData.has_key('from')如果出現error傳回flase\n",
    "\n",
    "        nextPage = jsonData['likes']['paging']['next']\n",
    "        nextRes = requests.get(nextPage)\n",
    "        nextJsonData = json.loads(nextRes.text)\n",
    "\n",
    "        #print nextJsonData.keys()\n",
    "\n",
    "        for j in nextJsonData['data']:#取按讚\n",
    "            #print j\n",
    "            like_list.append(j)\n",
    "        print  len(like_list)\n",
    "\n",
    "        if(jsonData['likes']['paging'].has_key('next')):     # 找不到下一頁中止迴圈\n",
    "            print 'error : ant find \"next\"'\n",
    "            break \n",
    "#    return like_list 跑完會全印"
   ]
  },
  {
   "cell_type": "markdown",
   "metadata": {},
   "source": [
    "# get_article_id(url)"
   ]
  },
  {
   "cell_type": "markdown",
   "metadata": {},
   "source": [
    "\n",
    "useId = '172973873034707' #172973873034707(粉專)840467622637666(me)\n",
    "token = 'EAACEdEose0cBAK4RUdZConJOZAYo3ZCfWcVoOPJQicPORBai5PGA1rCPDVEmYEzAF6HoiYjprK1PBjYDJ1z9iQLjoEjeZBIXZCuEefKL66APZA4e59DqpUZB5hZALYZADxGFn9cBii8IbXGqqn7pjxBECVh8LBhroOyyQYBOcZARZAvw6MjipsxWoi10Uwffazqqe8ZD' \n",
    "url = 'https://graph.facebook.com/v2.3/{}/posts?access_token={}&debug=all&format=json&method=get&pretty=0&suppress_http_code=1'.format(useId,token)#指令\n",
    "\n",
    "article_id_list = []\n",
    "get_article_id(url)\n"
   ]
  },
  {
   "cell_type": "code",
   "execution_count": null,
   "metadata": {
    "collapsed": false
   },
   "outputs": [],
   "source": [
    "#useId取文章\n",
    "def get_article_id(url):\n",
    "    print \"開始\"\n",
    "    res = requests.get(url)\n",
    "    jsonData = json.loads(res.text)\n",
    "\n",
    "    \n",
    "    \n",
    "    #是否重複?!!\n",
    "    count=0\n",
    "    for i in jsonData['data']:\n",
    "            article_id_list.append(i['id'])#第一頁取文章ID\n",
    "            count+=1\n",
    "            #print i['id']#test\n",
    "    print count\n",
    "\n",
    "    i=0\n",
    "    while (1<2):#jsonData.has_key('data')如果出現error傳回flase\n",
    "        i+=1\n",
    "    \n",
    "        nextPaging = jsonData['paging']['next']\n",
    "        \n",
    "        nextRes = requests.get(nextPaging)\n",
    "        nextJsonData = json.loads(nextRes.text)\n",
    "\n",
    "        #是否重複?!!\n",
    "        \n",
    "        for j in nextJsonData['data']:\n",
    "            article_id_list.append(j['id'])#換頁取文章ID\n",
    "            count+=1\n",
    "            #print j['id']######\n",
    "        print count\n",
    "        \n",
    "        if(not(jsonData['paging'].has_key('next'))):\n",
    "            print 'error : ant find \"next\"'\n",
    "            break\n",
    "#    return like_list 跑完會全印"
   ]
  },
  {
   "cell_type": "code",
   "execution_count": null,
   "metadata": {
    "collapsed": true
   },
   "outputs": [],
   "source": []
  }
 ],
 "metadata": {
  "anaconda-cloud": {},
  "kernelspec": {
   "display_name": "Python [Root]",
   "language": "python",
   "name": "Python [Root]"
  },
  "language_info": {
   "codemirror_mode": {
    "name": "ipython",
    "version": 2
   },
   "file_extension": ".py",
   "mimetype": "text/x-python",
   "name": "python",
   "nbconvert_exporter": "python",
   "pygments_lexer": "ipython2",
   "version": "2.7.12"
  }
 },
 "nbformat": 4,
 "nbformat_minor": 0
}
