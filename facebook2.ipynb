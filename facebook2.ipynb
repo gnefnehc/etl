{
 "cells": [
  {
   "cell_type": "code",
   "execution_count": 1,
   "metadata": {
    "collapsed": true
   },
   "outputs": [],
   "source": [
    "import requests\n",
    "import json\n",
    "import re"
   ]
  },
  {
   "cell_type": "markdown",
   "metadata": {},
   "source": [
    "article_id = [] #文章ID\n",
    "useId = '172973873034707'\n",
    "token = 'EAACEdEose0cBAKdGv6n4ZBNvjHHmgYn1TqDZBK4ShZCSONmLqV38ALSu5pdg2WC6ubgy7W1g4yS3Yg1cOouSjhXYdlo51y3WpMBTCXOjsv5YefV36gkCLL33ZC4uswJyO3cj3HqfnZCGgqOPunPdrBAJ7SCRF0kZCVZC0CCovM27HE4El3H7AeE'\n",
    "url = 'https://graph.facebook.com/v2.3/{}/posts?access_token={}&debug=all&format=json&method=get&pretty=0&suppress_http_code=1'.format(useId,token)#指令\n",
    "\n",
    "\n",
    "get_article_id(url)"
   ]
  },
  {
   "cell_type": "code",
   "execution_count": null,
   "metadata": {
    "collapsed": false,
    "scrolled": true
   },
   "outputs": [],
   "source": [
    "172973873034707_361456267519799"
   ]
  },
  {
   "cell_type": "code",
   "execution_count": 2,
   "metadata": {
    "collapsed": true
   },
   "outputs": [],
   "source": [
    "def get_article_id(url):\n",
    "    \n",
    "    res = requests.get(url)\n",
    "    jsonData = json.loads(res.text)\n",
    "\n",
    "    \n",
    "    #是否重複?!!\n",
    "    count=0\n",
    "    for i in jsonData['data']:\n",
    "            article_id.append(i['id'])#第一頁取文章ID\n",
    "            count+=1\n",
    "    print count\n",
    "\n",
    "    i=0\n",
    "    while (i<3):#jsonData.has_key('data')如果出現error傳回flase\n",
    "          \n",
    "    \n",
    "        pagingNext = jsonData['paging']['next']\n",
    "        res = requests.get(pagingNext)\n",
    "        nextJsonData = json.loads(res.text)\n",
    "\n",
    "        #是否重複?!!\n",
    "        count=0\n",
    "        for j in nextJsonData['data']:\n",
    "            article_id.append(j['id'])#換頁取文章ID\n",
    "            count+=1\n",
    "        print count\n",
    "        i+=1"
   ]
  },
  {
   "cell_type": "code",
   "execution_count": null,
   "metadata": {
    "collapsed": true
   },
   "outputs": [],
   "source": []
  }
 ],
 "metadata": {
  "anaconda-cloud": {},
  "kernelspec": {
   "display_name": "Python [Root]",
   "language": "python",
   "name": "Python [Root]"
  },
  "language_info": {
   "codemirror_mode": {
    "name": "ipython",
    "version": 2
   },
   "file_extension": ".py",
   "mimetype": "text/x-python",
   "name": "python",
   "nbconvert_exporter": "python",
   "pygments_lexer": "ipython2",
   "version": "2.7.12"
  }
 },
 "nbformat": 4,
 "nbformat_minor": 0
}
