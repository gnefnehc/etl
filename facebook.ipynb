{
 "cells": [
  {
   "cell_type": "raw",
   "metadata": {},
   "source": [
    "取token\n",
    "https://developers.facebook.com/tools/explorer/145634995501895/\n"
   ]
  },
  {
   "cell_type": "code",
   "execution_count": null,
   "metadata": {
    "collapsed": true
   },
   "outputs": [],
   "source": [
    "import requests\n",
    "import json\n",
    "import re"
   ]
  },
  {
   "cell_type": "markdown",
   "metadata": {},
   "source": [
    "去除不變的部分\n",
    "https://graph.facebook.com/v2.1/840467622637666/posts?limit=25&access_token=EAACEdEose0cBAKIItjP59bpS4IKgrlDSRIEFoepEmZBAIuXBt9NhYaIZB2MZCHr20372eZBmT0R7CLniaJxRtEZCiqHXgeST2X2jQU4Vb4O3wuA62Q8q6uCjim69cSORLsJKApumOwetYUEZCOMy3jTl6WFRSJvj8dJMyvDhMwwQZDZD\n",
    "留下\n",
    "&__paging_token=enc_AdBev41G7rprHaYCt00Gp7albvrMU7uQIhUpoC8aYZCR6r19zZBEw9uDWaJKapKrJZCZAbbfXhgeeL0ErZB80vsa1RZBnacoSYDbfG4MI8EkXnzEy7iwZDZD\n",
    "&until=1446136714"
   ]
  },
  {
   "cell_type": "code",
   "execution_count": null,
   "metadata": {
    "collapsed": false
   },
   "outputs": [],
   "source": [
    "def get_next(url):\n",
    "    \n",
    "    #token= 'EAACEdEose0cBACZCVwdeXBbJMQzaBFlyyPyMRZCvfeg7WH5GWxgb2ovKnssE6fwZCrs2VBYb6DTsi89DYwXMZAnBkx96rj1i6Hg592GONPWQHsBZAzbM7J3WAHY4PHjwjBIBwx90hCDxaNqjzI1fY6DPyalpjFkiqlKnUFioXyAZDZD'    \n",
    "    \n",
    "    oldUrl = 'https://graph.facebook.com/v2.1/840467622637666/posts?limit=25&access_token='+token\n",
    "    newUrl=  oldUrl+ url\n",
    "    res = requests.get(newUrl)\n",
    "    jsonData = json.loads(res.text)\n",
    "    \n",
    "    ##網址切割擷取\n",
    "    nextPageUrl = jsonData['paging']['next']\n",
    "    nextPageUntil = re.search('&until=\\d[^&]+', nextPageUrl).group()\n",
    "    nextPagePagingToken = re.search('&__paging_token=enc_[^&]+', nextPageUrl).group()\n",
    "    nextPage = nextPageUntil+ nextPagePagingToken\n",
    "    \n",
    "    alist = []\n",
    "    adict = {}\n",
    "    count = len(jsonData['data'])#算這頁有幾個文章\n",
    "    i=0\n",
    "    while (i<count):\n",
    "        \n",
    "        alist.append(jsonData['data'][i]['id'].split('_')[1])#使用者ID_文章ID ,存文章ID\n",
    "        i+=1\n",
    "        \n",
    "    adict['message'] = alist\n",
    "    adict['nextPage'] = nextPage\n",
    "    \n",
    "    return  adict\n"
   ]
  },
  {
   "cell_type": "code",
   "execution_count": null,
   "metadata": {
    "collapsed": false,
    "scrolled": true
   },
   "outputs": [],
   "source": [
    "\n",
    "token = 'EAACEdEose0cBAJYbPijCVeARqpnEuqXX9IfTOXPLcvJTKZCCmB1YlsRTTteSP1CM9sb4i7Jv9iIlNV28wPuMY7Qj9GnzkDxmXFIxbcrcZAeqjfJmxx1shZB6fJTTchy5huaIArRW9tj6MdC2YT1KJWN7JcByZALEqZC07NSssRkvyUOjo4m4g2px4ZAexerggZD'\n",
    "url = 'https://graph.facebook.com/v2.1/{}?access_token='.format('me/posts')#指令\n",
    "res = requests.get(url+token)\n",
    "jsonData = json.loads(res.text)\n",
    "\n",
    "nextPageUrl = jsonData['paging']['next']\n",
    "nextPageUntil = re.search('&until=\\d[^&]+', nextPageUrl).group()\n",
    "nextPagePagingToken = re.search('&__paging_token=enc_[^&]+', nextPageUrl).group()\n",
    "nextPage = nextPageUntil+ nextPagePagingToken\n",
    "\n",
    "#nextPage = jsonData['paging']['next']#下一頁\n",
    "\n",
    "page_list=[]\n",
    "message_list=[]\n",
    "page_list.append(nextPage)\n",
    "i=0\n",
    "while(i<100):\n",
    "    i+=1\n",
    "    print i\n",
    "    num = len(page_list)-1\n",
    "#     try:\n",
    "        \n",
    "    page_list.append(get_next(page_list[num])['nextPage'])\n",
    "    for m in get_next(page_list[num])['message']:\n",
    "        message_list.append(m)\n",
    "\n",
    "        \n",
    "#     except:#爬到沒有下一頁會跳出錯\n",
    "#         i=999999999\n",
    "#         print e"
   ]
  },
  {
   "cell_type": "code",
   "execution_count": null,
   "metadata": {
    "collapsed": true
   },
   "outputs": [],
   "source": []
  },
  {
   "cell_type": "code",
   "execution_count": null,
   "metadata": {
    "collapsed": false,
    "scrolled": false
   },
   "outputs": [],
   "source": [
    "\n",
    "for aa in  page_list:\n",
    "    print aa\n",
    "    print\n",
    "    "
   ]
  },
  {
   "cell_type": "code",
   "execution_count": null,
   "metadata": {
    "collapsed": false,
    "scrolled": true
   },
   "outputs": [],
   "source": [
    "len(page_list)"
   ]
  },
  {
   "cell_type": "code",
   "execution_count": null,
   "metadata": {
    "collapsed": false
   },
   "outputs": [],
   "source": [
    "len(message_list)"
   ]
  },
  {
   "cell_type": "code",
   "execution_count": null,
   "metadata": {
    "collapsed": false
   },
   "outputs": [],
   "source": [
    "for i in message_list:\n",
    "    print i"
   ]
  },
  {
   "cell_type": "code",
   "execution_count": null,
   "metadata": {
    "collapsed": true
   },
   "outputs": [],
   "source": []
  },
  {
   "cell_type": "code",
   "execution_count": null,
   "metadata": {
    "collapsed": true
   },
   "outputs": [],
   "source": []
  }
 ],
 "metadata": {
  "anaconda-cloud": {},
  "kernelspec": {
   "display_name": "Python [Root]",
   "language": "python",
   "name": "Python [Root]"
  },
  "language_info": {
   "codemirror_mode": {
    "name": "ipython",
    "version": 2
   },
   "file_extension": ".py",
   "mimetype": "text/x-python",
   "name": "python",
   "nbconvert_exporter": "python",
   "pygments_lexer": "ipython2",
   "version": "2.7.12"
  }
 },
 "nbformat": 4,
 "nbformat_minor": 0
}
