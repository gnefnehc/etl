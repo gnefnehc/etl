{
 "cells": [
  {
   "cell_type": "code",
   "execution_count": 1,
   "metadata": {
    "collapsed": true
   },
   "outputs": [],
   "source": [
    "import requests\n",
    "import json\n",
    "import re\n",
    "\n",
    "#from bs4 import BeautifulSoup"
   ]
  },
  {
   "cell_type": "markdown",
   "metadata": {},
   "source": [
    "url = 'https://graph.facebook.com/v2.3/{}?access_token={}&debug=all&format=json&method=get&pretty=0&suppress_http_code=1'\n",
    "\n",
    "token = 'EAACEdEose0cBAKdGv6n4ZBNvjHHmgYn1TqDZBK4ShZCSONmLqV38ALSu5pdg2WC6ubgy7W1g4yS3Yg1cOouSjhXYdlo51y3WpMBTCXOjsv5YefV36gkCLL33ZC4uswJyO3cj3HqfnZCGgqOPunPdrBAJ7SCRF0kZCVZC0CCovM27HE4El3H7AeE'\n",
    "\n",
    "articleId1 = '72973873034707_361456267519799'\n",
    "\n",
    "jsonData['likes']['paging']['next']#下一頁"
   ]
  },
  {
   "cell_type": "code",
   "execution_count": 6,
   "metadata": {
    "collapsed": true
   },
   "outputs": [],
   "source": [
    "articleId1 = '172973873034707_361456267519799'\n",
    "token = 'EAACEdEose0cBAKdGv6n4ZBNvjHHmgYn1TqDZBK4ShZCSONmLqV38ALSu5pdg2WC6ubgy7W1g4yS3Yg1cOouSjhXYdlo51y3WpMBTCXOjsv5YefV36gkCLL33ZC4uswJyO3cj3HqfnZCGgqOPunPdrBAJ7SCRF0kZCVZC0CCovM27HE4El3H7AeE'\n",
    "\n",
    "url = 'https://graph.facebook.com/v2.3/{}?access_token={}&debug=all&format=json&method=get&pretty=0&suppress_http_code=1'.format(articleId1,token)\n",
    "\n",
    "res = requests.get(url)\n",
    "jsonData = json.loads(res.text)\n",
    "for i in jsonData['likes']['data']:#取按讚\n",
    "    \n",
    "    "
   ]
  },
  {
   "cell_type": "code",
   "execution_count": 8,
   "metadata": {
    "collapsed": false
   },
   "outputs": [
    {
     "name": "stdout",
     "output_type": "stream",
     "text": [
      "[u'actions', u'likes', u'created_time', u'message', u'is_hidden', u'comments', u'from', u'subscribed', u'privacy', u'id', u'object_id', u'shares', u'to', u'type', u'status_type', u'picture', u'link', u'__debug__', u'properties', u'icon', u'name', u'message_tags', u'updated_time', u'source', u'is_expired']\n"
     ]
    }
   ],
   "source": [
    "print jsonData.keys()"
   ]
  },
  {
   "cell_type": "code",
   "execution_count": 29,
   "metadata": {
    "collapsed": false
   },
   "outputs": [
    {
     "name": "stdout",
     "output_type": "stream",
     "text": [
      "{u'id': u'1448276335494976', u'name': u'\\u53f2\\u8482\\u82ac'}\n"
     ]
    }
   ],
   "source": [
    "print jsonData['likes']['data'][24]"
   ]
  },
  {
   "cell_type": "code",
   "execution_count": 13,
   "metadata": {
    "collapsed": false
   },
   "outputs": [
    {
     "name": "stdout",
     "output_type": "stream",
     "text": [
      "{u'cursors': {u'after': u'MTQ0ODI3NjMzNTQ5NDk3NgZDZD', u'before': u'ODEzNDY3NzI4Njc0OTMy'}, u'next': u'https://graph.facebook.com/v2.3/172973873034707_361456267519799/likes?access_token=EAACEdEose0cBAKdGv6n4ZBNvjHHmgYn1TqDZBK4ShZCSONmLqV38ALSu5pdg2WC6ubgy7W1g4yS3Yg1cOouSjhXYdlo51y3WpMBTCXOjsv5YefV36gkCLL33ZC4uswJyO3cj3HqfnZCGgqOPunPdrBAJ7SCRF0kZCVZC0CCovM27HE4El3H7AeE&pretty=0&limit=25&after=MTQ0ODI3NjMzNTQ5NDk3NgZDZD'}\n"
     ]
    }
   ],
   "source": [
    "print jsonData['likes']['paging']"
   ]
  },
  {
   "cell_type": "code",
   "execution_count": null,
   "metadata": {
    "collapsed": true
   },
   "outputs": [],
   "source": []
  },
  {
   "cell_type": "code",
   "execution_count": null,
   "metadata": {
    "collapsed": true
   },
   "outputs": [],
   "source": []
  },
  {
   "cell_type": "code",
   "execution_count": null,
   "metadata": {
    "collapsed": false
   },
   "outputs": [],
   "source": [
    "article_id = [] #文章ID\n",
    "useId = '172973873034707'\n",
    "token = 'EAACEdEose0cBAKdGv6n4ZBNvjHHmgYn1TqDZBK4ShZCSONmLqV38ALSu5pdg2WC6ubgy7W1g4yS3Yg1cOouSjhXYdlo51y3WpMBTCXOjsv5YefV36gkCLL33ZC4uswJyO3cj3HqfnZCGgqOPunPdrBAJ7SCRF0kZCVZC0CCovM27HE4El3H7AeE'\n",
    "url = 'https://graph.facebook.com/v2.3/{}/posts?access_token={}&debug=all&format=json&method=get&pretty=0&suppress_http_code=1'.format(useId,token)#指令\n",
    "\n",
    "\n",
    "get_article_id(url)"
   ]
  },
  {
   "cell_type": "code",
   "execution_count": null,
   "metadata": {
    "collapsed": false
   },
   "outputs": [],
   "source": [
    "print len(article_id)"
   ]
  },
  {
   "cell_type": "code",
   "execution_count": null,
   "metadata": {
    "collapsed": false,
    "scrolled": true
   },
   "outputs": [],
   "source": [
    "#paging_token = []#頁面列表\n",
    "article_id = [] #文章ID\n",
    "useId = '172973873034707'\n",
    "token = 'EAACEdEose0cBAKdGv6n4ZBNvjHHmgYn1TqDZBK4ShZCSONmLqV38ALSu5pdg2WC6ubgy7W1g4yS3Yg1cOouSjhXYdlo51y3WpMBTCXOjsv5YefV36gkCLL33ZC4uswJyO3cj3HqfnZCGgqOPunPdrBAJ7SCRF0kZCVZC0CCovM27HE4El3H7AeE'\n",
    "url = 'https://graph.facebook.com/v2.3/{}/posts?access_token={}&debug=all&format=json&method=get&pretty=0&suppress_http_code=1'.format(useId,token)#指令\n",
    "res = requests.get(url)\n",
    "jsonData = json.loads(res.text)\n",
    "\n",
    "count=0\n",
    "\n",
    "#是否重複?!!\n",
    "for i in jsonData['data']:\n",
    "        article_id.append(i['id'])#第一頁取文章ID\n",
    "        count+=1\n",
    "print count\n",
    "\n",
    "i=0\n",
    "while (i<3):#jsonData.has_key('data')如果出現error傳回flase\n",
    "    \n",
    "    \n",
    "    \n",
    "    \n",
    "    pagingNext = jsonData['paging']['next']\n",
    "    res = requests.get(pagingNext)\n",
    "    nextJsonData = json.loads(res.text)\n",
    "    \n",
    "    #是否重複?!!\n",
    "    count=0\n",
    "    for j in nextJsonData['data']:\n",
    "        article_id.append(j['id'])#換頁取文章ID\n",
    "        count+=1\n",
    "    print count\n",
    "    i+=1\n",
    "\n",
    "\n",
    "\n",
    "\n"
   ]
  },
  {
   "cell_type": "code",
   "execution_count": null,
   "metadata": {
    "collapsed": false
   },
   "outputs": [],
   "source": [
    "def get_article_id(url):\n",
    "    \n",
    "    res = requests.get(url)\n",
    "    jsonData = json.loads(res.text)\n",
    "\n",
    "    \n",
    "    #是否重複?!!\n",
    "    count=0\n",
    "    for i in jsonData['data']:\n",
    "            article_id.append(i['id'])#第一頁取文章ID\n",
    "            count+=1\n",
    "    print count\n",
    "\n",
    "    i=0\n",
    "    while (i<3):#jsonData.has_key('data')如果出現error傳回flase\n",
    "          \n",
    "    \n",
    "        pagingNext = jsonData['paging']['next']\n",
    "        res = requests.get(pagingNext)\n",
    "        nextJsonData = json.loads(res.text)\n",
    "\n",
    "        #是否重複?!!\n",
    "        count=0\n",
    "        for j in nextJsonData['data']:\n",
    "            article_id.append(j['id'])#換頁取文章ID\n",
    "            count+=1\n",
    "        print count\n",
    "        i+=1"
   ]
  },
  {
   "cell_type": "code",
   "execution_count": null,
   "metadata": {
    "collapsed": false
   },
   "outputs": [],
   "source": []
  },
  {
   "cell_type": "code",
   "execution_count": null,
   "metadata": {
    "collapsed": false
   },
   "outputs": [],
   "source": []
  }
 ],
 "metadata": {
  "kernelspec": {
   "display_name": "Python [Root]",
   "language": "python",
   "name": "Python [Root]"
  },
  "language_info": {
   "codemirror_mode": {
    "name": "ipython",
    "version": 2
   },
   "file_extension": ".py",
   "mimetype": "text/x-python",
   "name": "python",
   "nbconvert_exporter": "python",
   "pygments_lexer": "ipython2",
   "version": "2.7.12"
  }
 },
 "nbformat": 4,
 "nbformat_minor": 0
}
