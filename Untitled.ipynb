{
 "cells": [
  {
   "cell_type": "code",
   "execution_count": 1,
   "metadata": {
    "collapsed": true
   },
   "outputs": [],
   "source": [
    "import requests\n",
    "import json\n",
    "import re\n",
    "\n",
    "#from bs4 import BeautifulSoup"
   ]
  },
  {
   "cell_type": "code",
   "execution_count": 2,
   "metadata": {
    "collapsed": true
   },
   "outputs": [],
   "source": [
    "import requests\n",
    "\n",
    "def get_fb_token(app_id, app_secret):           \n",
    "    payload = {'grant_type': 'client_credentials', 'client_id': app_id, 'client_secret': app_secret}\n",
    "    file = requests.post('https://graph.facebook.com/oauth/access_token?', params = payload)\n",
    "    #print file.text #to test what the FB api responded with    \n",
    "    result = file.text.split(\"=\")[1]\n",
    "    #print file.text #to test the TOKEN\n",
    "    return result"
   ]
  },
  {
   "cell_type": "code",
   "execution_count": 10,
   "metadata": {
    "collapsed": false
   },
   "outputs": [
    {
     "data": {
      "text/plain": [
       "u'1323041221074517|HYP0y6GPvQTyQ0l3XKV90DR6A34'"
      ]
     },
     "execution_count": 10,
     "metadata": {},
     "output_type": "execute_result"
    }
   ],
   "source": [
    "get_fb_token('1323041221074517','890f10427dd20e221621d7077cc93cd3')"
   ]
  },
  {
   "cell_type": "markdown",
   "metadata": {},
   "source": [
    "url = 'https://graph.facebook.com/v2.3/{}?access_token={}&debug=all&format=json&method=get&pretty=0&suppress_http_code=1'\n",
    "\n",
    "token = 'EAACEdEose0cBAKdGv6n4ZBNvjHHmgYn1TqDZBK4ShZCSONmLqV38ALSu5pdg2WC6ubgy7W1g4yS3Yg1cOouSjhXYdlo51y3WpMBTCXOjsv5YefV36gkCLL33ZC4uswJyO3cj3HqfnZCGgqOPunPdrBAJ7SCRF0kZCVZC0CCovM27HE4El3H7AeE'\n",
    "\n",
    "articleId1 = '72973873034707_361456267519799'\n",
    "\n",
    "jsonData['likes']['paging']['next']#下一頁"
   ]
  },
  {
   "cell_type": "code",
   "execution_count": 16,
   "metadata": {
    "collapsed": false
   },
   "outputs": [
    {
     "name": "stdout",
     "output_type": "stream",
     "text": [
      "{\"created_time\":\"2016-10-12T12:00:00+0000\",\"message\":\"2016 \\u516d\\u8f2a\\u806f\\u5408\\u975e\\u5b98\\u65b9\\u7d00\\u9304\\uff5cSIX WHEEL FITMENT FESTIVAL\\uff5cTAIWAN\\n\\n\\u6539\\u88dd\\u8eca\\u754c\\u7684\\u5e74\\u5ea6\\u9ad8\\u88dd\\u6aa2\\u4e0d\\u5fc5\\u591a\\u505a\\u89e3\\u91cb\\n\\u53ef\\u60dc\\u7576\\u65e5\\u5929\\u516c\\u4e0d\\u4f5c\\u7f8e\\uff0c\\u53ea\\u80fd\\u908a\\u6490\\u5098\\u908a\\u63d0\\u8457\\u7a69\\u5b9a\\u5668\\n\\u6709\\u4e9b\\u756b\\u9762\\u56e0\\u6b64\\u6c92\\u9304\\u597d\\u6240\\u4ee5\\u4e0d\\u80fd\\u653e\\n\\u4e0d\\u904e\\u4e5f\\u56e0\\u70ba\\u9670\\u5929\\u7684\\u95dc\\u4fc2\\u591a\\u4e86\\u4e00\\u500b\\u5473\\u9053\\uff5e\\n\\u7279\\u5225\\u611f\\u8b1d #\\u96e8\\u85e4 \\u8b93\\u5c0f\\u5f1f\\u6709\\u6a5f\\u6703\\u62cd\\u651d\\u9019\\u5834\\u5e74\\u5ea6\\u76db\\u4e8b\\n\\u5e0c\\u671b\\u5927\\u5bb6\\u559c\\u6b61\\u9019\\u6b21\\u7684\\u7d00\\u9304\\uff01\\n\\u4e5f\\u5e0c\\u671b\\u5927\\u5bb6\\u591a\\u591a\\u5206\\u4eab\\uff5e\\u8b93\\u4e16\\u754c\\u770b\\u5230\\u53f0\\u7063\\u7684\\u6539\\u88dd\\u7cbe\\u795e\\uff01\\n\\n\\uff08\\u8cbc\\u5fc3\\u5c0f\\u63d0\\u9192\\uff1aGTR\\u8072\\u6d6a\\u5147\\u731b...\\u8072\\u97f3\\u4e0d\\u8981\\u958b\\u592a\\u5927\\u54e6...\\uff09\\n\\n\\u96e8\\u85e4 Yu Teng Club\\n\\u6606\\u5104\\u570b\\u969b\\u8cbf\\u6613\\u6709\\u9650\\u516c\\u53f8\\n\\nMusic:Lemaitre - Stepping Stone (feat. Mark Johns)\",\"id\":\"172973873034707_361456267519799\",\"__debug__\":{\"messages\":[{\"link\":\"https:\\/\\/developers.facebook.com\\/docs\\/apps\\/versions\\/\",\"message\":\"The app tried to call version v2.3. This app can only call versions v2.8 and higher, so the request defaulted to version v2.8.\",\"type\":\"warning\"}]}}\n"
     ]
    }
   ],
   "source": [
    "articleId1 = '172973873034707_361456267519799'\n",
    "token = '1323041221074517|HYP0y6GPvQTyQ0l3XKV90DR6A34'\n",
    "\n",
    "url = 'https://graph.facebook.com/v2.3/{}?access_token={}&debug=all&format=json&method=get&pretty=0&suppress_http_code=1'.format(articleId1,token)\n",
    "\n",
    "res = requests.get(url)\n",
    "jsonData = json.loads(res.text)\n",
    "#for i in jsonData['likes']['data']:#取按讚\n",
    "print res.text\n",
    "\n",
    "    \n",
    "    "
   ]
  },
  {
   "cell_type": "code",
   "execution_count": 8,
   "metadata": {
    "collapsed": false
   },
   "outputs": [
    {
     "name": "stdout",
     "output_type": "stream",
     "text": [
      "[u'actions', u'likes', u'created_time', u'message', u'is_hidden', u'comments', u'from', u'subscribed', u'privacy', u'id', u'object_id', u'shares', u'to', u'type', u'status_type', u'picture', u'link', u'__debug__', u'properties', u'icon', u'name', u'message_tags', u'updated_time', u'source', u'is_expired']\n"
     ]
    }
   ],
   "source": [
    "print jsonData.keys()"
   ]
  },
  {
   "cell_type": "code",
   "execution_count": 29,
   "metadata": {
    "collapsed": false
   },
   "outputs": [
    {
     "name": "stdout",
     "output_type": "stream",
     "text": [
      "{u'id': u'1448276335494976', u'name': u'\\u53f2\\u8482\\u82ac'}\n"
     ]
    }
   ],
   "source": [
    "print jsonData['likes']['data'][24]"
   ]
  },
  {
   "cell_type": "code",
   "execution_count": 13,
   "metadata": {
    "collapsed": false
   },
   "outputs": [
    {
     "name": "stdout",
     "output_type": "stream",
     "text": [
      "{u'cursors': {u'after': u'MTQ0ODI3NjMzNTQ5NDk3NgZDZD', u'before': u'ODEzNDY3NzI4Njc0OTMy'}, u'next': u'https://graph.facebook.com/v2.3/172973873034707_361456267519799/likes?access_token=EAACEdEose0cBAKdGv6n4ZBNvjHHmgYn1TqDZBK4ShZCSONmLqV38ALSu5pdg2WC6ubgy7W1g4yS3Yg1cOouSjhXYdlo51y3WpMBTCXOjsv5YefV36gkCLL33ZC4uswJyO3cj3HqfnZCGgqOPunPdrBAJ7SCRF0kZCVZC0CCovM27HE4El3H7AeE&pretty=0&limit=25&after=MTQ0ODI3NjMzNTQ5NDk3NgZDZD'}\n"
     ]
    }
   ],
   "source": [
    "print jsonData['likes']['paging']"
   ]
  },
  {
   "cell_type": "code",
   "execution_count": null,
   "metadata": {
    "collapsed": true
   },
   "outputs": [],
   "source": []
  },
  {
   "cell_type": "code",
   "execution_count": null,
   "metadata": {
    "collapsed": true
   },
   "outputs": [],
   "source": []
  },
  {
   "cell_type": "code",
   "execution_count": null,
   "metadata": {
    "collapsed": false
   },
   "outputs": [],
   "source": [
    "article_id = [] #文章ID\n",
    "useId = '172973873034707'\n",
    "token = 'EAACEdEose0cBAKdGv6n4ZBNvjHHmgYn1TqDZBK4ShZCSONmLqV38ALSu5pdg2WC6ubgy7W1g4yS3Yg1cOouSjhXYdlo51y3WpMBTCXOjsv5YefV36gkCLL33ZC4uswJyO3cj3HqfnZCGgqOPunPdrBAJ7SCRF0kZCVZC0CCovM27HE4El3H7AeE'\n",
    "url = 'https://graph.facebook.com/v2.3/{}/posts?access_token={}&debug=all&format=json&method=get&pretty=0&suppress_http_code=1'.format(useId,token)#指令\n",
    "\n",
    "\n",
    "get_article_id(url)"
   ]
  },
  {
   "cell_type": "code",
   "execution_count": null,
   "metadata": {
    "collapsed": false
   },
   "outputs": [],
   "source": [
    "print len(article_id)"
   ]
  },
  {
   "cell_type": "code",
   "execution_count": null,
   "metadata": {
    "collapsed": false,
    "scrolled": true
   },
   "outputs": [],
   "source": [
    "#paging_token = []#頁面列表\n",
    "article_id = [] #文章ID\n",
    "useId = '172973873034707'\n",
    "token = 'EAACEdEose0cBAKdGv6n4ZBNvjHHmgYn1TqDZBK4ShZCSONmLqV38ALSu5pdg2WC6ubgy7W1g4yS3Yg1cOouSjhXYdlo51y3WpMBTCXOjsv5YefV36gkCLL33ZC4uswJyO3cj3HqfnZCGgqOPunPdrBAJ7SCRF0kZCVZC0CCovM27HE4El3H7AeE'\n",
    "url = 'https://graph.facebook.com/v2.3/{}/posts?access_token={}&debug=all&format=json&method=get&pretty=0&suppress_http_code=1'.format(useId,token)#指令\n",
    "res = requests.get(url)\n",
    "jsonData = json.loads(res.text)\n",
    "\n",
    "count=0\n",
    "\n",
    "#是否重複?!!\n",
    "for i in jsonData['data']:\n",
    "        article_id.append(i['id'])#第一頁取文章ID\n",
    "        count+=1\n",
    "print count\n",
    "\n",
    "i=0\n",
    "while (i<3):#jsonData.has_key('data')如果出現error傳回flase\n",
    "    \n",
    "    \n",
    "    \n",
    "    \n",
    "    pagingNext = jsonData['paging']['next']\n",
    "    res = requests.get(pagingNext)\n",
    "    nextJsonData = json.loads(res.text)\n",
    "    \n",
    "    #是否重複?!!\n",
    "    count=0\n",
    "    for j in nextJsonData['data']:\n",
    "        article_id.append(j['id'])#換頁取文章ID\n",
    "        count+=1\n",
    "    print count\n",
    "    i+=1\n",
    "\n",
    "\n",
    "\n",
    "\n"
   ]
  },
  {
   "cell_type": "code",
   "execution_count": null,
   "metadata": {
    "collapsed": false
   },
   "outputs": [],
   "source": [
    "def get_article_id(url):\n",
    "    \n",
    "    res = requests.get(url)\n",
    "    jsonData = json.loads(res.text)\n",
    "\n",
    "    \n",
    "    #是否重複?!!\n",
    "    count=0\n",
    "    for i in jsonData['data']:\n",
    "            article_id.append(i['id'])#第一頁取文章ID\n",
    "            count+=1\n",
    "    print count\n",
    "\n",
    "    i=0\n",
    "    while (i<3):#jsonData.has_key('data')如果出現error傳回flase\n",
    "          \n",
    "    \n",
    "        pagingNext = jsonData['paging']['next']\n",
    "        res = requests.get(pagingNext)\n",
    "        nextJsonData = json.loads(res.text)\n",
    "\n",
    "        #是否重複?!!\n",
    "        count=0\n",
    "        for j in nextJsonData['data']:\n",
    "            article_id.append(j['id'])#換頁取文章ID\n",
    "            count+=1\n",
    "        print count\n",
    "        i+=1"
   ]
  },
  {
   "cell_type": "code",
   "execution_count": null,
   "metadata": {
    "collapsed": false
   },
   "outputs": [],
   "source": []
  },
  {
   "cell_type": "code",
   "execution_count": null,
   "metadata": {
    "collapsed": false
   },
   "outputs": [],
   "source": []
  }
 ],
 "metadata": {
  "anaconda-cloud": {},
  "kernelspec": {
   "display_name": "Python [Root]",
   "language": "python",
   "name": "Python [Root]"
  },
  "language_info": {
   "codemirror_mode": {
    "name": "ipython",
    "version": 2
   },
   "file_extension": ".py",
   "mimetype": "text/x-python",
   "name": "python",
   "nbconvert_exporter": "python",
   "pygments_lexer": "ipython2",
   "version": "2.7.12"
  }
 },
 "nbformat": 4,
 "nbformat_minor": 0
}
