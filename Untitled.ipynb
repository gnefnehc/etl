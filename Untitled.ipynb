{
 "cells": [
  {
   "cell_type": "code",
   "execution_count": 23,
   "metadata": {
    "collapsed": true
   },
   "outputs": [],
   "source": [
    "import requests\n",
    "import json\n",
    "import re\n",
    "\n",
    "from bs4 import BeautifulSoup"
   ]
  },
  {
   "cell_type": "code",
   "execution_count": 25,
   "metadata": {
    "collapsed": false
   },
   "outputs": [],
   "source": [
    "useid = '354487984641189'#get_next也會用到\n",
    "token = 'EAACEdEose0cBANAIiEzOQnNgtZBH2zZAx1nKzBZA5ZBUZCbxF0OM9nIWVzPLZAkBmTwJ6HW1TGL5TbT3kOPohKwJRhZCdfKR9ECnOs7VHPE5lZCRW81anYMMkP6CaNJbAcHsffmZBaXv1L5pN8MvXCxngUSOEqZCE3uZB7GG3j97I5ZANeEZAn2yRW9HKFcnq3LaN1rcZD'\n",
    "url = 'https://graph.facebook.com/v2.2/{}/posts?access_token={}'.format(useid,token)\n",
    "\n",
    "res = requests.get(url)\n",
    "jsonData = json.loads(res.text)\n",
    "nextPage = jsonData['paging']['next']\n",
    "\n"
   ]
  },
  {
   "cell_type": "code",
   "execution_count": null,
   "metadata": {
    "collapsed": true
   },
   "outputs": [],
   "source": []
  }
 ],
 "metadata": {
  "kernelspec": {
   "display_name": "Python [Root]",
   "language": "python",
   "name": "Python [Root]"
  },
  "language_info": {
   "codemirror_mode": {
    "name": "ipython",
    "version": 2
   },
   "file_extension": ".py",
   "mimetype": "text/x-python",
   "name": "python",
   "nbconvert_exporter": "python",
   "pygments_lexer": "ipython2",
   "version": "2.7.12"
  }
 },
 "nbformat": 4,
 "nbformat_minor": 0
}
