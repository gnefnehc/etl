{
 "cells": [
  {
   "cell_type": "code",
   "execution_count": 1,
   "metadata": {
    "collapsed": true
   },
   "outputs": [],
   "source": [
    "import requests "
   ]
  },
  {
   "cell_type": "code",
   "execution_count": 2,
   "metadata": {
    "collapsed": true
   },
   "outputs": [],
   "source": [
    "from bs4 import BeautifulSoup"
   ]
  },
  {
   "cell_type": "code",
   "execution_count": 3,
   "metadata": {
    "collapsed": true
   },
   "outputs": [],
   "source": [
    "res = requests.get(\"http://www.appledaily.com.tw/column/index/371/1\")"
   ]
  },
  {
   "cell_type": "code",
   "execution_count": 4,
   "metadata": {
    "collapsed": false
   },
   "outputs": [],
   "source": [
    "soup = BeautifulSoup(res.text,\"lxml\")"
   ]
  },
  {
   "cell_type": "code",
   "execution_count": 5,
   "metadata": {
    "collapsed": false
   },
   "outputs": [],
   "source": [
    "ul_rtddd = soup.find_all('ul',class_=\"list blue\")"
   ]
  },
  {
   "cell_type": "code",
   "execution_count": 6,
   "metadata": {
    "collapsed": false
   },
   "outputs": [],
   "source": [
    "ul_rtddd_tag = ul_rtddd[0]"
   ]
  },
  {
   "cell_type": "code",
   "execution_count": 7,
   "metadata": {
    "collapsed": false
   },
   "outputs": [],
   "source": [
    "article_links_list = ul_rtddd_tag.find_all('a')"
   ]
  },
  {
   "cell_type": "code",
   "execution_count": 8,
   "metadata": {
    "collapsed": false
   },
   "outputs": [
    {
     "name": "stdout",
     "output_type": "stream",
     "text": [
      "/column/article/371/rnews/20160824/934994\n",
      "/column/article/371/rnews/20160824/934940\n",
      "/column/article/371/rnews/20160824/934927\n",
      "/column/article/371/rnews/20160824/934915\n",
      "/column/article/371/rnews/20160824/934870\n",
      "/column/article/371/rnews/20160824/934864\n",
      "/column/article/371/rnews/20160824/934746\n",
      "/column/article/371/twapple/20160824/37358026\n",
      "/column/article/371/twapple/20160824/37358042\n",
      "/column/article/371/twapple/20160824/37358047\n",
      "/column/article/371/rnews/20160823/934568\n",
      "/column/article/371/rnews/20160823/934566\n",
      "/column/article/371/rnews/20160823/934520\n",
      "/column/article/371/rnews/20160823/934455\n",
      "/column/article/371/rnews/20160823/934451\n",
      "/column/article/371/rnews/20160823/934441\n",
      "/column/article/371/rnews/20160823/934282\n",
      "/column/article/371/rnews/20160823/934253\n",
      "/column/article/371/rnews/20160823/934185\n",
      "/column/article/371/rnews/20160823/934180\n",
      "/column/article/371/rnews/20160823/934173\n",
      "/column/article/371/rnews/20160823/934156\n",
      "/column/article/371/rnews/20160823/934169\n",
      "/column/article/371/rnews/20160823/934164\n",
      "/column/article/371/rnews/20160823/934143\n",
      "/column/article/371/rnews/20160823/934114\n",
      "/column/article/371/rnews/20160823/934129\n",
      "/column/article/371/rnews/20160823/934111\n",
      "/column/article/371/rnews/20160823/934089\n",
      "/column/article/371/rnews/20160823/934076\n"
     ]
    }
   ],
   "source": [
    "result_list = []\n",
    "for link in article_links_list:\n",
    "    print link['href']\n",
    "    result_list.append(link['href'])"
   ]
  },
  {
   "cell_type": "code",
   "execution_count": 9,
   "metadata": {
    "collapsed": false,
    "scrolled": true
   },
   "outputs": [
    {
     "data": {
      "text/plain": [
       "['/column/article/371/rnews/20160824/934994',\n",
       " '/column/article/371/rnews/20160824/934940',\n",
       " '/column/article/371/rnews/20160824/934927',\n",
       " '/column/article/371/rnews/20160824/934915',\n",
       " '/column/article/371/rnews/20160824/934870',\n",
       " '/column/article/371/rnews/20160824/934864',\n",
       " '/column/article/371/rnews/20160824/934746',\n",
       " '/column/article/371/twapple/20160824/37358026',\n",
       " '/column/article/371/twapple/20160824/37358042',\n",
       " '/column/article/371/twapple/20160824/37358047',\n",
       " '/column/article/371/rnews/20160823/934568',\n",
       " '/column/article/371/rnews/20160823/934566',\n",
       " '/column/article/371/rnews/20160823/934520',\n",
       " '/column/article/371/rnews/20160823/934455',\n",
       " '/column/article/371/rnews/20160823/934451',\n",
       " '/column/article/371/rnews/20160823/934441',\n",
       " '/column/article/371/rnews/20160823/934282',\n",
       " '/column/article/371/rnews/20160823/934253',\n",
       " '/column/article/371/rnews/20160823/934185',\n",
       " '/column/article/371/rnews/20160823/934180',\n",
       " '/column/article/371/rnews/20160823/934173',\n",
       " '/column/article/371/rnews/20160823/934156',\n",
       " '/column/article/371/rnews/20160823/934169',\n",
       " '/column/article/371/rnews/20160823/934164',\n",
       " '/column/article/371/rnews/20160823/934143',\n",
       " '/column/article/371/rnews/20160823/934114',\n",
       " '/column/article/371/rnews/20160823/934129',\n",
       " '/column/article/371/rnews/20160823/934111',\n",
       " '/column/article/371/rnews/20160823/934089',\n",
       " '/column/article/371/rnews/20160823/934076']"
      ]
     },
     "execution_count": 9,
     "metadata": {},
     "output_type": "execute_result"
    }
   ],
   "source": [
    "result_list\n",
    "#for linka in result_list:\n",
    "#    print linka"
   ]
  },
  {
   "cell_type": "code",
   "execution_count": null,
   "metadata": {
    "collapsed": false,
    "scrolled": true
   },
   "outputs": [],
   "source": [
    "data_list = []\n",
    "for linka in result_list:\n",
    "    url = \"http://www.appledaily.com.tw/\"+linka\n",
    "    inRes = requests.get(url)\n",
    "    inSoup = BeautifulSoup(inRes.text,\"lxml\")\n",
    "    p_rtddd = inSoup.find_all('p',id=\"bcontent\")\n",
    "    p_rtddd_tag = p_rtddd[0]\n",
    "    # p_rtddd_tag.text\n",
    "    print p_rtddd_tag.text\n",
    "    data_list.append(p_rtddd_tag.text)\n",
    "    \n"
   ]
  },
  {
   "cell_type": "code",
   "execution_count": null,
   "metadata": {
    "collapsed": false,
    "scrolled": true
   },
   "outputs": [],
   "source": [
    "data_list\n",
    "\n",
    "for data in data_list:\n",
    "    print data\n",
    "    print /n/n"
   ]
  },
  {
   "cell_type": "code",
   "execution_count": null,
   "metadata": {
    "collapsed": false
   },
   "outputs": [],
   "source": [
    "inRes = requests.get('http://www.appledaily.com.tw//column/article/371/rnews/20160824/934915')\n",
    "inSoup = BeautifulSoup(inRes.text,\"lxml\")\n",
    "p_rtddd = inSoup.find_all('p',id=\"bcontent\")\n",
    "p_rtddd_tag = p_rtddd[0]\n",
    "print p_rtddd_tag.text"
   ]
  },
  {
   "cell_type": "code",
   "execution_count": null,
   "metadata": {
    "collapsed": true
   },
   "outputs": [],
   "source": []
  },
  {
   "cell_type": "code",
   "execution_count": null,
   "metadata": {
    "collapsed": true
   },
   "outputs": [],
   "source": []
  }
 ],
 "metadata": {
  "anaconda-cloud": {},
  "kernelspec": {
   "display_name": "Python [Root]",
   "language": "python",
   "name": "Python [Root]"
  },
  "language_info": {
   "codemirror_mode": {
    "name": "ipython",
    "version": 2
   },
   "file_extension": ".py",
   "mimetype": "text/x-python",
   "name": "python",
   "nbconvert_exporter": "python",
   "pygments_lexer": "ipython2",
   "version": "2.7.12"
  }
 },
 "nbformat": 4,
 "nbformat_minor": 0
}
