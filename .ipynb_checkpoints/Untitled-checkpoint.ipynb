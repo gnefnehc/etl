{
 "cells": [
  {
   "cell_type": "code",
   "execution_count": null,
   "metadata": {
    "collapsed": true
   },
   "outputs": [],
   "source": [
    "import requests\n",
    "import json\n",
    "import re\n",
    "\n",
    "#from bs4 import BeautifulSoup\n"
   ]
  },
  {
   "cell_type": "markdown",
   "metadata": {},
   "source": [
    "https://developers.facebook.com/tools/explorer/\n",
    "取token"
   ]
  },
  {
   "cell_type": "code",
   "execution_count": null,
   "metadata": {
    "collapsed": false
   },
   "outputs": [],
   "source": []
  },
  {
   "cell_type": "code",
   "execution_count": null,
   "metadata": {
    "collapsed": true
   },
   "outputs": [],
   "source": []
  },
  {
   "cell_type": "code",
   "execution_count": null,
   "metadata": {
    "collapsed": true
   },
   "outputs": [],
   "source": [
    "\n",
    "#取讚\n",
    "articleId1 = '840467622637666_1356775207673569'\n",
    "token = 'EAACEdEose0cBAK4RUdZConJOZAYo3ZCfWcVoOPJQicPORBai5PGA1rCPDVEmYEzAF6HoiYjprK1PBjYDJ1z9iQLjoEjeZBIXZCuEefKL66APZA4e59DqpUZB5hZALYZADxGFn9cBii8IbXGqqn7pjxBECVh8LBhroOyyQYBOcZARZAvw6MjipsxWoi10Uwffazqqe8ZD'\n",
    "url = 'https://graph.facebook.com/v2.3/{}?access_token={}&debug=all&format=json&method=get&pretty=0&suppress_http_code=1'.format(articleId1,token)\n",
    "\n",
    "res = requests.get(url)\n",
    "jsonData = json.loads(res.text)\n",
    "\n",
    "like_list = []\n",
    "\n",
    "for i in jsonData['likes']['data']:#取按讚\n",
    "    print i\n",
    "    like_list.append(i)\n",
    "print  len(like_list)\n",
    "\n",
    "\n",
    "i=0\n",
    "while (jsonData.has_key('from')):#jsonData.has_key('from')如果出現error傳回flase\n",
    "    \n",
    "    nextPage = jsonData['likes']['paging']['next']\n",
    "    nextRes = requests.get(nextPage)\n",
    "    nextJsonData = json.loads(nextRes.text)\n",
    "    \n",
    "    print nextJsonData.keys()\n",
    "    \n",
    "    for j in nextJsonData['data']:#取按讚\n",
    "        print j\n",
    "        like_list.append(j)\n",
    "    print  len(like_list)\n",
    "    \n",
    "    if(jsonData['likes']['paging'].has_key('next')):     # 找不到下一頁中止迴圈\n",
    "        print 'error : ant find \"next\"'\n",
    "        break \n"
   ]
  },
  {
   "cell_type": "code",
   "execution_count": null,
   "metadata": {
    "collapsed": false,
    "scrolled": true
   },
   "outputs": [],
   "source": [
    "\n",
    "#paging_token = []#頁面列表\n",
    "article_id = [] #文章ID\n",
    "useId = '840467622637666'#172973873034707(粉專)840467622637666(me)\n",
    "token = 'EAACEdEose0cBAOOjeFGy4pNSHjv7U53I94utBnmCZCrVK9EfDodRARdP2gwIffOAc9WvAuTVkxX2HwqwVD6MOmRBRsf36jbqpGp1sR0fGQBr9FOZCCxDtrQ2M2N874gT43PicQO8VT88UiliWTzC1LaFNZABHNCyrQrt7L7XLvLYNJZCtxuyWvgZBEHGk5UkZD'\n",
    "url = 'https://graph.facebook.com/v2.3/{}/posts?access_token={}&debug=all&format=json&method=get&pretty=0&suppress_http_code=1'.format(useId,token)#指令\n",
    "res = requests.get(url)\n",
    "jsonData = json.loads(res.text)\n",
    "\n",
    "count=0\n",
    "\n",
    "#是否重複?!!\n",
    "for i in jsonData['data']:\n",
    "        article_id.append(i['id'])#第一頁取文章ID\n",
    "        count+=1\n",
    "print count\n",
    "\n",
    "i=0\n",
    "while (i<3):#jsonData.has_key('data')如果出現error傳回flase\n",
    "    \n",
    "    \n",
    "    \n",
    "    \n",
    "    pagingNext = jsonData['paging']['next']\n",
    "    res = requests.get(pagingNext)\n",
    "    nextJsonData = json.loads(res.text)\n",
    "    \n",
    "    #是否重複?!!\n",
    "    count=0\n",
    "    for j in nextJsonData['data']:\n",
    "        article_id.append(j['id'])#換頁取文章ID\n",
    "        count+=1\n",
    "    print count\n",
    "    i+=1\n",
    "\n",
    "\n",
    "\n",
    "\n"
   ]
  },
  {
   "cell_type": "code",
   "execution_count": null,
   "metadata": {
    "collapsed": false
   },
   "outputs": [],
   "source": [
    "print article_id"
   ]
  },
  {
   "cell_type": "markdown",
   "metadata": {},
   "source": [
    "# token "
   ]
  },
  {
   "cell_type": "code",
   "execution_count": null,
   "metadata": {
    "collapsed": false
   },
   "outputs": [],
   "source": [
    "#sdk\n",
    "import requests\n",
    "def get_fb_token(app_id, app_secret):           \n",
    "    payload = {'grant_type': 'client_credentials', 'client_id': app_id, 'client_secret': app_secret}\n",
    "    file = requests.post('https://graph.facebook.com/oauth/access_token?', params = payload)\n",
    "    #print file.text #to test what the FB api responded with    \n",
    "    result = file.text.split(\"=\")[1]\n",
    "    #print file.text #to test the TOKEN\n",
    "    return result\n",
    "#get_fb_token('1323041221074517','890f10427dd20e221621d7077cc93cd3')"
   ]
  }
 ],
 "metadata": {
  "anaconda-cloud": {},
  "kernelspec": {
   "display_name": "Python [Root]",
   "language": "python",
   "name": "Python [Root]"
  },
  "language_info": {
   "codemirror_mode": {
    "name": "ipython",
    "version": 2
   },
   "file_extension": ".py",
   "mimetype": "text/x-python",
   "name": "python",
   "nbconvert_exporter": "python",
   "pygments_lexer": "ipython2",
   "version": "2.7.12"
  }
 },
 "nbformat": 4,
 "nbformat_minor": 0
}
