{
 "cells": [
  {
   "cell_type": "markdown",
   "metadata": {},
   "source": [
    "YouTube下載影片"
   ]
  },
  {
   "cell_type": "code",
   "execution_count": 46,
   "metadata": {
    "collapsed": false,
    "scrolled": true
   },
   "outputs": [],
   "source": [
    "import requests\n",
    "url = 'https://www.youtube.com/watch?v=5yAU52qfYuU'\n",
    "res = requests.get(url)\n",
    "#print res.text"
   ]
  },
  {
   "cell_type": "code",
   "execution_count": 41,
   "metadata": {
    "collapsed": false,
    "scrolled": true
   },
   "outputs": [],
   "source": [
    "import re\n",
    "m = re.search('\"args\":({.*?}),',res.text) #sn-ipoxu-u2xe.googlevideo.com/videoplayback\n",
    "#print m.group(1)"
   ]
  },
  {
   "cell_type": "code",
   "execution_count": 24,
   "metadata": {
    "collapsed": false,
    "scrolled": true
   },
   "outputs": [],
   "source": [
    "import json\n",
    "jd = json.loads(m.group(1))\n",
    "#print jd[\"url_encoded_fmt_stream_map\"]"
   ]
  },
  {
   "cell_type": "code",
   "execution_count": 25,
   "metadata": {
    "collapsed": false
   },
   "outputs": [],
   "source": [
    "import urlparse\n",
    "a = urlparse.parse_qs(jd[\"url_encoded_fmt_stream_map\"])\n",
    "#print a"
   ]
  },
  {
   "cell_type": "code",
   "execution_count": 26,
   "metadata": {
    "collapsed": false
   },
   "outputs": [
    {
     "name": "stdout",
     "output_type": "stream",
     "text": [
      "https://r3---sn-ipoxu-u2xe.googlevideo.com/videoplayback?key=yt6&sparams=dur%2Cei%2Cid%2Cinitcwndbps%2Cip%2Cipbits%2Citag%2Clmt%2Cmime%2Cmm%2Cmn%2Cms%2Cmv%2Cpl%2Cratebypass%2Crequiressl%2Csource%2Cupn%2Cexpire&ipbits=0&initcwndbps=2311250&mime=video%2Fmp4&mn=sn-ipoxu-u2xe&expire=1473183471&ratebypass=yes&upn=bXFH0FIYRYs&pl=21&id=o-AOk0KXBwnl8xy6MjP022E0vHotQkEMeDJ6sjZzejnJvy&dur=330.048&mm=31&signature=6C4EC66666319C06959DBFFC1594B1E50B92D4C9.41EB72BF478DABB779535B33BD21018608FC112F&sver=3&source=youtube&ms=au&mt=1473161265&mv=m&lmt=1472446202000943&ip=1.160.172.203&ei=j6rOV5HuFIST4AKm5ZLICQ&requiressl=yes&itag=22\n"
     ]
    }
   ],
   "source": [
    "print a['url'][0]\n",
    "import shutil\n",
    "\n",
    "res2 = requests.get(a['url'][0], stream=True)\n",
    "f = open('a.mp4', 'wb')\n",
    "shutil.copyfileobj(res2.raw, f)\n",
    "f.close()"
   ]
  }
 ],
 "metadata": {
  "anaconda-cloud": {},
  "kernelspec": {
   "display_name": "Python [Root]",
   "language": "python",
   "name": "Python [Root]"
  },
  "language_info": {
   "codemirror_mode": {
    "name": "ipython",
    "version": 2
   },
   "file_extension": ".py",
   "mimetype": "text/x-python",
   "name": "python",
   "nbconvert_exporter": "python",
   "pygments_lexer": "ipython2",
   "version": "2.7.12"
  }
 },
 "nbformat": 4,
 "nbformat_minor": 0
}
