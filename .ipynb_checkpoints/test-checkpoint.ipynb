{
 "cells": [
  {
   "cell_type": "markdown",
   "metadata": {},
   "source": [
    "# 161018"
   ]
  },
  {
   "cell_type": "markdown",
   "metadata": {},
   "source": [
    "https://www.facebook.com/dialog/oauth?display=page&redirect_uri=http%3A%2F%2Flocalhost%3A8080%2F&response_type=code&fbconnect=1&from_login=1&client_id=223552287655712#_=_\n",
    "\n",
    "取得權限"
   ]
  },
  {
   "cell_type": "code",
   "execution_count": null,
   "metadata": {
    "collapsed": false
   },
   "outputs": [],
   "source": [
    "import facebook\n",
    "import requests\n",
    "import json\n",
    "import re\n",
    "from bs4 import BeautifulSoup \n"
   ]
  },
  {
   "cell_type": "markdown",
   "metadata": {},
   "source": [
    "取得token\n",
    "https://www.facebook.com/dialog/oauth?client_id=1323041221074517&scope=email,user_birthday&redirect_uri=http://localhost:8001/blog/\n",
    "\n",
    "client_id 應用程式編碼(1323041221074517)\n",
    "\n",
    "scope 請求權限 (email,user_birthday)\n",
    "\n",
    "redirect_uri  返回的網址(http://localhost:8001/blog/)\n",
    "\n",
    "確認後會回到redirect_uri\n",
    "url會多code\n",
    "http://localhost:8001/blog/?code=...\n",
    "\n",
    "https://graph.facebook.com/oauth/access_token?client_id=1323041221074517&\n",
    "redirect_uri=http://localhost:8001/blog/&\n",
    "client_secret=890f10427dd20e221621d7077cc93cd3&\n",
    "code=AQBzATie_tWqdq3ZD1FyxBZt96ECghDQ6L2YIyBqZm-Ka1BLagv24PLwplzKIyBYVr6dPmdY9B7I9s90eUKrLD1FWQkFdPJic2czvSCyp7ei0ryKmIHUjDT3XgzK9WgI93rGmwUbM5-reUuGumf6lQ79cG0hU08ZiwElM0WZjPC0x_s7clWaVEECJxO7O6qWd9TB1pVOFYdJ2vYi4Fq9HpGRW2FOWp5qujFTNdmchmgtaQHzZ7PWKiruogwhkrY_bGaBbDIBdDepE-g0nC9MLfasGouymShlGjSzFm9CpSn2SitGzUyiCAWCQZfnmy9vKniFu8whJycLjZhhUkg4Bk_8#_=_\n",
    "\n",
    "client_secret = 應用程式密鑰(890f10427dd20e221621d7077cc93cd3)\n",
    "access_token=...&expires=5181639(剩餘秒數)"
   ]
  },
  {
   "cell_type": "code",
   "execution_count": null,
   "metadata": {
    "collapsed": true
   },
   "outputs": [],
   "source": [
    "\n",
    "token = \"EAASzTIoBXlUBAE8eIEUVyYNNWhleTwQwZCP3JZAcV6QZB26iyCaUuQzKuP1XT2g4Tck1Ccs7cmVEXqJGcd1yBkceY5mL35GwZArr1IVWbz6c89rkZC7bndu2MpZBldkdTidcWB8lYPmPgVpppbhJXQEZCk5ZCKvOJS4ZC4ArIajlZCVVCZB9k3OHJWd\"\n",
    "useId = '840467622637666'#172973873034707(粉專)840467622637666(me)\n",
    "#token = 'EAACEdEose0cBAOOjeFGy4pNSHjv7U53I94utBnmCZCrVK9EfDodRARdP2gwIffOAc9WvAuTVkxX2HwqwVD6MOmRBRsf36jbqpGp1sR0fGQBr9FOZCCxDtrQ2M2N874gT43PicQO8VT88UiliWTzC1LaFNZABHNCyrQrt7L7XLvLYNJZCtxuyWvgZBEHGk5UkZD'\n",
    "url = 'https://graph.facebook.com/v2.3/{}/posts?access_token={}&debug=all&format=json&method=get&pretty=0&suppress_http_code=1'.format(useId,token)#指令\n",
    "res = requests.get(url)\n",
    "jsonData = json.loads(res.text)"
   ]
  },
  {
   "cell_type": "code",
   "execution_count": null,
   "metadata": {
    "collapsed": false
   },
   "outputs": [],
   "source": [
    "print jsonData"
   ]
  },
  {
   "cell_type": "code",
   "execution_count": null,
   "metadata": {
    "collapsed": false,
    "scrolled": true
   },
   "outputs": [],
   "source": []
  },
  {
   "cell_type": "code",
   "execution_count": null,
   "metadata": {
    "collapsed": false,
    "scrolled": true
   },
   "outputs": [],
   "source": [
    "url = 'http://localhost:8001/blog/'\n",
    "\n",
    "res = requests.get(url)\n",
    "soup = BeautifulSoup(res.text,\"lxml\")\n",
    "print soup"
   ]
  },
  {
   "cell_type": "code",
   "execution_count": null,
   "metadata": {
    "collapsed": false
   },
   "outputs": [],
   "source": [
    "your_token =\"EAASzTV2aEHIBABKUv0ZAOyy6ZBBUIWZCP1Xoi0XMjDEpK5LIsfbpwqZAjEfABs8cdSjmJDwvSJ1Vtwd1pXYqMKcMCBT0D66ubjCCz5oET1xzbiDwKcZBTzceAYp4WbcXEuoQzqgte7kZANZCfFueZAyOqXOZBuRricm1aQEqFGpVbNwZDZD\"\n",
    "graph = facebook.GraphAPI(access_token=your_token, version='2.2')"
   ]
  },
  {
   "cell_type": "code",
   "execution_count": null,
   "metadata": {
    "collapsed": false
   },
   "outputs": [],
   "source": [
    "print graph.access_token"
   ]
  },
  {
   "cell_type": "code",
   "execution_count": null,
   "metadata": {
    "collapsed": false,
    "scrolled": true
   },
   "outputs": [],
   "source": [
    "post = graph.get_object(id='172973873034707_363986097266816')\n",
    "print post.keys()"
   ]
  },
  {
   "cell_type": "code",
   "execution_count": null,
   "metadata": {
    "collapsed": true
   },
   "outputs": [],
   "source": [
    "facebook.json"
   ]
  },
  {
   "cell_type": "code",
   "execution_count": null,
   "metadata": {
    "collapsed": false
   },
   "outputs": [],
   "source": [
    "print post"
   ]
  },
  {
   "cell_type": "code",
   "execution_count": null,
   "metadata": {
    "collapsed": false,
    "scrolled": true
   },
   "outputs": [],
   "source": [
    "graph.get_access_token_from_code(app_id = 1323044771074162,app_secret='A2f4goW8HGi_vKEdPMTXrHXkh1Q')"
   ]
  },
  {
   "cell_type": "code",
   "execution_count": null,
   "metadata": {
    "collapsed": false
   },
   "outputs": [],
   "source": [
    "#post return postId\n",
    "graph.put_object(parent_object='me', connection_name='feed',\n",
    "                 message='Hello, world')\n"
   ]
  },
  {
   "cell_type": "markdown",
   "metadata": {},
   "source": [
    " "
   ]
  },
  {
   "cell_type": "code",
   "execution_count": null,
   "metadata": {
    "collapsed": true
   },
   "outputs": [],
   "source": [
    "import requests\n",
    "import json\n",
    "import re\n",
    "\n",
    "#from bs4 import BeautifulSoup\n"
   ]
  },
  {
   "cell_type": "code",
   "execution_count": null,
   "metadata": {
    "collapsed": true
   },
   "outputs": [],
   "source": []
  },
  {
   "cell_type": "markdown",
   "metadata": {},
   "source": [
    "https://developers.facebook.com/tools/explorer/\n",
    "取token"
   ]
  },
  {
   "cell_type": "code",
   "execution_count": null,
   "metadata": {
    "collapsed": false
   },
   "outputs": [],
   "source": []
  },
  {
   "cell_type": "code",
   "execution_count": null,
   "metadata": {
    "collapsed": true
   },
   "outputs": [],
   "source": []
  },
  {
   "cell_type": "code",
   "execution_count": null,
   "metadata": {
    "collapsed": true
   },
   "outputs": [],
   "source": [
    "\n",
    "#取讚\n",
    "articleId1 = '840467622637666_1356775207673569'\n",
    "token = 'EAACEdEose0cBAK4RUdZConJOZAYo3ZCfWcVoOPJQicPORBai5PGA1rCPDVEmYEzAF6HoiYjprK1PBjYDJ1z9iQLjoEjeZBIXZCuEefKL66APZA4e59DqpUZB5hZALYZADxGFn9cBii8IbXGqqn7pjxBECVh8LBhroOyyQYBOcZARZAvw6MjipsxWoi10Uwffazqqe8ZD'\n",
    "url = 'https://graph.facebook.com/v2.3/{}?access_token={}&debug=all&format=json&method=get&pretty=0&suppress_http_code=1'.format(articleId1,token)\n",
    "\n",
    "res = requests.get(url)\n",
    "jsonData = json.loads(res.text)\n",
    "\n",
    "like_list = []\n",
    "\n",
    "for i in jsonData['likes']['data']:#取按讚\n",
    "    print i\n",
    "    like_list.append(i)\n",
    "print  len(like_list)\n",
    "\n",
    "\n",
    "i=0\n",
    "while (jsonData.has_key('from')):#jsonData.has_key('from')如果出現error傳回flase\n",
    "    \n",
    "    nextPage = jsonData['likes']['paging']['next']\n",
    "    nextRes = requests.get(nextPage)\n",
    "    nextJsonData = json.loads(nextRes.text)\n",
    "    \n",
    "    print nextJsonData.keys()\n",
    "    \n",
    "    for j in nextJsonData['data']:#取按讚\n",
    "        print j\n",
    "        like_list.append(j)\n",
    "    print  len(like_list)\n",
    "    \n",
    "    if(jsonData['likes']['paging'].has_key('next')):     # 找不到下一頁中止迴圈\n",
    "        print 'error : ant find \"next\"'\n",
    "        break \n"
   ]
  },
  {
   "cell_type": "code",
   "execution_count": null,
   "metadata": {
    "collapsed": false,
    "scrolled": true
   },
   "outputs": [],
   "source": [
    "\n",
    "#paging_token = []#頁面列表\n",
    "article_id = [] #文章ID\n",
    "useId = '840467622637666'#172973873034707(粉專)840467622637666(me)\n",
    "token = 'EAACEdEose0cBAOOjeFGy4pNSHjv7U53I94utBnmCZCrVK9EfDodRARdP2gwIffOAc9WvAuTVkxX2HwqwVD6MOmRBRsf36jbqpGp1sR0fGQBr9FOZCCxDtrQ2M2N874gT43PicQO8VT88UiliWTzC1LaFNZABHNCyrQrt7L7XLvLYNJZCtxuyWvgZBEHGk5UkZD'\n",
    "url = 'https://graph.facebook.com/v2.3/{}/posts?access_token={}&debug=all&format=json&method=get&pretty=0&suppress_http_code=1'.format(useId,token)#指令\n",
    "res = requests.get(url)\n",
    "jsonData = json.loads(res.text)\n",
    "\n",
    "count=0\n",
    "\n",
    "#是否重複?!!\n",
    "for i in jsonData['data']:\n",
    "        article_id.append(i['id'])#第一頁取文章ID\n",
    "        count+=1\n",
    "print count\n",
    "\n",
    "i=0\n",
    "while (i<3):#jsonData.has_key('data')如果出現error傳回flase\n",
    "    \n",
    "    \n",
    "    \n",
    "    \n",
    "    pagingNext = jsonData['paging']['next']\n",
    "    res = requests.get(pagingNext)\n",
    "    nextJsonData = json.loads(res.text)\n",
    "    \n",
    "    #是否重複?!!\n",
    "    count=0\n",
    "    for j in nextJsonData['data']:\n",
    "        article_id.append(j['id'])#換頁取文章ID\n",
    "        count+=1\n",
    "    print count\n",
    "    i+=1\n",
    "\n",
    "\n",
    "\n",
    "\n"
   ]
  },
  {
   "cell_type": "code",
   "execution_count": null,
   "metadata": {
    "collapsed": false
   },
   "outputs": [],
   "source": [
    "print article_id"
   ]
  },
  {
   "cell_type": "markdown",
   "metadata": {},
   "source": [
    "# token "
   ]
  },
  {
   "cell_type": "code",
   "execution_count": null,
   "metadata": {
    "collapsed": false
   },
   "outputs": [],
   "source": [
    "#sdk\n",
    "import requests\n",
    "def get_fb_token(app_id, app_secret):           \n",
    "    payload = {'grant_type': 'client_credentials', 'client_id': app_id, 'client_secret': app_secret}\n",
    "    file = requests.post('https://graph.facebook.com/oauth/access_token?', params = payload)\n",
    "    #print file.text #to test what the FB api responded with    \n",
    "    result = file.text.split(\"=\")[1]\n",
    "    #print file.text #to test the TOKEN\n",
    "    return result\n",
    "#get_fb_token('1323041221074517','890f10427dd20e221621d7077cc93cd3')"
   ]
  }
 ],
 "metadata": {
  "anaconda-cloud": {},
  "kernelspec": {
   "display_name": "Python [Root]",
   "language": "python",
   "name": "Python [Root]"
  },
  "language_info": {
   "codemirror_mode": {
    "name": "ipython",
    "version": 2
   },
   "file_extension": ".py",
   "mimetype": "text/x-python",
   "name": "python",
   "nbconvert_exporter": "python",
   "pygments_lexer": "ipython2",
   "version": "2.7.12"
  }
 },
 "nbformat": 4,
 "nbformat_minor": 0
}
