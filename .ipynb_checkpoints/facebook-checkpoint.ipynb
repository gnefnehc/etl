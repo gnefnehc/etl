{
 "cells": [
  {
   "cell_type": "code",
   "execution_count": null,
   "metadata": {
    "collapsed": false
   },
   "outputs": [],
   "source": [
    "import requests\n",
    "import json"
   ]
  },
  {
   "cell_type": "code",
   "execution_count": null,
   "metadata": {
    "collapsed": false
   },
   "outputs": [],
   "source": [
    "def get_next(url):\n",
    "    res = requests.get(url)\n",
    "    jsonData = json.loads(res.text)\n",
    "    nextPage = jsonData['paging']['next']\n",
    "    return  nextPage"
   ]
  },
  {
   "cell_type": "code",
   "execution_count": null,
   "metadata": {
    "collapsed": false,
    "scrolled": true
   },
   "outputs": [],
   "source": [
    "\n",
    "token = 'EAACEdEose0cBAGvnZALZCFWRCxjCDtrijz3CahWC5Y9dapJq4H4BmC4EfjZAW1r2PsmQSQ19ZCyA60zQPQZCOCWbiIldA46KeHLUxpZCQ9rFJn50Cn2rkmmb6nX9Jtm8jlW6HTa0B5Rt8hJAfJN6o11gN1WeYyzoqSNHZCuS9LPNKSnKbZBtxpvLFrCrMP8emcMZD'\n",
    "url = 'https://graph.facebook.com/v2.1/{}?access_token='.format('me/posts')#指令\n",
    "res = requests.get(url+token)\n",
    "\n",
    "jsonData = json.loads(res.text)\n",
    "#print jsonData\n",
    "nextPage = jsonData['paging']['next']#下一頁\n",
    "\n",
    "\n",
    "url_list=[]\n",
    "url_list.append(nextPage)\n",
    "i=0\n",
    "while(i<999999999):\n",
    "    i+=1\n",
    "    print i\n",
    "    num = len(url_list)-1\n",
    "    try:\n",
    "        url_list.append(get_next(url_list[num]))\n",
    "    except:\n",
    "        i=999999999\n",
    "        print '結束'"
   ]
  },
  {
   "cell_type": "code",
   "execution_count": null,
   "metadata": {
    "collapsed": false,
    "scrolled": true
   },
   "outputs": [],
   "source": [
    "ccc=0\n",
    "for url in url_list:\n",
    "    print ccc\n",
    "    print url\n",
    "    ccc+=1"
   ]
  }
 ],
 "metadata": {
  "anaconda-cloud": {},
  "kernelspec": {
   "display_name": "Python [Root]",
   "language": "python",
   "name": "Python [Root]"
  },
  "language_info": {
   "codemirror_mode": {
    "name": "ipython",
    "version": 2
   },
   "file_extension": ".py",
   "mimetype": "text/x-python",
   "name": "python",
   "nbconvert_exporter": "python",
   "pygments_lexer": "ipython2",
   "version": "2.7.12"
  }
 },
 "nbformat": 4,
 "nbformat_minor": 0
}
