{
 "cells": [
  {
   "cell_type": "markdown",
   "metadata": {},
   "source": [
    "# 161018"
   ]
  },
  {
   "cell_type": "markdown",
   "metadata": {},
   "source": [
    "https://www.facebook.com/dialog/oauth?display=page&redirect_uri=http%3A%2F%2Flocalhost%3A8080%2F&response_type=code&fbconnect=1&from_login=1&client_id=223552287655712#_=_\n",
    "\n",
    "取得權限"
   ]
  },
  {
   "cell_type": "markdown",
   "metadata": {},
   "source": [
    "取得token\n",
    "scope =(email,user_hometown,user_religion_politics,publish_actions,user_likes,user_status,user_about_me,user_location,user_tagged_places,user_birthday,user_photos,user_videos,user_education_history,user_posts,user_website,user_friends,user_relationship_details,user_work_history,user_games_activity,user_relationships)\n",
    "\n",
    "https://www.facebook.com/dialog/oauth?client_id=1323041221074517&scope=email,user_hometown,user_religion_politics,publish_actions,user_likes,user_status,user_about_me,user_location,user_tagged_places,user_birthday,user_photos,user_videos,user_education_history,user_posts,user_website,user_friends,user_relationship_details,user_work_history,user_games_activity,user_relationships&redirect_uri=http://localhost:8001/blog/\n",
    "\n",
    "client_id 應用程式編碼(1323041221074517)\n",
    "\n",
    "scope 請求權限 (email,user_birthday)\n",
    "\n",
    "redirect_uri  返回的網址(http://localhost:8001/blog/)\n",
    "\n",
    "確認後會回到redirect_uri\n",
    "url會多code\n",
    "http://localhost:8001/blog/?code=...\n",
    "\n",
    "https://graph.facebook.com/oauth/access_token?client_id=1323041221074517&redirect_uri=http://localhost:8001/blog/&client_secret=890f10427dd20e221621d7077cc93cd3&code=\n",
    "AQBoRBt9oDdsXHE5d1izAKezXZukIhOD_z9QARcmfF0Ry9N7gE3m6LOWU5i9S_dlDvUCwQFXlH2djuj50wtCDgCmwhjlDzgZLaav0MDH_y5paJisY1UU-6zbYQOioHROGbcut8IWsfM_CZhzMMs-HtT3Pke8Xvg0tNZqXJTVUl0GL-l_4lscp_6VvgmfJyWgIsCM3UO7Y2Wd31-QGneccDxhBNHHB-pIYlrPiTC5WnsQ63QhlzgB9q7DiaVGiIk8wRUCPqrJVo3AxAXgeYoKtWuWhDAWVP9AH8PxqIF6cwOSzkrERxZuX-sJ4T0gnrRTFBVE7HNT-z4lTU_eL0z6xN--#_=_\n",
    "\n",
    "client_secret = 應用程式密鑰(890f10427dd20e221621d7077cc93cd3)\n",
    "access_token=...&expires=5181639(剩餘秒數)\n",
    "\n",
    "指令:me?fields=likes{about,category}(屬於哪種類型的網頁)"
   ]
  },
  {
   "cell_type": "code",
   "execution_count": 1,
   "metadata": {
    "collapsed": false
   },
   "outputs": [],
   "source": [
    "\n",
    "import requests\n",
    "import json\n",
    "import re\n",
    "\n",
    "token = 'EAASzTIoBXlUBAAf8ZAijGsiT71vSEWdvNRU3AG7LvAkKxdMroDkMBP0YnmBYMJzl1o9cAZAbCenZBEIZBKCMwprNvU6mQKGZCeBCSXQYmILC33kZAdZBkbdhB0SHoxugBoeJu8h7jhOhEJT8q4F7Lg5h1UeH6aVtyPRt4a8tri38GnhHlyuy3SY'\n",
    "claim = 'fields=likes{name,category}'\n",
    "url = 'https://graph.facebook.com/v2.3/me?access_token={token}&debug=all&{claim}&format=json&method=get&pretty=0&suppress_http_code=1'.format(token=token,claim=claim)#指令\n",
    "\n",
    "\n",
    "\n",
    "\n",
    "\n",
    "res = requests.get(url)\n",
    "jsonData = json.loads(res.text)"
   ]
  },
  {
   "cell_type": "code",
   "execution_count": 3,
   "metadata": {
    "collapsed": false,
    "scrolled": false
   },
   "outputs": [
    {
     "name": "stdout",
     "output_type": "stream",
     "text": [
      "[u'__debug__', u'likes', u'id']\n",
      "[u'paging', u'data']\n",
      "[u'category', u'name', u'id']\n",
      "{u'category': u'Professional Service', u'name': u'\\u7c89\\u7d05\\u55b5\\u5973\\u523a\\u9752\\u5e2bPink Meow Tattoo', u'id': u'692877420771730'}\n",
      "Professional Service\n",
      "粉紅喵女刺青師Pink Meow Tattoo\n",
      "\n",
      "*/-*/-*/-*/-*/-*/-*/-*/-*/-*/-*/-*/-*/-*/-*/-*/-*/-*/-*/-*/-*/-*/-*/-*/-*/-*/-*/-*/-*/-*/-*/-*/-*/-*/-*/-*/-*/-*/-*/-*/-\n",
      "\n",
      "Officina Parallela 2.0 #360\n",
      "Sports Venue & Stadium\n",
      "\n",
      "粉紅喵女刺青師Pink Meow Tattoo\n",
      "Professional Service\n",
      "\n",
      "轉動藝術 攝影工作室\n",
      "Photographer\n",
      "\n",
      "vonvon.me\n",
      "Entertainment Website\n",
      "\n",
      "18 Taichung\n",
      "Club\n",
      "\n",
      "將軍 Steven\n",
      "Public Figure\n",
      "\n",
      "iask.tw\n",
      "Internet/Software\n",
      "\n",
      "冒險與挖礦 ﹣ 正版授權手遊\n",
      "App Page\n",
      "\n",
      "南港7條蛇2.0\n",
      "Arts & Entertainment\n",
      "\n",
      "爆笑禁區\n",
      "Media/News/Publishing\n",
      "\n",
      "Funpepper Taiwan\n",
      "Website\n",
      "\n",
      "女人心\n",
      "Website\n",
      "\n",
      "QoolQuiz Taiwan\n",
      "Media/News/Publishing\n",
      "\n",
      "BugCat-Capoo\n",
      "Pet\n",
      "\n",
      "扔紙團 Paper toss\n",
      "Personal Blog\n",
      "\n",
      "黄色笑话\n",
      "Just For Fun\n",
      "\n",
      "111%\n",
      "Video Game\n",
      "\n",
      "永業機車行\n",
      "Local Business\n",
      "\n",
      "測一下不用錢\n",
      "Media/News/Publishing\n",
      "\n",
      "英雄聯盟\n",
      "Video Game\n",
      "\n",
      "亞洲01\n",
      "Media/News/Publishing\n",
      "\n",
      "CLAID克雷德-頭份尚順店\n",
      "Shopping/Retail\n",
      "\n",
      "EVERYTOWN\n",
      "App Page\n",
      "\n",
      "翔の飛行屋美國代買、美國代購\n",
      "Product/Service\n",
      "\n",
      "測驗好好玩\n",
      "Media/News/Publishing\n"
     ]
    }
   ],
   "source": [
    "#取得按過讚的內容(name,category)\n",
    "print jsonData.keys()\n",
    "print jsonData['likes'].keys()\n",
    "print jsonData['likes']['data'][1].keys()\n",
    "print jsonData['likes']['data'][1]\n",
    "print jsonData['likes']['data'][1]['category']\n",
    "print jsonData['likes']['data'][1]['name']\n",
    "\n",
    "\n",
    "print \n",
    "print  '*/-'*40\n",
    "for i in jsonData['likes']['data']:\n",
    "    print ''\n",
    "    print i['name']\n",
    "    print i['category']"
   ]
  },
  {
   "cell_type": "markdown",
   "metadata": {},
   "source": [
    "\n",
    "\n",
    "\n"
   ]
  },
  {
   "cell_type": "code",
   "execution_count": null,
   "metadata": {
    "collapsed": true
   },
   "outputs": [],
   "source": [
    "import requests\n",
    "import json\n",
    "import re\n",
    "\n",
    "#from bs4 import BeautifulSoup\n"
   ]
  },
  {
   "cell_type": "code",
   "execution_count": null,
   "metadata": {
    "collapsed": true
   },
   "outputs": [],
   "source": []
  },
  {
   "cell_type": "markdown",
   "metadata": {},
   "source": [
    "https://developers.facebook.com/tools/explorer/\n",
    "取token"
   ]
  },
  {
   "cell_type": "code",
   "execution_count": null,
   "metadata": {
    "collapsed": false
   },
   "outputs": [],
   "source": []
  },
  {
   "cell_type": "code",
   "execution_count": null,
   "metadata": {
    "collapsed": true
   },
   "outputs": [],
   "source": []
  },
  {
   "cell_type": "code",
   "execution_count": null,
   "metadata": {
    "collapsed": true
   },
   "outputs": [],
   "source": [
    "\n",
    "#取讚\n",
    "articleId1 = '840467622637666_1356775207673569'\n",
    "token = 'EAACEdEose0cBAK4RUdZConJOZAYo3ZCfWcVoOPJQicPORBai5PGA1rCPDVEmYEzAF6HoiYjprK1PBjYDJ1z9iQLjoEjeZBIXZCuEefKL66APZA4e59DqpUZB5hZALYZADxGFn9cBii8IbXGqqn7pjxBECVh8LBhroOyyQYBOcZARZAvw6MjipsxWoi10Uwffazqqe8ZD'\n",
    "url = 'https://graph.facebook.com/v2.3/{}?access_token={}&debug=all&format=json&method=get&pretty=0&suppress_http_code=1'.format(articleId1,token)\n",
    "\n",
    "res = requests.get(url)\n",
    "jsonData = json.loads(res.text)\n",
    "\n",
    "like_list = []\n",
    "\n",
    "for i in jsonData['likes']['data']:#取按讚\n",
    "    print i\n",
    "    like_list.append(i)\n",
    "print  len(like_list)\n",
    "\n",
    "\n",
    "i=0\n",
    "while (jsonData.has_key('from')):#jsonData.has_key('from')如果出現error傳回flase\n",
    "    \n",
    "    nextPage = jsonData['likes']['paging']['next']\n",
    "    nextRes = requests.get(nextPage)\n",
    "    nextJsonData = json.loads(nextRes.text)\n",
    "    \n",
    "    print nextJsonData.keys()\n",
    "    \n",
    "    for j in nextJsonData['data']:#取按讚\n",
    "        print j\n",
    "        like_list.append(j)\n",
    "    print  len(like_list)\n",
    "    \n",
    "    if(jsonData['likes']['paging'].has_key('next')):     # 找不到下一頁中止迴圈\n",
    "        print 'error : ant find \"next\"'\n",
    "        break \n"
   ]
  },
  {
   "cell_type": "code",
   "execution_count": null,
   "metadata": {
    "collapsed": false,
    "scrolled": true
   },
   "outputs": [],
   "source": [
    "\n",
    "#paging_token = []#頁面列表\n",
    "article_id = [] #文章ID\n",
    "useId = '840467622637666'#172973873034707(粉專)840467622637666(me)\n",
    "token = 'EAACEdEose0cBAOOjeFGy4pNSHjv7U53I94utBnmCZCrVK9EfDodRARdP2gwIffOAc9WvAuTVkxX2HwqwVD6MOmRBRsf36jbqpGp1sR0fGQBr9FOZCCxDtrQ2M2N874gT43PicQO8VT88UiliWTzC1LaFNZABHNCyrQrt7L7XLvLYNJZCtxuyWvgZBEHGk5UkZD'\n",
    "url = 'https://graph.facebook.com/v2.3/{}/posts?access_token={}&debug=all&format=json&method=get&pretty=0&suppress_http_code=1'.format(useId,token)#指令\n",
    "res = requests.get(url)\n",
    "jsonData = json.loads(res.text)\n",
    "\n",
    "count=0\n",
    "\n",
    "#是否重複?!!\n",
    "for i in jsonData['data']:\n",
    "        article_id.append(i['id'])#第一頁取文章ID\n",
    "        count+=1\n",
    "print count\n",
    "\n",
    "i=0\n",
    "while (i<3):#jsonData.has_key('data')如果出現error傳回flase\n",
    "    \n",
    "    \n",
    "    \n",
    "    \n",
    "    pagingNext = jsonData['paging']['next']\n",
    "    res = requests.get(pagingNext)\n",
    "    nextJsonData = json.loads(res.text)\n",
    "    \n",
    "    #是否重複?!!\n",
    "    count=0\n",
    "    for j in nextJsonData['data']:\n",
    "        article_id.append(j['id'])#換頁取文章ID\n",
    "        count+=1\n",
    "    print count\n",
    "    i+=1\n",
    "\n",
    "\n",
    "\n",
    "\n"
   ]
  },
  {
   "cell_type": "code",
   "execution_count": null,
   "metadata": {
    "collapsed": false
   },
   "outputs": [],
   "source": [
    "print article_id"
   ]
  },
  {
   "cell_type": "markdown",
   "metadata": {},
   "source": [
    "# token "
   ]
  },
  {
   "cell_type": "code",
   "execution_count": null,
   "metadata": {
    "collapsed": false
   },
   "outputs": [],
   "source": [
    "#sdk\n",
    "import requests\n",
    "def get_fb_token(app_id, app_secret):           \n",
    "    payload = {'grant_type': 'client_credentials', 'client_id': app_id, 'client_secret': app_secret}\n",
    "    file = requests.post('https://graph.facebook.com/oauth/access_token?', params = payload)\n",
    "    #print file.text #to test what the FB api responded with    \n",
    "    result = file.text.split(\"=\")[1]\n",
    "    #print file.text #to test the TOKEN\n",
    "    return result\n",
    "#get_fb_token('1323041221074517','890f10427dd20e221621d7077cc93cd3')"
   ]
  }
 ],
 "metadata": {
  "anaconda-cloud": {},
  "kernelspec": {
   "display_name": "Python [Root]",
   "language": "python",
   "name": "Python [Root]"
  },
  "language_info": {
   "codemirror_mode": {
    "name": "ipython",
    "version": 2
   },
   "file_extension": ".py",
   "mimetype": "text/x-python",
   "name": "python",
   "nbconvert_exporter": "python",
   "pygments_lexer": "ipython2",
   "version": "2.7.12"
  }
 },
 "nbformat": 4,
 "nbformat_minor": 0
}
