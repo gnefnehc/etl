{
 "cells": [
  {
   "cell_type": "code",
   "execution_count": 3,
   "metadata": {
    "collapsed": false
   },
   "outputs": [],
   "source": [
    "import jieba"
   ]
  },
  {
   "cell_type": "code",
   "execution_count": 5,
   "metadata": {
    "collapsed": false
   },
   "outputs": [],
   "source": [
    "ret = open(\"jieba.txt\", \"r\").read()\n",
    "seglist = jieba.cut(ret, cut_all=False)"
   ]
  },
  {
   "cell_type": "code",
   "execution_count": 6,
   "metadata": {
    "collapsed": false
   },
   "outputs": [
    {
     "data": {
      "text/plain": [
       "<generator object cut at 0x0000000003D0C480>"
      ]
     },
     "execution_count": 6,
     "metadata": {},
     "output_type": "execute_result"
    }
   ],
   "source": [
    "seglist"
   ]
  },
  {
   "cell_type": "code",
   "execution_count": 11,
   "metadata": {
    "collapsed": false
   },
   "outputs": [
    {
     "name": "stdout",
     "output_type": "stream",
     "text": [
      "Input： 獨立音樂需要大家一起來推廣，歡迎加入我們的行列！\n",
      "Output 精確模式 Full Mode：\n",
      "獨立\n",
      "音樂\n",
      "需要\n",
      "大家\n",
      "一起\n",
      "來\n",
      "推廣\n",
      "，\n",
      "歡迎\n",
      "加入\n",
      "我們\n",
      "的\n",
      "行列\n",
      "！\n"
     ]
    }
   ],
   "source": [
    "import jieba\n",
    "ret = open(\"jieba.txt\", \"r\").read()\n",
    "\n",
    "sentence = \"獨立音樂需要大家一起來推廣，歡迎加入我們的行列！\"\n",
    "print \"Input：\", sentence\n",
    "words = jieba.cut(sentence, cut_all=False)\n",
    "print \"Output 精確模式 Full Mode：\"\n",
    "for word in words:\n",
    "    print word\n"
   ]
  },
  {
   "cell_type": "code",
   "execution_count": 12,
   "metadata": {
    "collapsed": false
   },
   "outputs": [
    {
     "name": "stdout",
     "output_type": "stream",
     "text": [
      "Input： 独立音乐需要大家一起来推广，欢迎加入我们的行列！\n",
      "Output 精確模式 Full Mode：\n",
      "独立\n",
      "音乐\n",
      "需要\n",
      "大家\n",
      "一\n",
      "起来\n",
      "推广\n",
      "，\n",
      "欢迎\n",
      "加入\n",
      "我们\n",
      "的\n",
      "行列\n",
      "！\n"
     ]
    }
   ],
   "source": [
    "sentence = \"独立音乐需要大家一起来推广，欢迎加入我们的行列！\"\n",
    "print \"Input：\", sentence\n",
    "words = jieba.cut(sentence, cut_all=False)\n",
    "print \"Output 精確模式 Full Mode：\"\n",
    "for word in words:\n",
    "    print word"
   ]
  },
  {
   "cell_type": "code",
   "execution_count": null,
   "metadata": {
    "collapsed": true
   },
   "outputs": [],
   "source": []
  }
 ],
 "metadata": {
  "kernelspec": {
   "display_name": "Python [Root]",
   "language": "python",
   "name": "Python [Root]"
  },
  "language_info": {
   "codemirror_mode": {
    "name": "ipython",
    "version": 2
   },
   "file_extension": ".py",
   "mimetype": "text/x-python",
   "name": "python",
   "nbconvert_exporter": "python",
   "pygments_lexer": "ipython2",
   "version": "2.7.12"
  }
 },
 "nbformat": 4,
 "nbformat_minor": 0
}
