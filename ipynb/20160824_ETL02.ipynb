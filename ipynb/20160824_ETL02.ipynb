{
 "cells": [
  {
   "cell_type": "code",
   "execution_count": null,
   "metadata": {
    "collapsed": true
   },
   "outputs": [],
   "source": [
    "# Obect Oriented Programming review\n",
    "# Class\n",
    "# Object\n",
    "# method\n",
    "# attribute"
   ]
  },
  {
   "cell_type": "markdown",
   "metadata": {},
   "source": [
    "Web概念介紹\n",
    "---\n",
    "常用的HTTP四個動詞\n",
    "- GET（查）\n",
    "- POST（增）\n",
    "- PUT（改）\n",
    "- DELETE（刪）\n",
    "\n",
    "HTTP狀態碼\n",
    "---\n",
    "- 200 用來表示請求成功.\n",
    "- 300 來表示重定向.\n",
    "- 400 用來表示請求出現問題.\n",
    "- 500 用來表示伺服器出現問題.\n",
    "\n",
    "#### 常用的HTTP狀態碼\n",
    "- 200 成功 （OK）\n",
    "- 404 沒有找到 （Not Found）\n",
    "- 401 未經授權 （Unauthorized）\n",
    "- 403 被禁止（Forbidden）\n",
    "- 302（或307）臨時移動（Moved Temporarily） 和 301 永久移動（Moved Permanently）\n",
    "- 500 伺服器錯誤（Internal Server Error）\n",
    "\n",
    "#### 來看看實際上的HTTP headers\n",
    "- 好用的工具 -> chrome dev tools\n",
    "\n",
    "#### Session\n",
    "通常為server side狀態\n",
    "\n",
    "#### Cookie\n",
    "通常為client side狀態\n",
    "\n",
    "REST(Representational State Transfer) API\n",
    "---\n",
    "- 資源是由URI來指定。\n",
    "- 對資源的操作包括獲取、創建、修改和刪除資源，這些操作正好對應HTTP協議提供的GET、POST、PUT和DELETE方法。\n",
    "- 通過操作資源的表現形式來操作資源。\n",
    "- 資源的表現形式則是XML或者HTML，取決於讀者是機器還是人，是消費web服務的客戶軟體還是web瀏覽器。當然也可以是任何其他的格式。\n",
    "\n",
    "### REST的要求\n",
    "- 客戶端和伺服器結構\n",
    "- 連接協議具有無狀態性\n",
    "- 能夠利用Cache機制增進性能\n",
    "- 一致性的操作界面\n",
    "- 層次化的系統\n",
    "\n",
    "![REST_API](http://blog.ciaranoconnor.me/content/images/2016/02/RESTful-API-design-1014x457.jpg)\n",
    "\n",
    "JSON(JavaScript Object Notation)\n",
    "---\n",
    "<pre>\n",
    "{\n",
    "     \"firstName\": \"John\",\n",
    "     \"lastName\": \"Smith\",\n",
    "     \"sex\": \"male\",\n",
    "     \"age\": 25,\n",
    "     \"address\": \n",
    "     {\n",
    "         \"streetAddress\": \"21 2nd Street\",\n",
    "         \"city\": \"New York\",\n",
    "         \"state\": \"NY\",\n",
    "         \"postalCode\": \"10021\"\n",
    "     },\n",
    "     \"phoneNumber\": \n",
    "     [\n",
    "         {\n",
    "           \"type\": \"home\",\n",
    "           \"number\": \"212 555-1234\"\n",
    "         },\n",
    "         {\n",
    "           \"type\": \"fax\",\n",
    "           \"number\": \"646 555-4567\"\n",
    "         }\n",
    "     ]\n",
    "}\n",
    "</pre>"
   ]
  },
  {
   "cell_type": "raw",
   "metadata": {},
   "source": [
    "HTML\n",
    "---\n",
    "<raw>\n",
    "<!DOCTYPE html>\n",
    " <html>\n",
    "   <head>\n",
    "     <title>這是標題</title>\n",
    "   </head>\n",
    "   <body>\n",
    "     <p>Hello world!</p>\n",
    "   </body>\n",
    " </html>\n",
    "</raw>"
   ]
  },
  {
   "cell_type": "markdown",
   "metadata": {},
   "source": [
    "## Chrome Dev Tools"
   ]
  },
  {
   "cell_type": "markdown",
   "metadata": {},
   "source": [
    "Python modules\n",
    "---\n",
    "有多種調用python module的方法，根據使用情境以及環境選擇最佳的一種。"
   ]
  },
  {
   "cell_type": "code",
   "execution_count": 2,
   "metadata": {
    "collapsed": false
   },
   "outputs": [],
   "source": [
    "import requests # requests.get()\n",
    "import requests as r # r.get()\n",
    "from requests import get # get\n",
    "#from requests import * # get, post..."
   ]
  },
  {
   "cell_type": "code",
   "execution_count": 3,
   "metadata": {
    "collapsed": false
   },
   "outputs": [],
   "source": [
    "res = requests.get('https://google.com')"
   ]
  },
  {
   "cell_type": "code",
   "execution_count": 4,
   "metadata": {
    "collapsed": false
   },
   "outputs": [
    {
     "data": {
      "text/plain": [
       "requests.models.Response"
      ]
     },
     "execution_count": 4,
     "metadata": {},
     "output_type": "execute_result"
    }
   ],
   "source": [
    "# 使用type()來檢視回傳的形態\n",
    "type(res)"
   ]
  },
  {
   "cell_type": "code",
   "execution_count": 5,
   "metadata": {
    "collapsed": false
   },
   "outputs": [
    {
     "data": {
      "text/plain": [
       "['__attrs__',\n",
       " '__bool__',\n",
       " '__class__',\n",
       " '__delattr__',\n",
       " '__dict__',\n",
       " '__doc__',\n",
       " '__format__',\n",
       " '__getattribute__',\n",
       " '__getstate__',\n",
       " '__hash__',\n",
       " '__init__',\n",
       " '__iter__',\n",
       " '__module__',\n",
       " '__new__',\n",
       " '__nonzero__',\n",
       " '__reduce__',\n",
       " '__reduce_ex__',\n",
       " '__repr__',\n",
       " '__setattr__',\n",
       " '__setstate__',\n",
       " '__sizeof__',\n",
       " '__str__',\n",
       " '__subclasshook__',\n",
       " '__weakref__',\n",
       " '_content',\n",
       " '_content_consumed',\n",
       " 'apparent_encoding',\n",
       " 'close',\n",
       " 'connection',\n",
       " 'content',\n",
       " 'cookies',\n",
       " 'elapsed',\n",
       " 'encoding',\n",
       " 'headers',\n",
       " 'history',\n",
       " 'is_permanent_redirect',\n",
       " 'is_redirect',\n",
       " 'iter_content',\n",
       " 'iter_lines',\n",
       " 'json',\n",
       " 'links',\n",
       " 'ok',\n",
       " 'raise_for_status',\n",
       " 'raw',\n",
       " 'reason',\n",
       " 'request',\n",
       " 'status_code',\n",
       " 'text',\n",
       " 'url']"
      ]
     },
     "execution_count": 5,
     "metadata": {},
     "output_type": "execute_result"
    }
   ],
   "source": [
    "# 使用dir()查看可用的attributes與methods\n",
    "dir(res)"
   ]
  },
  {
   "cell_type": "code",
   "execution_count": 6,
   "metadata": {
    "collapsed": false,
    "scrolled": true
   },
   "outputs": [
    {
     "data": {
      "text/plain": [
       "u'<!doctype html><html itemscope=\"\" itemtype=\"http://schema.org/WebPage\" lang=\"zh-TW\"><head><meta content=\"text/html; charset=UTF-8\" http-equiv=\"Content-Type\"><meta content=\"/images/branding/googleg/1x/googleg_standard_color_128dp.png\" itemprop=\"image\"><title>Google</title><script>(function(){window.google={kEI:\\'TEXIV6XbHMKz0gScxYyQBQ\\',kEXPI:\\'750671,1351586,2073312,3700299,4028875,4029815,4031109,4032677,4036509,4036527,4038012,4039268,4043492,4045841,4048347,4052304,4061155,4061945,4062702,4063879,4065787,4065793,4066654,4066708,4067175,4067860,4068472,4068550,4068816,4069839,4069841,4069907,4070060,4070127,4071230,4071593,4071604,4071842,4072289,4072364,4072602,4072682,4072777,4073229,4073250,4073405,4073408,4073727,4073959,4073980,4074349,4074801,4075444,4075782,4075788,4075860,4075966,4075974,4076096,4076116,4076221,4076542,4076857,4076931,4077219,4077221,4077280,4077622,4077964,4078175,8300272,8502184,8503585,8504846,8505150,8505152,8505586,8505789,8505816,8506585,10200083\\',authuser:0,kscs:\\'c9c918f0_24\\'};google.kHL=\\'zh-TW\\';})();(function(){google.lc=[];google.li=0;google.getEI=function(a){for(var b;a&&(!a.getAttribute||!(b=a.getAttribute(\"eid\")));)a=a.parentNode;return b||google.kEI};google.getLEI=function(a){for(var b=null;a&&(!a.getAttribute||!(b=a.getAttribute(\"leid\")));)a=a.parentNode;return b};google.https=function(){return\"https:\"==window.location.protocol};google.ml=function(){return null};google.wl=function(a,b){try{google.ml(Error(a),!1,b)}catch(c){}};google.time=function(){return(new Date).getTime()};google.log=function(a,b,c,e,g){a=google.logUrl(a,b,c,e,g);if(\"\"!=a){b=new Image;var d=google.lc,f=google.li;d[f]=b;b.onerror=b.onload=b.onabort=function(){delete d[f]};window.google&&window.google.vel&&window.google.vel.lu&&window.google.vel.lu(a);b.src=a;google.li=f+1}};google.logUrl=function(a,b,c,e,g){var d=\"\",f=google.ls||\"\";if(!c&&-1==b.search(\"&ei=\")){var h=google.getEI(e),d=\"&ei=\"+h;-1==b.search(\"&lei=\")&&((e=google.getLEI(e))?d+=\"&lei=\"+e:h!=google.kEI&&(d+=\"&lei=\"+google.kEI))}a=c||\"/\"+(g||\"gen_204\")+\"?atyp=i&ct=\"+a+\"&cad=\"+b+d+f+\"&zx=\"+google.time();/^http:/i.test(a)&&google.https()&&(google.ml(Error(\"a\"),!1,{src:a,glmm:1}),a=\"\");return a};google.y={};google.x=function(a,b){google.y[a.id]=[a,b];return!1};google.load=function(a,b,c){google.x({id:a+k++},function(){google.load(a,b,c)})};var k=0;})();var _gjwl=location;function _gjuc(){var a=_gjwl.href.indexOf(\"#\");if(0<=a&&(a=_gjwl.href.substring(a),0<a.indexOf(\"&q=\")||0<=a.indexOf(\"#q=\"))&&(a=a.substring(1),-1==a.indexOf(\"#\"))){for(var d=0;d<a.length;){var b=d;\"&\"==a.charAt(b)&&++b;var c=a.indexOf(\"&\",b);-1==c&&(c=a.length);b=a.substring(b,c);if(0==b.indexOf(\"fp=\"))a=a.substring(0,d)+a.substring(c,a.length),c=d;else if(\"cad=h\"==b)return 0;d=c}_gjwl.href=\"/search?\"+a+\"&cad=h\";return 1}return 0}\\nfunction _gjh(){!_gjuc()&&window.google&&google.x&&google.x({id:\"GJH\"},function(){google.nav&&google.nav.gjh&&google.nav.gjh()})};window._gjh&&_gjh();</script><style>#gbar,#guser{font-size:13px;padding-top:1px !important;}#gbar{height:22px}#guser{padding-bottom:7px !important;text-align:right}.gbh,.gbd{border-top:1px solid #c9d7f1;font-size:1px}.gbh{height:0;position:absolute;top:24px;width:100%}@media all{.gb1{height:22px;margin-right:.5em;vertical-align:top}#gbar{float:left}}a.gb1,a.gb4{text-decoration:underline !important}a.gb1,a.gb4{color:#00c !important}.gbi .gb4{color:#dd8e27 !important}.gbf .gb4{color:#900 !important}\\n</style><style>body,td,a,p,.h{font-family:arial,sans-serif}body{margin:0;overflow-y:scroll}#gog{padding:3px 8px 0}td{line-height:.8em}.gac_m td{line-height:17px}form{margin-bottom:20px}.h{color:#36c}.q{color:#00c}.ts td{padding:0}.ts{border-collapse:collapse}em{color:#c03;font-style:normal;font-weight:normal}a em{text-decoration:underline}.lst{height:25px;width:496px}.gsfi,.lst{font:18px arial,sans-serif}.gsfs{font:17px arial,sans-serif}.ds{display:inline-box;display:inline-block;margin:3px 0 4px;margin-left:4px}input{font-family:inherit}a.gb1,a.gb2,a.gb3,a.gb4{color:#11c !important}body{background:#fff;color:black}a{color:#11c;text-decoration:none}a:hover,a:active{text-decoration:underline}.fl a{color:#36c}a:visited{color:#551a8b}a.gb1,a.gb4{text-decoration:underline}a.gb3:hover{text-decoration:none}#ghead a.gb2:hover{color:#fff !important}.sblc{padding-top:5px}.sblc a{display:block;margin:2px 0;margin-left:13px;font-size:11px}.lsbb{background:#eee;border:solid 1px;border-color:#ccc #999 #999 #ccc;height:30px}.lsbb{display:block}.ftl,#fll a{display:inline-block;margin:0 12px}.lsb{background:url(/images/nav_logo229.png) 0 -261px repeat-x;border:none;color:#000;cursor:pointer;height:30px;margin:0;outline:0;font:15px arial,sans-serif;vertical-align:top}.lsb:active{background:#ccc}.lst:focus{outline:none}</style><script></script><link href=\"/images/branding/product/ico/googleg_lodp.ico\" rel=\"shortcut icon\"></head><body bgcolor=\"#fff\"><script>(function(){var src=\\'/images/nav_logo229.png\\';var iesg=false;document.body.onload = function(){window.n && window.n();if (document.images){new Image().src=src;}\\nif (!iesg){document.f&&document.f.q.focus();document.gbqf&&document.gbqf.q.focus();}\\n}\\n})();</script><div id=\"mngb\">    <div id=gbar><nobr><b class=gb1>\\u641c\\u5c0b</b> <a class=gb1 href=\"https://www.google.com.tw/imghp?hl=zh-TW&tab=wi\">\\u5716\\u7247</a> <a class=gb1 href=\"https://maps.google.com.tw/maps?hl=zh-TW&tab=wl\">\\u5730\\u5716</a> <a class=gb1 href=\"https://play.google.com/?hl=zh-TW&tab=w8\">Play</a> <a class=gb1 href=\"https://www.youtube.com/?gl=TW&tab=w1\">YouTube</a> <a class=gb1 href=\"https://news.google.com.tw/nwshp?hl=zh-TW&tab=wn\">\\u65b0\\u805e</a> <a class=gb1 href=\"https://mail.google.com/mail/?tab=wm\">Gmail</a> <a class=gb1 href=\"https://drive.google.com/?tab=wo\">\\u96f2\\u7aef\\u786c\\u789f</a> <a class=gb1 style=\"text-decoration:none\" href=\"https://www.google.com.tw/intl/zh-TW/options/\"><u>\\u66f4\\u591a</u> &raquo;</a></nobr></div><div id=guser width=100%><nobr><span id=gbn class=gbi></span><span id=gbf class=gbf></span><span id=gbe></span><a href=\"http://www.google.com.tw/history/optout?hl=zh-TW\" class=gb4>\\u7db2\\u9801\\u7d00\\u9304</a> | <a  href=\"/preferences?hl=zh-TW\" class=gb4>\\u8a2d\\u5b9a</a> | <a target=_top id=gb_70 href=\"https://accounts.google.com/ServiceLogin?hl=zh-TW&passive=true&continue=https://www.google.com.tw/%3Fgfe_rd%3Dcr%26ei%3DTEXIV6fIGI7E4ALh7ZGYAw\" class=gb4>\\u767b\\u5165</a></nobr></div><div class=gbh style=left:0></div><div class=gbh style=right:0></div>    </div><center><br clear=\"all\" id=\"lgpd\"><div id=\"lga\"><div style=\"padding:28px 0 3px\"><div style=\"height:110px;width:276px;background:url(/images/branding/googlelogo/1x/googlelogo_white_background_color_272x92dp.png) no-repeat\" title=\"Google\" align=\"left\" id=\"hplogo\" onload=\"window.lol&&lol()\"><div style=\"color:#777;font-size:16px;font-weight:bold;position:relative;top:70px;left:218px\" nowrap=\"\">\\u53f0\\u7063</div></div></div><br></div><form action=\"/search\" name=\"f\"><table cellpadding=\"0\" cellspacing=\"0\"><tr valign=\"top\"><td width=\"25%\">&nbsp;</td><td align=\"center\" nowrap=\"\"><input name=\"ie\" value=\"Big5\" type=\"hidden\"><input value=\"zh-TW\" name=\"hl\" type=\"hidden\"><input name=\"source\" type=\"hidden\" value=\"hp\"><input name=\"biw\" type=\"hidden\"><input name=\"bih\" type=\"hidden\"><div class=\"ds\" style=\"height:32px;margin:4px 0\"><input style=\"color:#000;margin:0;padding:5px 8px 0 6px;vertical-align:top\" autocomplete=\"off\" class=\"lst\" value=\"\" title=\"Google \\u641c\\u5c0b\" maxlength=\"2048\" name=\"q\" size=\"57\"></div><br style=\"line-height:0\"><span class=\"ds\"><span class=\"lsbb\"><input class=\"lsb\" value=\"Google \\u641c\\u5c0b\" name=\"btnG\" type=\"submit\"></span></span><span class=\"ds\"><span class=\"lsbb\"><input class=\"lsb\" value=\"\\u597d\\u624b\\u6c23\" name=\"btnI\" onclick=\"if(this.form.q.value)this.checked=1; else top.location=\\'/doodles/\\'\" type=\"submit\"></span></span></td><td class=\"fl sblc\" align=\"left\" nowrap=\"\" width=\"25%\"><a href=\"/advanced_search?hl=zh-TW&amp;authuser=0\">\\u9032\\u968e\\u641c\\u5c0b</a><a href=\"/language_tools?hl=zh-TW&amp;authuser=0\">\\u8a9e\\u8a00\\u5de5\\u5177</a></td></tr></table><input id=\"gbv\" name=\"gbv\" type=\"hidden\" value=\"1\"></form><div id=\"gac_scont\"></div><div style=\"font-size:83%;min-height:3.5em\"><br></div><span id=\"footer\"><div style=\"font-size:10pt\"><div style=\"margin:19px auto;text-align:center\" id=\"fll\"><a href=\"/intl/zh-TW/ads/\">\\u5ee3\\u544a\\u670d\\u52d9</a><a href=\"http://www.google.com.tw/intl/zh-TW/services/\">\\u5546\\u696d\\u89e3\\u6c7a\\u65b9\\u6848</a><a href=\"/intl/zh-TW/about.html\">Google \\u5b8c\\u5168\\u624b\\u518a</a><a href=\"https://www.google.com.tw/setprefdomain?prefdom=US&amp;sig=__BoXEjfpoKoiNODklDKQzbXOTGx8%3D\" id=\"fehl\">Google.com</a></div></div><p style=\"color:#767676;font-size:8pt\">&copy; 2016 - <a href=\"/intl/zh-TW/policies/privacy/\">\\u96b1\\u79c1\\u6b0a</a> - <a href=\"/intl/zh-TW/policies/terms/\">\\u670d\\u52d9\\u689d\\u6b3e</a></p></span></center><script>(function(){window.google.cdo={height:0,width:0};(function(){var a=window.innerWidth,b=window.innerHeight;if(!a||!b)var c=window.document,d=\"CSS1Compat\"==c.compatMode?c.documentElement:c.body,a=d.clientWidth,b=d.clientHeight;a&&b&&(a!=google.cdo.width||b!=google.cdo.height)&&google.log(\"\",\"\",\"/client_204?&atyp=i&biw=\"+a+\"&bih=\"+b+\"&ei=\"+google.kEI);})();})();</script><div id=\"xjsd\"></div><div id=\"xjsi\"><script>(function(){function c(b){window.setTimeout(function(){var a=document.createElement(\"script\");a.src=b;document.getElementById(\"xjsd\").appendChild(a)},0)}google.dljp=function(b,a){google.xjsu=b;c(a)};google.dlj=c;})();(function(){window.google.xjsrm=[];})();if(google.y)google.y.first=[];if(!google.xjs){window._=window._||{};window._._DumpException=function(e){throw e};if(google.timers&&google.timers.load.t){google.timers.load.t.xjsls=new Date().getTime();}google.dljp(\\'/xjs/_/js/k\\\\x3dxjs.hp.en_US.HHWY3-AyF3I.O/m\\\\x3dsb_he,d/rt\\\\x3dj/d\\\\x3d1/t\\\\x3dzcms/rs\\\\x3dACT90oGa2ZPKrQOoQ4mqce5Sh-AvVHFqgw\\',\\'/xjs/_/js/k\\\\x3dxjs.hp.en_US.HHWY3-AyF3I.O/m\\\\x3dsb_he,d/rt\\\\x3dj/d\\\\x3d1/t\\\\x3dzcms/rs\\\\x3dACT90oGa2ZPKrQOoQ4mqce5Sh-AvVHFqgw\\');google.xjs=1;}google.pmc={\"sb_he\":{\"agen\":true,\"cgen\":true,\"client\":\"heirloom-hp\",\"dh\":true,\"dhqt\":true,\"ds\":\"\",\"fl\":true,\"host\":\"google.com.tw\",\"isbh\":28,\"jam\":0,\"jsonp\":true,\"msgs\":{\"cibl\":\"\\u6e05\\u9664\\u641c\\u5c0b\",\"dym\":\"\\u60a8\\u662f\\u4e0d\\u662f\\u8981\\u67e5\\uff1a\",\"lcky\":\"\\u597d\\u624b\\u6c23\",\"lml\":\"\\u77ad\\u89e3\\u8a73\\u60c5\",\"oskt\":\"\\u8f38\\u5165\\u5de5\\u5177\",\"psrc\":\"\\u5df2\\u5f9e\\u60a8\\u7684\\u300c\\\\u003Ca href=\\\\\"/history\\\\\"\\\\u003E\\u7db2\\u9801\\u7d00\\u9304\\\\u003C/a\\\\u003E\\u300d\\u4e2d\\u79fb\\u9664\\u9019\\u7b46\\u641c\\u5c0b\\u7d00\\u9304\",\"psrl\":\"\\u79fb\\u9664\",\"sbit\":\"\\u4ee5\\u5716\\u641c\\u5c0b\",\"srch\":\"Google \\u641c\\u5c0b\"},\"nds\":true,\"ovr\":{},\"pq\":\"\",\"refpd\":true,\"refspre\":true,\"rfs\":[],\"scd\":10,\"sce\":5,\"stok\":\"rhA9h5bPoPzY9mMiXUK3-yR3yFs\"},\"d\":{}};google.y.first.push(function(){if(google.med){google.med(\\'init\\');google.initHistory();google.med(\\'history\\');}});if(google.j&&google.j.en&&google.j.xi){window.setTimeout(google.j.xi,0);}\\n</script></div></body></html>'"
      ]
     },
     "execution_count": 6,
     "metadata": {},
     "output_type": "execute_result"
    }
   ],
   "source": [
    "# 一些常用的attributes\n",
    "res.text # 檢視文字"
   ]
  },
  {
   "cell_type": "code",
   "execution_count": 7,
   "metadata": {
    "collapsed": false
   },
   "outputs": [
    {
     "data": {
      "text/plain": [
       "{'Alternate-Protocol': '443:quic', 'X-XSS-Protection': '1; mode=block', 'Content-Encoding': 'gzip', 'Transfer-Encoding': 'chunked', 'Set-Cookie': 'NID=85=Ft-KjqhJCBmmp4iVLS0ycbHzD9AtMu5wp_peQF3U7gptAQvrYZY6Sg6Bibv1UH5MfpBZWOKj97XfwnruHc6l_Qhb3wqwiJNkTHvqyE9tUxJYfgJbIBBk5-kWL5KcqoSr; expires=Fri, 03-Mar-2017 15:12:12 GMT; path=/; domain=.google.com.tw; HttpOnly', 'Expires': '-1', 'Server': 'gws', 'Cache-Control': 'private, max-age=0', 'Date': 'Thu, 01 Sep 2016 15:12:12 GMT', 'P3P': 'CP=\"This is not a P3P policy! See https://www.google.com/support/accounts/answer/151657?hl=en for more info.\"', 'Alt-Svc': 'quic=\":443\"; ma=2592000; v=\"36,35,34,33,32,31,30\"', 'Content-Type': 'text/html; charset=Big5', 'X-Frame-Options': 'SAMEORIGIN'}"
      ]
     },
     "execution_count": 7,
     "metadata": {},
     "output_type": "execute_result"
    }
   ],
   "source": [
    "res.headers # 檢視headers"
   ]
  },
  {
   "cell_type": "code",
   "execution_count": 8,
   "metadata": {
    "collapsed": false
   },
   "outputs": [
    {
     "data": {
      "text/plain": [
       "200"
      ]
     },
     "execution_count": 8,
     "metadata": {},
     "output_type": "execute_result"
    }
   ],
   "source": [
    "res.status_code # 檢視HTTP狀態碼"
   ]
  },
  {
   "cell_type": "code",
   "execution_count": 9,
   "metadata": {
    "collapsed": true
   },
   "outputs": [],
   "source": [
    "# 試試看JSON API\n",
    "res_json = requests.get('http://jsonplaceholder.typicode.com/posts')"
   ]
  },
  {
   "cell_type": "code",
   "execution_count": 10,
   "metadata": {
    "collapsed": false
   },
   "outputs": [
    {
     "data": {
      "text/plain": [
       "requests.models.Response"
      ]
     },
     "execution_count": 10,
     "metadata": {},
     "output_type": "execute_result"
    }
   ],
   "source": [
    "type(res_json)"
   ]
  },
  {
   "cell_type": "code",
   "execution_count": 16,
   "metadata": {
    "collapsed": false,
    "scrolled": true
   },
   "outputs": [
    {
     "data": {
      "text/plain": [
       "[{u'body': u'quia et suscipit\\nsuscipit recusandae consequuntur expedita et cum\\nreprehenderit molestiae ut ut quas totam\\nnostrum rerum est autem sunt rem eveniet architecto',\n",
       "  u'id': 1,\n",
       "  u'title': u'sunt aut facere repellat provident occaecati excepturi optio reprehenderit',\n",
       "  u'userId': 1},\n",
       " {u'body': u'est rerum tempore vitae\\nsequi sint nihil reprehenderit dolor beatae ea dolores neque\\nfugiat blanditiis voluptate porro vel nihil molestiae ut reiciendis\\nqui aperiam non debitis possimus qui neque nisi nulla',\n",
       "  u'id': 2,\n",
       "  u'title': u'qui est esse',\n",
       "  u'userId': 1},\n",
       " {u'body': u'et iusto sed quo iure\\nvoluptatem occaecati omnis eligendi aut ad\\nvoluptatem doloribus vel accusantium quis pariatur\\nmolestiae porro eius odio et labore et velit aut',\n",
       "  u'id': 3,\n",
       "  u'title': u'ea molestias quasi exercitationem repellat qui ipsa sit aut',\n",
       "  u'userId': 1},\n",
       " {u'body': u'ullam et saepe reiciendis voluptatem adipisci\\nsit amet autem assumenda provident rerum culpa\\nquis hic commodi nesciunt rem tenetur doloremque ipsam iure\\nquis sunt voluptatem rerum illo velit',\n",
       "  u'id': 4,\n",
       "  u'title': u'eum et est occaecati',\n",
       "  u'userId': 1},\n",
       " {u'body': u'repudiandae veniam quaerat sunt sed\\nalias aut fugiat sit autem sed est\\nvoluptatem omnis possimus esse voluptatibus quis\\nest aut tenetur dolor neque',\n",
       "  u'id': 5,\n",
       "  u'title': u'nesciunt quas odio',\n",
       "  u'userId': 1},\n",
       " {u'body': u'ut aspernatur corporis harum nihil quis provident sequi\\nmollitia nobis aliquid molestiae\\nperspiciatis et ea nemo ab reprehenderit accusantium quas\\nvoluptate dolores velit et doloremque molestiae',\n",
       "  u'id': 6,\n",
       "  u'title': u'dolorem eum magni eos aperiam quia',\n",
       "  u'userId': 1},\n",
       " {u'body': u'dolore placeat quibusdam ea quo vitae\\nmagni quis enim qui quis quo nemo aut saepe\\nquidem repellat excepturi ut quia\\nsunt ut sequi eos ea sed quas',\n",
       "  u'id': 7,\n",
       "  u'title': u'magnam facilis autem',\n",
       "  u'userId': 1},\n",
       " {u'body': u'dignissimos aperiam dolorem qui eum\\nfacilis quibusdam animi sint suscipit qui sint possimus cum\\nquaerat magni maiores excepturi\\nipsam ut commodi dolor voluptatum modi aut vitae',\n",
       "  u'id': 8,\n",
       "  u'title': u'dolorem dolore est ipsam',\n",
       "  u'userId': 1},\n",
       " {u'body': u'consectetur animi nesciunt iure dolore\\nenim quia ad\\nveniam autem ut quam aut nobis\\net est aut quod aut provident voluptas autem voluptas',\n",
       "  u'id': 9,\n",
       "  u'title': u'nesciunt iure omnis dolorem tempora et accusantium',\n",
       "  u'userId': 1},\n",
       " {u'body': u'quo et expedita modi cum officia vel magni\\ndoloribus qui repudiandae\\nvero nisi sit\\nquos veniam quod sed accusamus veritatis error',\n",
       "  u'id': 10,\n",
       "  u'title': u'optio molestias id quia eum',\n",
       "  u'userId': 1},\n",
       " {u'body': u'delectus reiciendis molestiae occaecati non minima eveniet qui voluptatibus\\naccusamus in eum beatae sit\\nvel qui neque voluptates ut commodi qui incidunt\\nut animi commodi',\n",
       "  u'id': 11,\n",
       "  u'title': u'et ea vero quia laudantium autem',\n",
       "  u'userId': 2},\n",
       " {u'body': u'itaque id aut magnam\\npraesentium quia et ea odit et ea voluptas et\\nsapiente quia nihil amet occaecati quia id voluptatem\\nincidunt ea est distinctio odio',\n",
       "  u'id': 12,\n",
       "  u'title': u'in quibusdam tempore odit est dolorem',\n",
       "  u'userId': 2},\n",
       " {u'body': u'aut dicta possimus sint mollitia voluptas commodi quo doloremque\\niste corrupti reiciendis voluptatem eius rerum\\nsit cumque quod eligendi laborum minima\\nperferendis recusandae assumenda consectetur porro architecto ipsum ipsam',\n",
       "  u'id': 13,\n",
       "  u'title': u'dolorum ut in voluptas mollitia et saepe quo animi',\n",
       "  u'userId': 2},\n",
       " {u'body': u'fuga et accusamus dolorum perferendis illo voluptas\\nnon doloremque neque facere\\nad qui dolorum molestiae beatae\\nsed aut voluptas totam sit illum',\n",
       "  u'id': 14,\n",
       "  u'title': u'voluptatem eligendi optio',\n",
       "  u'userId': 2},\n",
       " {u'body': u'reprehenderit quos placeat\\nvelit minima officia dolores impedit repudiandae molestiae nam\\nvoluptas recusandae quis delectus\\nofficiis harum fugiat vitae',\n",
       "  u'id': 15,\n",
       "  u'title': u'eveniet quod temporibus',\n",
       "  u'userId': 2},\n",
       " {u'body': u'suscipit nam nisi quo aperiam aut\\nasperiores eos fugit maiores voluptatibus quia\\nvoluptatem quis ullam qui in alias quia est\\nconsequatur magni mollitia accusamus ea nisi voluptate dicta',\n",
       "  u'id': 16,\n",
       "  u'title': u'sint suscipit perspiciatis velit dolorum rerum ipsa laboriosam odio',\n",
       "  u'userId': 2},\n",
       " {u'body': u'eos voluptas et aut odit natus earum\\naspernatur fuga molestiae ullam\\ndeserunt ratione qui eos\\nqui nihil ratione nemo velit ut aut id quo',\n",
       "  u'id': 17,\n",
       "  u'title': u'fugit voluptas sed molestias voluptatem provident',\n",
       "  u'userId': 2},\n",
       " {u'body': u'eveniet quo quis\\nlaborum totam consequatur non dolor\\nut et est repudiandae\\nest voluptatem vel debitis et magnam',\n",
       "  u'id': 18,\n",
       "  u'title': u'voluptate et itaque vero tempora molestiae',\n",
       "  u'userId': 2},\n",
       " {u'body': u'illum quis cupiditate provident sit magnam\\nea sed aut omnis\\nveniam maiores ullam consequatur atque\\nadipisci quo iste expedita sit quos voluptas',\n",
       "  u'id': 19,\n",
       "  u'title': u'adipisci placeat illum aut reiciendis qui',\n",
       "  u'userId': 2},\n",
       " {u'body': u'qui consequuntur ducimus possimus quisquam amet similique\\nsuscipit porro ipsam amet\\neos veritatis officiis exercitationem vel fugit aut necessitatibus totam\\nomnis rerum consequatur expedita quidem cumque explicabo',\n",
       "  u'id': 20,\n",
       "  u'title': u'doloribus ad provident suscipit at',\n",
       "  u'userId': 2},\n",
       " {u'body': u'repellat aliquid praesentium dolorem quo\\nsed totam minus non itaque\\nnihil labore molestiae sunt dolor eveniet hic recusandae veniam\\ntempora et tenetur expedita sunt',\n",
       "  u'id': 21,\n",
       "  u'title': u'asperiores ea ipsam voluptatibus modi minima quia sint',\n",
       "  u'userId': 3},\n",
       " {u'body': u'eos qui et ipsum ipsam suscipit aut\\nsed omnis non odio\\nexpedita earum mollitia molestiae aut atque rem suscipit\\nnam impedit esse',\n",
       "  u'id': 22,\n",
       "  u'title': u'dolor sint quo a velit explicabo quia nam',\n",
       "  u'userId': 3},\n",
       " {u'body': u'veritatis unde neque eligendi\\nquae quod architecto quo neque vitae\\nest illo sit tempora doloremque fugit quod\\net et vel beatae sequi ullam sed tenetur perspiciatis',\n",
       "  u'id': 23,\n",
       "  u'title': u'maxime id vitae nihil numquam',\n",
       "  u'userId': 3},\n",
       " {u'body': u'enim et ex nulla\\nomnis voluptas quia qui\\nvoluptatem consequatur numquam aliquam sunt\\ntotam recusandae id dignissimos aut sed asperiores deserunt',\n",
       "  u'id': 24,\n",
       "  u'title': u'autem hic labore sunt dolores incidunt',\n",
       "  u'userId': 3},\n",
       " {u'body': u'ullam consequatur ut\\nomnis quis sit vel consequuntur\\nipsa eligendi ipsum molestiae et omnis error nostrum\\nmolestiae illo tempore quia et distinctio',\n",
       "  u'id': 25,\n",
       "  u'title': u'rem alias distinctio quo quis',\n",
       "  u'userId': 3},\n",
       " {u'body': u'similique esse doloribus nihil accusamus\\nomnis dolorem fuga consequuntur reprehenderit fugit recusandae temporibus\\nperspiciatis cum ut laudantium\\nomnis aut molestiae vel vero',\n",
       "  u'id': 26,\n",
       "  u'title': u'est et quae odit qui non',\n",
       "  u'userId': 3},\n",
       " {u'body': u'eum sed dolores ipsam sint possimus debitis occaecati\\ndebitis qui qui et\\nut placeat enim earum aut odit facilis\\nconsequatur suscipit necessitatibus rerum sed inventore temporibus consequatur',\n",
       "  u'id': 27,\n",
       "  u'title': u'quasi id et eos tenetur aut quo autem',\n",
       "  u'userId': 3},\n",
       " {u'body': u'non et quaerat ex quae ad maiores\\nmaiores recusandae totam aut blanditiis mollitia quas illo\\nut voluptatibus voluptatem\\nsimilique nostrum eum',\n",
       "  u'id': 28,\n",
       "  u'title': u'delectus ullam et corporis nulla voluptas sequi',\n",
       "  u'userId': 3},\n",
       " {u'body': u'odit magnam ut saepe sed non qui\\ntempora atque nihil\\naccusamus illum doloribus illo dolor\\neligendi repudiandae odit magni similique sed cum maiores',\n",
       "  u'id': 29,\n",
       "  u'title': u'iusto eius quod necessitatibus culpa ea',\n",
       "  u'userId': 3},\n",
       " {u'body': u'alias dolor cumque\\nimpedit blanditiis non eveniet odio maxime\\nblanditiis amet eius quis tempora quia autem rem\\na provident perspiciatis quia',\n",
       "  u'id': 30,\n",
       "  u'title': u'a quo magni similique perferendis',\n",
       "  u'userId': 3},\n",
       " {u'body': u'debitis eius sed quibusdam non quis consectetur vitae\\nimpedit ut qui consequatur sed aut in\\nquidem sit nostrum et maiores adipisci atque\\nquaerat voluptatem adipisci repudiandae',\n",
       "  u'id': 31,\n",
       "  u'title': u'ullam ut quidem id aut vel consequuntur',\n",
       "  u'userId': 4},\n",
       " {u'body': u'deserunt eos nobis asperiores et hic\\nest debitis repellat molestiae optio\\nnihil ratione ut eos beatae quibusdam distinctio maiores\\nearum voluptates et aut adipisci ea maiores voluptas maxime',\n",
       "  u'id': 32,\n",
       "  u'title': u'doloremque illum aliquid sunt',\n",
       "  u'userId': 4},\n",
       " {u'body': u'rerum ut et numquam laborum odit est sit\\nid qui sint in\\nquasi tenetur tempore aperiam et quaerat qui in\\nrerum officiis sequi cumque quod',\n",
       "  u'id': 33,\n",
       "  u'title': u'qui explicabo molestiae dolorem',\n",
       "  u'userId': 4},\n",
       " {u'body': u'ea velit perferendis earum ut voluptatem voluptate itaque iusto\\ntotam pariatur in\\nnemo voluptatem voluptatem autem magni tempora minima in\\nest distinctio qui assumenda accusamus dignissimos officia nesciunt nobis',\n",
       "  u'id': 34,\n",
       "  u'title': u'magnam ut rerum iure',\n",
       "  u'userId': 4},\n",
       " {u'body': u'nisi error delectus possimus ut eligendi vitae\\nplaceat eos harum cupiditate facilis reprehenderit voluptatem beatae\\nmodi ducimus quo illum voluptas eligendi\\net nobis quia fugit',\n",
       "  u'id': 35,\n",
       "  u'title': u'id nihil consequatur molestias animi provident',\n",
       "  u'userId': 4},\n",
       " {u'body': u'ad mollitia et omnis minus architecto odit\\nvoluptas doloremque maxime aut non ipsa qui alias veniam\\nblanditiis culpa aut quia nihil cumque facere et occaecati\\nqui aspernatur quia eaque ut aperiam inventore',\n",
       "  u'id': 36,\n",
       "  u'title': u'fuga nam accusamus voluptas reiciendis itaque',\n",
       "  u'userId': 4},\n",
       " {u'body': u'debitis et eaque non officia sed nesciunt pariatur vel\\nvoluptatem iste vero et ea\\nnumquam aut expedita ipsum nulla in\\nvoluptates omnis consequatur aut enim officiis in quam qui',\n",
       "  u'id': 37,\n",
       "  u'title': u'provident vel ut sit ratione est',\n",
       "  u'userId': 4},\n",
       " {u'body': u'animi esse sit aut sit nesciunt assumenda eum voluptas\\nquia voluptatibus provident quia necessitatibus ea\\nrerum repudiandae quia voluptatem delectus fugit aut id quia\\nratione optio eos iusto veniam iure',\n",
       "  u'id': 38,\n",
       "  u'title': u'explicabo et eos deleniti nostrum ab id repellendus',\n",
       "  u'userId': 4},\n",
       " {u'body': u'corporis rerum ducimus vel eum accusantium\\nmaxime aspernatur a porro possimus iste omnis\\nest in deleniti asperiores fuga aut\\nvoluptas sapiente vel dolore minus voluptatem incidunt ex',\n",
       "  u'id': 39,\n",
       "  u'title': u'eos dolorem iste accusantium est eaque quam',\n",
       "  u'userId': 4},\n",
       " {u'body': u'ut voluptatum aliquid illo tenetur nemo sequi quo facilis\\nipsum rem optio mollitia quas\\nvoluptatem eum voluptas qui\\nunde omnis voluptatem iure quasi maxime voluptas nam',\n",
       "  u'id': 40,\n",
       "  u'title': u'enim quo cumque',\n",
       "  u'userId': 4},\n",
       " {u'body': u'molestias id nostrum\\nexcepturi molestiae dolore omnis repellendus quaerat saepe\\nconsectetur iste quaerat tenetur asperiores accusamus ex ut\\nnam quidem est ducimus sunt debitis saepe',\n",
       "  u'id': 41,\n",
       "  u'title': u'non est facere',\n",
       "  u'userId': 5},\n",
       " {u'body': u'odio fugit voluptatum ducimus earum autem est incidunt voluptatem\\nodit reiciendis aliquam sunt sequi nulla dolorem\\nnon facere repellendus voluptates quia\\nratione harum vitae ut',\n",
       "  u'id': 42,\n",
       "  u'title': u'commodi ullam sint et excepturi error explicabo praesentium voluptas',\n",
       "  u'userId': 5},\n",
       " {u'body': u'similique fugit est\\nillum et dolorum harum et voluptate eaque quidem\\nexercitationem quos nam commodi possimus cum odio nihil nulla\\ndolorum exercitationem magnam ex et a et distinctio debitis',\n",
       "  u'id': 43,\n",
       "  u'title': u'eligendi iste nostrum consequuntur adipisci praesentium sit beatae perferendis',\n",
       "  u'userId': 5},\n",
       " {u'body': u'temporibus est consectetur dolore\\net libero debitis vel velit laboriosam quia\\nipsum quibusdam qui itaque fuga rem aut\\nea et iure quam sed maxime ut distinctio quae',\n",
       "  u'id': 44,\n",
       "  u'title': u'optio dolor molestias sit',\n",
       "  u'userId': 5},\n",
       " {u'body': u'est natus reiciendis nihil possimus aut provident\\nex et dolor\\nrepellat pariatur est\\nnobis rerum repellendus dolorem autem',\n",
       "  u'id': 45,\n",
       "  u'title': u'ut numquam possimus omnis eius suscipit laudantium iure',\n",
       "  u'userId': 5},\n",
       " {u'body': u'voluptatem quisquam iste\\nvoluptatibus natus officiis facilis dolorem\\nquis quas ipsam\\nvel et voluptatum in aliquid',\n",
       "  u'id': 46,\n",
       "  u'title': u'aut quo modi neque nostrum ducimus',\n",
       "  u'userId': 5},\n",
       " {u'body': u'voluptatem assumenda ut qui ut cupiditate aut impedit veniam\\noccaecati nemo illum voluptatem laudantium\\nmolestiae beatae rerum ea iure soluta nostrum\\neligendi et voluptate',\n",
       "  u'id': 47,\n",
       "  u'title': u'quibusdam cumque rem aut deserunt',\n",
       "  u'userId': 5},\n",
       " {u'body': u'voluptates quo voluptatem facilis iure occaecati\\nvel assumenda rerum officia et\\nillum perspiciatis ab deleniti\\nlaudantium repellat ad ut et autem reprehenderit',\n",
       "  u'id': 48,\n",
       "  u'title': u'ut voluptatem illum ea doloribus itaque eos',\n",
       "  u'userId': 5},\n",
       " {u'body': u'inventore ab sint\\nnatus fugit id nulla sequi architecto nihil quaerat\\neos tenetur in in eum veritatis non\\nquibusdam officiis aspernatur cumque aut commodi aut',\n",
       "  u'id': 49,\n",
       "  u'title': u'laborum non sunt aut ut assumenda perspiciatis voluptas',\n",
       "  u'userId': 5},\n",
       " {u'body': u'error suscipit maxime adipisci consequuntur recusandae\\nvoluptas eligendi et est et voluptates\\nquia distinctio ab amet quaerat molestiae et vitae\\nadipisci impedit sequi nesciunt quis consectetur',\n",
       "  u'id': 50,\n",
       "  u'title': u'repellendus qui recusandae incidunt voluptates tenetur qui omnis exercitationem',\n",
       "  u'userId': 5},\n",
       " {u'body': u'sunt dolores aut doloribus\\ndolore doloribus voluptates tempora et\\ndoloremque et quo\\ncum asperiores sit consectetur dolorem',\n",
       "  u'id': 51,\n",
       "  u'title': u'soluta aliquam aperiam consequatur illo quis voluptas',\n",
       "  u'userId': 6},\n",
       " {u'body': u'iusto est quibusdam fuga quas quaerat molestias\\na enim ut sit accusamus enim\\ntemporibus iusto accusantium provident architecto\\nsoluta esse reprehenderit qui laborum',\n",
       "  u'id': 52,\n",
       "  u'title': u'qui enim et consequuntur quia animi quis voluptate quibusdam',\n",
       "  u'userId': 6},\n",
       " {u'body': u'minima harum praesentium eum rerum illo dolore\\nquasi exercitationem rerum nam\\nporro quis neque quo\\nconsequatur minus dolor quidem veritatis sunt non explicabo similique',\n",
       "  u'id': 53,\n",
       "  u'title': u'ut quo aut ducimus alias',\n",
       "  u'userId': 6},\n",
       " {u'body': u'totam corporis dignissimos\\nvitae dolorem ut occaecati accusamus\\nex velit deserunt\\net exercitationem vero incidunt corrupti mollitia',\n",
       "  u'id': 54,\n",
       "  u'title': u'sit asperiores ipsam eveniet odio non quia',\n",
       "  u'userId': 6},\n",
       " {u'body': u'debitis excepturi ea perferendis harum libero optio\\neos accusamus cum fuga ut sapiente repudiandae\\net ut incidunt omnis molestiae\\nnihil ut eum odit',\n",
       "  u'id': 55,\n",
       "  u'title': u'sit vel voluptatem et non libero',\n",
       "  u'userId': 6},\n",
       " {u'body': u'aut est omnis dolores\\nneque rerum quod ea rerum velit pariatur beatae excepturi\\net provident voluptas corrupti\\ncorporis harum reprehenderit dolores eligendi',\n",
       "  u'id': 56,\n",
       "  u'title': u'qui et at rerum necessitatibus',\n",
       "  u'userId': 6},\n",
       " {u'body': u'at pariatur consequuntur earum quidem\\nquo est laudantium soluta voluptatem\\nqui ullam et est\\net cum voluptas voluptatum repellat est',\n",
       "  u'id': 57,\n",
       "  u'title': u'sed ab est est',\n",
       "  u'userId': 6},\n",
       " {u'body': u'veniam voluptatum quae adipisci id\\net id quia eos ad et dolorem\\naliquam quo nisi sunt eos impedit error\\nad similique veniam',\n",
       "  u'id': 58,\n",
       "  u'title': u'voluptatum itaque dolores nisi et quasi',\n",
       "  u'userId': 6},\n",
       " {u'body': u'perspiciatis et quam ea autem temporibus non voluptatibus qui\\nbeatae a earum officia nesciunt dolores suscipit voluptas et\\nanimi doloribus cum rerum quas et magni\\net hic ut ut commodi expedita sunt',\n",
       "  u'id': 59,\n",
       "  u'title': u'qui commodi dolor at maiores et quis id accusantium',\n",
       "  u'userId': 6},\n",
       " {u'body': u'asperiores sunt ab assumenda cumque modi velit\\nqui esse omnis\\nvoluptate et fuga perferendis voluptas\\nillo ratione amet aut et omnis',\n",
       "  u'id': 60,\n",
       "  u'title': u'consequatur placeat omnis quisquam quia reprehenderit fugit veritatis facere',\n",
       "  u'userId': 6},\n",
       " {u'body': u'ab nemo optio odio\\ndelectus tenetur corporis similique nobis repellendus rerum omnis facilis\\nvero blanditiis debitis in nesciunt doloribus dicta dolores\\nmagnam minus velit',\n",
       "  u'id': 61,\n",
       "  u'title': u'voluptatem doloribus consectetur est ut ducimus',\n",
       "  u'userId': 7},\n",
       " {u'body': u'enim aspernatur illo distinctio quae praesentium\\nbeatae alias amet delectus qui voluptate distinctio\\nodit sint accusantium autem omnis\\nquo molestiae omnis ea eveniet optio',\n",
       "  u'id': 62,\n",
       "  u'title': u'beatae enim quia vel',\n",
       "  u'userId': 7},\n",
       " {u'body': u'enim adipisci aspernatur nemo\\nnumquam omnis facere dolorem dolor ex quis temporibus incidunt\\nab delectus culpa quo reprehenderit blanditiis asperiores\\naccusantium ut quam in voluptatibus voluptas ipsam dicta',\n",
       "  u'id': 63,\n",
       "  u'title': u'voluptas blanditiis repellendus animi ducimus error sapiente et suscipit',\n",
       "  u'userId': 7},\n",
       " {u'body': u'id velit blanditiis\\neum ea voluptatem\\nmolestiae sint occaecati est eos perspiciatis\\nincidunt a error provident eaque aut aut qui',\n",
       "  u'id': 64,\n",
       "  u'title': u'et fugit quas eum in in aperiam quod',\n",
       "  u'userId': 7},\n",
       " {u'body': u'voluptatibus ex esse\\nsint explicabo est aliquid cumque adipisci fuga repellat labore\\nmolestiae corrupti ex saepe at asperiores et perferendis\\nnatus id esse incidunt pariatur',\n",
       "  u'id': 65,\n",
       "  u'title': u'consequatur id enim sunt et et',\n",
       "  u'userId': 7},\n",
       " {u'body': u'officia veritatis tenetur vero qui itaque\\nsint non ratione\\nsed et ut asperiores iusto eos molestiae nostrum\\nveritatis quibusdam et nemo iusto saepe',\n",
       "  u'id': 66,\n",
       "  u'title': u'repudiandae ea animi iusto',\n",
       "  u'userId': 7},\n",
       " {u'body': u'reprehenderit id nostrum\\nvoluptas doloremque pariatur sint et accusantium quia quod aspernatur\\net fugiat amet\\nnon sapiente et consequatur necessitatibus molestiae',\n",
       "  u'id': 67,\n",
       "  u'title': u'aliquid eos sed fuga est maxime repellendus',\n",
       "  u'userId': 7},\n",
       " {u'body': u'magnam molestiae perferendis quisquam\\nqui cum reiciendis\\nquaerat animi amet hic inventore\\nea quia deleniti quidem saepe porro velit',\n",
       "  u'id': 68,\n",
       "  u'title': u'odio quis facere architecto reiciendis optio',\n",
       "  u'userId': 7},\n",
       " {u'body': u'officiis error culpa consequatur modi asperiores et\\ndolorum assumenda voluptas et vel qui aut vel rerum\\nvoluptatum quisquam perspiciatis quia rerum consequatur totam quas\\nsequi commodi repudiandae asperiores et saepe a',\n",
       "  u'id': 69,\n",
       "  u'title': u'fugiat quod pariatur odit minima',\n",
       "  u'userId': 7},\n",
       " {u'body': u'sunt repellendus quae\\nest asperiores aut deleniti esse accusamus repellendus quia aut\\nquia dolorem unde\\neum tempora esse dolore',\n",
       "  u'id': 70,\n",
       "  u'title': u'voluptatem laborum magni',\n",
       "  u'userId': 7},\n",
       " {u'body': u'occaecati a doloribus\\niste saepe consectetur placeat eum voluptate dolorem et\\nqui quo quia voluptas\\nrerum ut id enim velit est perferendis',\n",
       "  u'id': 71,\n",
       "  u'title': u'et iusto veniam et illum aut fuga',\n",
       "  u'userId': 8},\n",
       " {u'body': u'quam occaecati qui deleniti consectetur\\nconsequatur aut facere quas exercitationem aliquam hic voluptas\\nneque id sunt ut aut accusamus\\nsunt consectetur expedita inventore velit',\n",
       "  u'id': 72,\n",
       "  u'title': u'sint hic doloribus consequatur eos non id',\n",
       "  u'userId': 8},\n",
       " {u'body': u'voluptatem cumque tenetur consequatur expedita ipsum nemo quia explicabo\\naut eum minima consequatur\\ntempore cumque quae est et\\net in consequuntur voluptatem voluptates aut',\n",
       "  u'id': 73,\n",
       "  u'title': u'consequuntur deleniti eos quia temporibus ab aliquid at',\n",
       "  u'userId': 8},\n",
       " {u'body': u'odit qui et et necessitatibus sint veniam\\nmollitia amet doloremque molestiae commodi similique magnam et quam\\nblanditiis est itaque\\nquo et tenetur ratione occaecati molestiae tempora',\n",
       "  u'id': 74,\n",
       "  u'title': u'enim unde ratione doloribus quas enim ut sit sapiente',\n",
       "  u'userId': 8},\n",
       " {u'body': u'commodi non non omnis et voluptas sit\\nautem aut nobis magnam et sapiente voluptatem\\net laborum repellat qui delectus facilis temporibus\\nrerum amet et nemo voluptate expedita adipisci error dolorem',\n",
       "  u'id': 75,\n",
       "  u'title': u'dignissimos eum dolor ut enim et delectus in',\n",
       "  u'userId': 8},\n",
       " {u'body': u'ut animi facere\\ntotam iusto tempore\\nmolestiae eum aut et dolorem aperiam\\nquaerat recusandae totam odio',\n",
       "  u'id': 76,\n",
       "  u'title': u'doloremque officiis ad et non perferendis',\n",
       "  u'userId': 8},\n",
       " {u'body': u'modi ut in nulla repudiandae dolorum nostrum eos\\naut consequatur omnis\\nut incidunt est omnis iste et quam\\nvoluptates sapiente aliquam asperiores nobis amet corrupti repudiandae provident',\n",
       "  u'id': 77,\n",
       "  u'title': u'necessitatibus quasi exercitationem odio',\n",
       "  u'userId': 8},\n",
       " {u'body': u'nobis facilis odit tempore cupiditate quia\\nassumenda doloribus rerum qui ea\\nillum et qui totam\\naut veniam repellendus',\n",
       "  u'id': 78,\n",
       "  u'title': u'quam voluptatibus rerum veritatis',\n",
       "  u'userId': 8},\n",
       " {u'body': u'libero accusantium et et facere incidunt sit dolorem\\nnon excepturi qui quia sed laudantium\\nquisquam molestiae ducimus est\\nofficiis esse molestiae iste et quos',\n",
       "  u'id': 79,\n",
       "  u'title': u'pariatur consequatur quia magnam autem omnis non amet',\n",
       "  u'userId': 8},\n",
       " {u'body': u'ex quod dolorem ea eum iure qui provident amet\\nquia qui facere excepturi et repudiandae\\nasperiores molestias provident\\nminus incidunt vero fugit rerum sint sunt excepturi provident',\n",
       "  u'id': 80,\n",
       "  u'title': u'labore in ex et explicabo corporis aut quas',\n",
       "  u'userId': 8},\n",
       " {u'body': u'facere qui nesciunt est voluptatum voluptatem nisi\\nsequi eligendi necessitatibus ea at rerum itaque\\nharum non ratione velit laboriosam quis consequuntur\\nex officiis minima doloremque voluptas ut aut',\n",
       "  u'id': 81,\n",
       "  u'title': u'tempora rem veritatis voluptas quo dolores vero',\n",
       "  u'userId': 9},\n",
       " {u'body': u'ut libero sit aut totam inventore sunt\\nporro sint qui sunt molestiae\\nconsequatur cupiditate qui iste ducimus adipisci\\ndolor enim assumenda soluta laboriosam amet iste delectus hic',\n",
       "  u'id': 82,\n",
       "  u'title': u'laudantium voluptate suscipit sunt enim enim',\n",
       "  u'userId': 9},\n",
       " {u'body': u'est molestiae facilis quis tempora numquam nihil qui\\nvoluptate sapiente consequatur est qui\\nnecessitatibus autem aut ipsa aperiam modi dolore numquam\\nreprehenderit eius rem quibusdam',\n",
       "  u'id': 83,\n",
       "  u'title': u'odit et voluptates doloribus alias odio et',\n",
       "  u'userId': 9},\n",
       " {u'body': u'sint molestiae magni a et quos\\neaque et quasi\\nut rerum debitis similique veniam\\nrecusandae dignissimos dolor incidunt consequatur odio',\n",
       "  u'id': 84,\n",
       "  u'title': u'optio ipsam molestias necessitatibus occaecati facilis veritatis dolores aut',\n",
       "  u'userId': 9},\n",
       " {u'body': u'similique sed nisi voluptas iusto omnis\\nmollitia et quo\\nassumenda suscipit officia magnam sint sed tempora\\nenim provident pariatur praesentium atque animi amet ratione',\n",
       "  u'id': 85,\n",
       "  u'title': u'dolore veritatis porro provident adipisci blanditiis et sunt',\n",
       "  u'userId': 9},\n",
       " {u'body': u'quasi excepturi consequatur iste autem temporibus sed molestiae beatae\\net quaerat et esse ut\\nvoluptatem occaecati et vel explicabo autem\\nasperiores pariatur deserunt optio',\n",
       "  u'id': 86,\n",
       "  u'title': u'placeat quia et porro iste',\n",
       "  u'userId': 9},\n",
       " {u'body': u'eos et molestiae\\nnesciunt ut a\\ndolores perspiciatis repellendus repellat aliquid\\nmagnam sint rem ipsum est',\n",
       "  u'id': 87,\n",
       "  u'title': u'nostrum quis quasi placeat',\n",
       "  u'userId': 9},\n",
       " {u'body': u'consequatur omnis est praesentium\\nducimus non iste\\nneque hic deserunt\\nvoluptatibus veniam cum et rerum sed',\n",
       "  u'id': 88,\n",
       "  u'title': u'sapiente omnis fugit eos',\n",
       "  u'userId': 9},\n",
       " {u'body': u'repellat aut aperiam totam temporibus autem et\\narchitecto magnam ut\\nconsequatur qui cupiditate rerum quia soluta dignissimos nihil iure\\ntempore quas est',\n",
       "  u'id': 89,\n",
       "  u'title': u'sint soluta et vel magnam aut ut sed qui',\n",
       "  u'userId': 9},\n",
       " {u'body': u'minus omnis soluta quia\\nqui sed adipisci voluptates illum ipsam voluptatem\\neligendi officia ut in\\neos soluta similique molestias praesentium blanditiis',\n",
       "  u'id': 90,\n",
       "  u'title': u'ad iusto omnis odit dolor voluptatibus',\n",
       "  u'userId': 9},\n",
       " {u'body': u'libero voluptate eveniet aperiam sed\\nsunt placeat suscipit molestias\\nsimilique fugit nam natus\\nexpedita consequatur consequatur dolores quia eos et placeat',\n",
       "  u'id': 91,\n",
       "  u'title': u'aut amet sed',\n",
       "  u'userId': 10},\n",
       " {u'body': u'aut et excepturi dicta laudantium sint rerum nihil\\nlaudantium et at\\na neque minima officia et similique libero et\\ncommodi voluptate qui',\n",
       "  u'id': 92,\n",
       "  u'title': u'ratione ex tenetur perferendis',\n",
       "  u'userId': 10},\n",
       " {u'body': u'dolorem quibusdam ducimus consequuntur dicta aut quo laboriosam\\nvoluptatem quis enim recusandae ut sed sunt\\nnostrum est odit totam\\nsit error sed sunt eveniet provident qui nulla',\n",
       "  u'id': 93,\n",
       "  u'title': u'beatae soluta recusandae',\n",
       "  u'userId': 10},\n",
       " {u'body': u'aspernatur expedita soluta quo ab ut similique\\nexpedita dolores amet\\nsed temporibus distinctio magnam saepe deleniti\\nomnis facilis nam ipsum natus sint similique omnis',\n",
       "  u'id': 94,\n",
       "  u'title': u'qui qui voluptates illo iste minima',\n",
       "  u'userId': 10},\n",
       " {u'body': u'earum voluptatem facere provident blanditiis velit laboriosam\\npariatur accusamus odio saepe\\ncumque dolor qui a dicta ab doloribus consequatur omnis\\ncorporis cupiditate eaque assumenda ad nesciunt',\n",
       "  u'id': 95,\n",
       "  u'title': u'id minus libero illum nam ad officiis',\n",
       "  u'userId': 10},\n",
       " {u'body': u'in non odio excepturi sint eum\\nlabore voluptates vitae quia qui et\\ninventore itaque rerum\\nveniam non exercitationem delectus aut',\n",
       "  u'id': 96,\n",
       "  u'title': u'quaerat velit veniam amet cupiditate aut numquam ut sequi',\n",
       "  u'userId': 10},\n",
       " {u'body': u'eum non blanditiis soluta porro quibusdam voluptas\\nvel voluptatem qui placeat dolores qui velit aut\\nvel inventore aut cumque culpa explicabo aliquid at\\nperspiciatis est et voluptatem dignissimos dolor itaque sit nam',\n",
       "  u'id': 97,\n",
       "  u'title': u'quas fugiat ut perspiciatis vero provident',\n",
       "  u'userId': 10},\n",
       " {u'body': u'doloremque ex facilis sit sint culpa\\nsoluta assumenda eligendi non ut eius\\nsequi ducimus vel quasi\\nveritatis est dolores',\n",
       "  u'id': 98,\n",
       "  u'title': u'laboriosam dolor voluptates',\n",
       "  u'userId': 10},\n",
       " {u'body': u'quo deleniti praesentium dicta non quod\\naut est molestias\\nmolestias et officia quis nihil\\nitaque dolorem quia',\n",
       "  u'id': 99,\n",
       "  u'title': u'temporibus sit alias delectus eligendi possimus magni',\n",
       "  u'userId': 10},\n",
       " {u'body': u'cupiditate quo est a modi nesciunt soluta\\nipsa voluptas error itaque dicta in\\nautem qui minus magnam et distinctio eum\\naccusamus ratione error aut',\n",
       "  u'id': 100,\n",
       "  u'title': u'at nam consequatur ea labore ea harum',\n",
       "  u'userId': 10}]"
      ]
     },
     "execution_count": 16,
     "metadata": {},
     "output_type": "execute_result"
    }
   ],
   "source": [
    "# 注意requests.models.Response Object的json()是一個method不是attribute\n",
    "res_json.json() # 自動將json轉換為Python dictionary"
   ]
  },
  {
   "cell_type": "code",
   "execution_count": 20,
   "metadata": {
    "collapsed": false
   },
   "outputs": [],
   "source": [
    "# 另外一個可以取得資料的方法，POST\n",
    "# 通常用在有表單／查詢的地方\n",
    "URL = \"https://www.thsrc.com.tw/tw/TimeTable/SearchResult\"\n",
    "data = {\n",
    "    'StartStation':'977abb69-413a-4ccf-a109-0272c24fd490',\n",
    "    'EndStation':'9c5ac6ca-ec89-48f8-aab0-41b738cb1814',\n",
    "    'SearchDate':'2016/08/23',\n",
    "    'SearchTime':'06:30',\n",
    "    'SearchWay':'DepartureInMandarin',\n",
    "}\n",
    "res = requests.post(URL, data=data)"
   ]
  },
  {
   "cell_type": "code",
   "execution_count": 21,
   "metadata": {
    "collapsed": false,
    "scrolled": true
   },
   "outputs": [
    {
     "data": {
      "text/plain": [
       "u'\\r\\n\\r\\n<!DOCTYPE html>\\r\\n<html lang=\"zh-tw\">\\r\\n<meta charset=\"utf-8\" />\\r\\n<head>\\r\\n <!--[if lt IE 9]>\\r\\n<script src=\"//html5shim.googlecode.com/svn/trunk/html5.js\"></script>\\r\\n<script src=\"/Content/dist/html5shiv.js\" type=\"text/javaScript\"></script>\\r\\n<script src=\"/Content/dist/html5shiv-printshiv.js\" type=\"text/javaScript\"></script>\\r\\n<![endif]-->\\r\\n<!--[if IE 7]>\\r\\n<script src=\"//ie7-js.googlecode.com/svn/version/2.1(beta4)/IE9.js\"></script>\\r\\n<![endif]-->\\r\\n<!--[if IE 8]>\\r\\n<script src=\"//ie7-js.googlecode.com/svn/version/2.1(beta4)/IE9.js\"></script>\\r\\n<![endif]-->\\r\\n<!--[if IE 6]>\\r\\n<link href=\"/Content/css/pngFix.css\" rel=\"stylesheet\" type=\"text/css\" />\\r\\n<script src=\"/Content/iepngfix/iepngfix_tilebg.js\" type=\"text/javaScript\"></script> \\r\\n<![endif]-->\\r\\n    \\r\\n\\r\\n<meta charset=\"utf-8\" />\\r\\n<link rel=\"shortcut icon\" href=\"/Content/favicon/favicon.ico\" />\\r\\n<!--<meta name=\"viewport\" content=\"width=device-width, initial-scale=1.0, user-scalable=no, minimum-scale=1.0, maximum-scale=1.0\" />-->\\r\\n<meta name=\"keywords\" content=\"\\u9ad8\\u9435,\\u5feb\\u901f,\\u65c5\\u904a\\u5047\\u671f,\\u904a\\u73a9\">\\r\\n<meta name=\"description\" content=\"\\u53f0\\u7063\\u9ad8\\u9435\\u9023\\u7d50\\u53f0\\u7063\\u5357\\u5317\\u4e3b\\u8981\\u57ce\\u5e02\\uff0c\\u6211\\u5011\\u4e0d\\u53ea\\u662f\\u4ea4\\u901a\\u904b\\u8f38\\u696d\\uff0c\\u66f4\\u662f\\u63a8\\u52d5\\u53f0\\u7063\\xad\\u524d\\u9032\\u7684\\u670d\\u52d9\\u696d\\uff1b\\u6211\\u5011\\u4ee3\\u8868\\u7684\\u4e0d\\u50c5\\u53ea\\u662f\\u901f\\u5ea6\\uff0c\\u800c\\u662f\\u901f\\u5ea6\\u6240\\u5e36\\u4f86\\u7684\\u73fe\\u4ee3\\u751f\\u6d3b\\u65b0\\u614b\\u5ea6\\uff1b\\u6211\\u5011\\u4ee5\\u66f4\\u6587\\u660e\\u7684\\u65c5\\u884c\\u9ad4\\u9a57\\uff0c\\u6210\\u70ba\\u4f60\\u5be6\\u73fe\\u5922\\u60f3\\u7684\\u52a9\\u529b\\uff0c\\u53f0\\u7063\\u9ad8\\u9435\\uff0c\\u5be6\\u8e10\\u53f0\\u7063\\u65b0\\u751f\\u6d3b\\u3002\">\\r\\n<meta name=\"author\" content=\"mi70 uni-net\" />\\r\\n\\r\\n\\r\\n    <meta http-equiv=\"cache-control\" content=\"private\">\\r\\n\\r\\n\\r\\n<!--Facebook SEO start-->\\r\\n\\r\\n<meta property=\"og:title\" content=\"\\u53f0\\u7063\\u9ad8\\u9435\" />\\r\\n<meta property=\"og:url\" content=\"http://www.thsrc.com.tw/\" />\\r\\n<meta property=\"og:image\" content=\"http://www.thsrc.com.tw/Content/logo.jpg\" />\\r\\n<!--Facebook SEO end-->\\r\\n    \\r\\n<!--Google +1 start-->\\r\\n<meta itemprop=\"name\" content=\"\\u53f0\\u7063\\u9ad8\\u9435\" />\\r\\n<meta itemprop=\"description\" content=\"\\u53f0\\u7063\\u9ad8\\u9435\\u9023\\u7d50\\u53f0\\u7063\\u5357\\u5317\\u4e3b\\u8981\\u57ce\\u5e02\\uff0c\\u6211\\u5011\\u4e0d\\u53ea\\u662f\\u4ea4\\u901a\\u904b\\u8f38\\u696d\\uff0c\\u66f4\\u662f\\u63a8\\u52d5\\u53f0\\u7063\\xad\\u524d\\u9032\\u7684\\u670d\\u52d9\\u696d\\uff1b\\u6211\\u5011\\u4ee3\\u8868\\u7684\\u4e0d\\u50c5\\u53ea\\u662f\\u901f\\u5ea6\\uff0c\\u800c\\u662f\\u901f\\u5ea6\\u6240\\u5e36\\u4f86\\u7684\\u73fe\\u4ee3\\u751f\\u6d3b\\u65b0\\u614b\\u5ea6\\uff1b\\u6211\\u5011\\u4ee5\\u66f4\\u6587\\u660e\\u7684\\u65c5\\u884c\\u9ad4\\u9a57\\uff0c\\u6210\\u70ba\\u4f60\\u5be6\\u73fe\\u5922\\u60f3\\u7684\\u52a9\\u529b\\uff0c\\u53f0\\u7063\\u9ad8\\u9435\\uff0c\\u5be6\\u8e10\\u53f0\\u7063\\u65b0\\u751f\\u6d3b\\u3002\" />\\r\\n<meta itemprop=\"image\" content=\"http://www.thsrc.com.tw/Content/logo.jpg\" />\\r\\n<!--Google +1 end-->\\r\\n\\r\\n<!-- Original CSS for the template -->\\r\\n<link href=\"/Content/css/css_reset.css\" rel=\"stylesheet\" type=\"text/css\" />\\r\\n\\r\\n<!-------------------->\\r\\n<!-- CSS for jQuery -->\\r\\n<!-------------------->\\r\\n<link href=\"/Content/css/jquery-ui-1.8.5.custom.css\" rel=\"stylesheet\" type=\"text/css\" />\\r\\n<link href=\"/Content/css/jquery.ui.datepicker.css\"  rel=\"stylesheet\" type=\"text/css\" />\\r\\n<link href=\"/Content/Script/fancybox/jquery.fancybox-1.3.1.css\" rel=\"stylesheet\" type=\"text/css\"  media=\"screen\" />\\r\\n\\r\\n\\r\\n<link href=\"/Content/css/main.css\" rel=\"stylesheet\" type=\"text/css\" />\\r\\n<link href=\"/Content/css/innerCommon.css\" rel=\"stylesheet\" type=\"text/css\">\\r\\n<link href=\"/Content/css/inner_all_common.css\" rel=\"stylesheet\" type=\"text/css\">\\r\\n\\r\\n\\r\\n\\r\\n<script src=\"/Content/Script/jquery-1.8.3.min.js\" type=\"text/javascript\"></script>\\r\\n<script src=\"/Content/Script/jquery-ui-1.8.5.custom.min.js\" type=\"text/javaScript\"></script>\\r\\n\\r\\n<script src=\"/Content/Script/ui.datepicker-zh-TW.js\" type=\"text/javaScript\"></script>\\r\\n\\r\\n<script src=\"/Content/Script/jquery.ui.datepicker.js\" type=\"text/javaScript\"></script>\\r\\n<script src=\"/Content/Script/fancybox/jquery.mousewheel-3.0.2.pack.js\" type=\"text/javaScript\"></script>\\r\\n<script src=\"/Content/Script/fancybox/jquery.fancybox-1.3.1.js\" type=\"text/javaScript\"></script>\\r\\n<script src=\"/Content/Script/dateTool.js\" type=\"text/javaScript\"></script>\\r\\n<script src=\"/Content/Script/THSRC.Common.js\" type=\"text/javaScript\"></script>\\r\\n<script language=\"JavaScript\" type=\"text/javascript\">\\r\\n    if (top.location != self.location) {\\r\\n        location.href = \"http://\" + self.location.host + \"/APPool/notice.html\";\\r\\n    }\\r\\n    </script><title>\\r\\n\\t\\u53f0\\u7063\\u9ad8\\u9435 Taiwan High Speed Rail\\r\\n</title>\\r\\n    <link rel=\"shortcut icon\" href=\"/Content/favicon/favicon.ico\" />\\r\\n    <link href=\"/Content/css/common_list_menu.css\" rel=\"stylesheet\" type=\"text/css\" />\\r\\n    <link href=\"/Content/css/error.css\" rel=\"stylesheet\" type=\"text/css\" />\\r\\n</head>\\r\\n\\r\\n<body>\\r\\n    <div class=\"wrapper\">\\r\\n        \\r\\n\\r\\n<header>\\r\\n            <h1><a href=\"/\" title=\"TAIWAN HIGH SPEED RAIL\" tabindex=\"1\">\\u53f0\\u7063\\u9ad8\\u9435</a></h1>\\r\\n            <aside class=\"top_aside\">\\r\\n              \\r\\n<ul>\\r\\n    <li class=\"aaBtn\"><a class=\"guildePoint\" href=\"#\" title=\"\\u4e0a\\u65b9\\u9078\\u55ae\\u5340\" accesskey=\"U\"><span style=\"color: white; margin: 0 8px 0 -8px;\">:::</span><a href=\"/tw/SiteMap\" title=\"\\u7db2\\u7ad9\\u5c0e\\u89bd\">\\u7db2\\u7ad9\\u5c0e\\u89bd</a></a></li>\\r\\n    <li class=\"addLine\"><a title=\\'\\u7e41\\u9ad4\\u4e2d\\u6587\\'\\r\\n        href=\"/tw/Home/Index\">\\r\\n        \\u7e41\\u9ad4\\u4e2d\\u6587\\r\\n    </a>\\r\\n    </li>\\r\\n    <li class=\"addLine\">\\r\\n        \\r\\n        \\r\\n        <a title=\\'\\u65e5\\u672c\\u8a9e\\'\\r\\n        href=\"/jp/\">\\r\\n        \\u65e5\\u672c\\u8a9e</a>\\r\\n\\r\\n        \\r\\n        \\r\\n    </li>\\r\\n    <li class=\"addLine\">\\r\\n        \\r\\n        \\r\\n        <a title=\\'English\\'\\r\\n        href=\"/en/\">\\r\\n        English</a>\\r\\n\\r\\n        \\r\\n        \\r\\n    </li>\\r\\n</ul>\\r\\n<form action=\"/tw/Home/Search\" id=\"formWholeSiteSearch\" method=\"post\" name=\"formWholeSiteSearch\">\\r\\n    <label for=\"searchBar\"><span style=\"display:none;\">\\u5168\\u7ad9\\u67e5\\u8a62</span></label>\\r\\n    <input id=\"searchBar\" name=\"searchBar\" placeholder=\"\\u8acb\\u8f38\\u5165\\u67e5\\u8a62\\u95dc\\u9375\\u5b57\" title=\"\\u8acb\\u8f38\\u5165\\u67e5\\u8a62\\u95dc\\u9375\\u5b57\" type=\"text\" value=\"\" />\\r\\n    <input type=\"submit\" id=\"searchBarSend\" onkeypress=\"SubmitSearch();return false;\" onclick=\"SubmitSearch();return false;\" />\\r\\n</form>\\r\\n<script type=\"text/javascript\">\\r\\n    function SubmitSearch() {\\r\\n        var keyword = $(\"#searchBar\").val();\\r\\n        if (keyword != \"\") {\\r\\n            $(\"#formWholeSiteSearch\").submit();\\r\\n        } else {\\r\\n            alert(\"\\u8acb\\u8f38\\u5165\\u641c\\u5c0b\\u5167\\u5bb9\");\\r\\n        }\\r\\n    }\\r\\n</script>\\r\\n<noscript>\\r\\n\\u8acb\\u8f38\\u5165\\u641c\\u5c0b\\u5167\\u5bb9\\r\\n</noscript>\\r\\n              <a href=\"https://www.facebook.com/thsrco\" target=\"_blank\" style=\"position:absolute; right:0px; top:34px;\" title=\"\\u9023\\u7d50\\u7c89\\u7d72\\u5c08\\u5340[\\u5c07\\u53e6\\u958b\\u65b0\\u8996\\u7a97]\">\\r\\n    <img border=\"0\" alt=\"\\u7c89\\u7d72\\u5c08\\u9801\" src=\"/Content/images_cn/common/fb_thsrco.jpg\"></a>\\r\\n            </aside>\\r\\n            \\r\\n\\r\\n <script type=\"text/javascript\" src=\"/Content/Script/forListMenu.js\"></script>\\r\\n  <script type=\"text/javascript\" src=\"/Content/Script/jquery.bgiframe.js\"></script>\\r\\n <link href=\"/Content/css/common_list_menu.css\" rel=\"stylesheet\" type=\"text/css\">\\r\\n <link href=\"/Content/css/common_list_menu_en_jp.css\" rel=\"stylesheet\" type=\"text/css\">\\r\\n\\r\\n\\r\\n<nav class=\"top_nav top_nav_tw\">\\r\\n\\t<ul>\\r\\n\\t<li class=\"nav_hot\" ><a href=\"/tw/SiteMap/#N\" title = \"\\u512a\\u60e0\\u6d3b\\u52d5\">\\u512a\\u60e0\\u6d3b\\u52d5</a>\\r\\n\\t\\t\\t\\t\\t\\t\\t\\t<div class=\"dl height_304\">\\r\\n\\t\\t\\t\\t\\t\\t\\t\\t\\t<div class=\"first_list\">\\r\\n\\t\\t\\t\\t\\t\\t\\t\\t\\t\\t<div class=\"has_photo_list\"><img src=\"/event/index_img/nav_hot.jpg\" width=\"200\" height=\"120\" alt=\"\\u512a\\u60e0\\u6d3b\\u52d5\" title = \"\\u512a\\u60e0\\u6d3b\\u52d5\"></div>\\r\\n\\t\\t\\t\\t\\t\\t\\t\\t\\t\\t<div title =\\u5bc6\\u96c6\\u65b9\\u4fbf\\uff0c\\u9ad8\\u9435\\u63d0\\u4f9b\\u60a8\\u6e96\\u9ede\\u53ef\\u9760\\u7684\\u5217\\u8eca\\u670d\\u52d9\\u3002 class=\"photo_list_word\">\\u5bc6\\u96c6\\u65b9\\u4fbf\\uff0c\\u9ad8\\u9435\\u63d0\\u4f9b\\u60a8\\u6e96\\u9ede\\u53ef\\u9760\\u7684\\u5217\\u8eca\\u670d\\u52d9\\u3002</div>\\r\\n\\t\\t\\t\\t\\t\\t\\t\\t\\t</div>\\r\\n\\t\\t\\t\\t\\t\\t\\t\\t\\t<div class=\"list_area list_area_tw\"> \\r\\n\\t\\t\\t\\t\\t\\t\\t\\t<div title =\"\\u8cfc\\u7968\\u512a\\u60e0\" class=\"dtnolink\">\\u8cfc\\u7968\\u512a\\u60e0</div>\\r\\n<div class=\"dd\">\\r\\n\\t\\t\\t\\t\\t\\t\\t<a title = \"\\u65e9\\u9ce5\\u512a\\u60e0\"  href=\"/tw/Article/ArticleContent/7039d17d-1463-4c14-ad93-4d491dedcad5\" alt = \"\\u65e9\\u9ce5\\u512a\\u60e0\"  >\\r\\n\\t\\t\\t\\t\\t\\t\\t\\u65e9\\u9ce5\\u512a\\u60e0\\r\\n\\t\\t\\t\\t\\t\\t\\t</a>\\r\\n\\t\\t\\t\\t\\t\\t\\t</div>\\r\\n<div class=\"dd\">\\r\\n\\t\\t\\t\\t\\t\\t\\t<a title = \"\\u4fe1\\u7528\\u5361\\u512a\\u60e0\\u5c08\\u5340\"  href=\"/tw/Article/ArticleContent/566d6bff-4427-461d-8b88-b6c4868f75c9\" alt = \"\\u4fe1\\u7528\\u5361\\u512a\\u60e0\\u5c08\\u5340\"  >\\r\\n\\t\\t\\t\\t\\t\\t\\t\\u4fe1\\u7528\\u5361\\u512a\\u60e0\\u5c08\\u5340\\r\\n\\t\\t\\t\\t\\t\\t\\t</a>\\r\\n\\t\\t\\t\\t\\t\\t\\t</div>\\r\\n<div class=\"dd\">\\r\\n\\t\\t\\t\\t\\t\\t\\t<a title = \"\\u6d3b\\u52d5\\u5957\\u7968\"  href=\"/tw/Article/ArticleContent/d794b386-96a7-445c-8a50-160862a037e9\" alt = \"\\u6d3b\\u52d5\\u5957\\u7968\"  >\\r\\n\\t\\t\\t\\t\\t\\t\\t\\u6d3b\\u52d5\\u5957\\u7968\\r\\n\\t\\t\\t\\t\\t\\t\\t</a>\\r\\n\\t\\t\\t\\t\\t\\t\\t</div>\\r\\n<div class=\"dd\">\\r\\n\\t\\t\\t\\t\\t\\t\\t<a title = \"\\u5927\\u5b78\\u751f\\u512a\\u60e0\"  href=\"/tw/Article/ArticleContent/530e869c-479d-441a-a4b4-61a8166827e9\" alt = \"\\u5927\\u5b78\\u751f\\u512a\\u60e0\"  >\\r\\n\\t\\t\\t\\t\\t\\t\\t\\u5927\\u5b78\\u751f\\u512a\\u60e0\\r\\n\\t\\t\\t\\t\\t\\t\\t</a>\\r\\n\\t\\t\\t\\t\\t\\t\\t</div>\\r\\n<div class=\"dd\">\\r\\n\\t\\t\\t\\t\\t\\t\\t<a title = \"\\u5e73\\u65e5\\u96e2\\u5cf096\\u6298\"  href=\"/tw/Article/ArticleContent/e75eb64d-0cbf-42de-a7fb-dc43116be985\" alt = \"\\u5e73\\u65e5\\u96e2\\u5cf096\\u6298\"  >\\r\\n\\t\\t\\t\\t\\t\\t\\t\\u5e73\\u65e5\\u96e2\\u5cf096\\u6298\\r\\n\\t\\t\\t\\t\\t\\t\\t</a>\\r\\n\\t\\t\\t\\t\\t\\t\\t</div>\\r\\n<div class=\"dd\">\\r\\n\\t\\t\\t\\t\\t\\t\\t<a title = \"25\\u4eba\\u4ee5\\u4e0a\\u5718\\u9ad4\\u512a\\u60e0\"  href=\"/tw/Article/ArticleContent/89a14510-7982-4b5e-88af-074305bfefed\" alt = \"25\\u4eba\\u4ee5\\u4e0a\\u5718\\u9ad4\\u512a\\u60e0\"  >\\r\\n\\t\\t\\t\\t\\t\\t\\t25\\u4eba\\u4ee5\\u4e0a\\u5718\\u9ad4\\u512a\\u60e0\\r\\n\\t\\t\\t\\t\\t\\t\\t</a>\\r\\n\\t\\t\\t\\t\\t\\t\\t</div>\\r\\n<div class=\"dd\">\\r\\n\\t\\t\\t\\t\\t\\t\\t<a title = \"\\u6821\\u5916\\u6559\\u5b78\\u512a\\u60e0\"  href=\"/tw/Article/ArticleContent/ca09cf02-8f65-4f87-b25e-31cb9c0e187b\" alt = \"\\u6821\\u5916\\u6559\\u5b78\\u512a\\u60e0\"  >\\r\\n\\t\\t\\t\\t\\t\\t\\t\\u6821\\u5916\\u6559\\u5b78\\u512a\\u60e0\\r\\n\\t\\t\\t\\t\\t\\t\\t</a>\\r\\n\\t\\t\\t\\t\\t\\t\\t</div>\\r\\n<div class=\"dd\">\\r\\n\\t\\t\\t\\t\\t\\t\\t<a title = \"\\u5718\\u9ad4\\u8a02\\u7968\"  href=\"/tw/Article/ArticleContent/41421730-b8ab-4fe3-b251-89e32cba8453\" alt = \"\\u5718\\u9ad4\\u8a02\\u7968\"  >\\r\\n\\t\\t\\t\\t\\t\\t\\t\\u5718\\u9ad4\\u8a02\\u7968\\r\\n\\t\\t\\t\\t\\t\\t\\t</a>\\r\\n\\t\\t\\t\\t\\t\\t\\t</div>\\r\\n<div class=\"dd\">\\r\\n\\t\\t\\t\\t\\t\\t\\t<a title = \"\\u56de\\u6578\\u7968\\u512a\\u60e0\"  href=\"/tw/Article/ArticleContent/8f06ca76-ab2d-4b77-bc20-73218ce3b892\" alt = \"\\u56de\\u6578\\u7968\\u512a\\u60e0\"  >\\r\\n\\t\\t\\t\\t\\t\\t\\t\\u56de\\u6578\\u7968\\u512a\\u60e0\\r\\n\\t\\t\\t\\t\\t\\t\\t</a>\\r\\n\\t\\t\\t\\t\\t\\t\\t</div>\\r\\n\\r\\n\\t\\t\\t\\t\\t\\t\\t</div>\\r\\n<div class=\"list_line\"></div>\\r\\n<div class=\"list_area list_area_tw\"> \\r\\n\\t\\t\\t\\t\\t\\t\\t\\t<div class=\"dd\">\\r\\n\\t\\t\\t\\t\\t\\t\\t<a title = \"\\u5b9a\\u671f\\u7968\\u512a\\u60e0\"  href=\"/tw/Article/ArticleContent/b7b46e29-424c-4fc4-8ec7-0ab3031f2c9c\" alt = \"\\u5b9a\\u671f\\u7968\\u512a\\u60e0\"  >\\r\\n\\t\\t\\t\\t\\t\\t\\t\\u5b9a\\u671f\\u7968\\u512a\\u60e0\\r\\n\\t\\t\\t\\t\\t\\t\\t</a>\\r\\n\\t\\t\\t\\t\\t\\t\\t</div>\\r\\n<div class=\"dd\">\\r\\n\\t\\t\\t\\t\\t\\t\\t<a title = \"\\u4f01\\u696d\\u6703\\u54e1\"  href=\"/tw/Article/ArticleContent/376238fd-2f6d-48f8-b070-9f2ea61b14b5\" alt = \"\\u4f01\\u696d\\u6703\\u54e1\"  >\\r\\n\\t\\t\\t\\t\\t\\t\\t\\u4f01\\u696d\\u6703\\u54e1<em></em>\\r\\n\\t\\t\\t\\t\\t\\t\\t</a>\\r\\n\\t\\t\\t\\t\\t\\t\\t</div>\\r\\n<div title =\"\\u6700\\u65b0\\u516c\\u544a\" class=\"dtnolink\">\\u6700\\u65b0\\u516c\\u544a</div>\\r\\n<div class=\"dd\">\\r\\n\\t\\t\\t\\t\\t\\t\\t<a title = \"\\u6700\\u65b0\\u6d88\\u606f\"  href=\"/tw/News/Index\" alt = \"\\u6700\\u65b0\\u6d88\\u606f\"  >\\r\\n\\t\\t\\t\\t\\t\\t\\t\\u6700\\u65b0\\u6d88\\u606f\\r\\n\\t\\t\\t\\t\\t\\t\\t</a>\\r\\n\\t\\t\\t\\t\\t\\t\\t</div>\\r\\n<div class=\"dd\">\\r\\n\\t\\t\\t\\t\\t\\t\\t<a title = \"\\u5217\\u8eca\\u904b\\u884c\\u72c0\\u6cc1\"  href=\"/tw/Operation/Index\" alt = \"\\u5217\\u8eca\\u904b\\u884c\\u72c0\\u6cc1\"  >\\r\\n\\t\\t\\t\\t\\t\\t\\t\\u5217\\u8eca\\u904b\\u884c\\u72c0\\u6cc1<em></em>\\r\\n\\t\\t\\t\\t\\t\\t\\t</a>\\r\\n\\t\\t\\t\\t\\t\\t\\t</div>\\r\\n<div title =\"\\u71b1\\u9580\\u6d3b\\u52d5\" class=\"dtnolink\">\\u71b1\\u9580\\u6d3b\\u52d5</div>\\r\\n<div class=\"dd\">\\r\\n\\t\\t\\t\\t\\t\\t\\t<a title = \"\\u6d3b\\u52d5\\u5408\\u4f5c\"  href=\"/tw/Article/ArticleContent/99ba7783-c46e-4b68-849b-e9084e5a0e15\" alt = \"\\u6d3b\\u52d5\\u5408\\u4f5c\"  >\\r\\n\\t\\t\\t\\t\\t\\t\\t\\u6d3b\\u52d5\\u5408\\u4f5c\\r\\n\\t\\t\\t\\t\\t\\t\\t</a>\\r\\n\\t\\t\\t\\t\\t\\t\\t</div>\\r\\n<div class=\"dd\">\\r\\n\\t\\t\\t\\t\\t\\t\\t<a title = \"\\u300c\\u85dd\\u300d\\u8d77\\u4f86\\u9ad8\\u9435\"  href=\"/tw/Article/ArticleContent/d9eee6e4-3bc9-4c1b-8e5c-f471fd0b7539\" alt = \"\\u300c\\u85dd\\u300d\\u8d77\\u4f86\\u9ad8\\u9435\"  >\\r\\n\\t\\t\\t\\t\\t\\t\\t\\u300c\\u85dd\\u300d\\u8d77\\u4f86\\u9ad8\\u9435<em></em>\\r\\n\\t\\t\\t\\t\\t\\t\\t</a>\\r\\n\\t\\t\\t\\t\\t\\t\\t</div>\\r\\n\\r\\n\\t\\t\\t\\t\\t\\t\\t</div>\\r\\n<div class=\"list_line\"></div>\\r\\n\\r\\n\\t\\t\\t\\t\\t\\t\\t\\t</div>\\r\\n\\t\\t\\t\\t\\t\\t\\t</li>\\r\\n<li class=\"nav_ticket\" ><a href=\"/tw/SiteMap/#T\" title = \"\\u8cfc\\u7968\\u8cc7\\u8a0a\">\\u8cfc\\u7968\\u8cc7\\u8a0a</a>\\r\\n\\t\\t\\t\\t\\t\\t\\t\\t<div class=\"dl height_304\">\\r\\n\\t\\t\\t\\t\\t\\t\\t\\t\\t<div class=\"first_list\">\\r\\n\\t\\t\\t\\t\\t\\t\\t\\t\\t\\t<div class=\"has_photo_list\"><img src=\"/event/index_img/nav_ticket.jpg\" width=\"200\" height=\"120\" alt=\"\\u8cfc\\u7968\\u8cc7\\u8a0a\" title = \"\\u8cfc\\u7968\\u8cc7\\u8a0a\"></div>\\r\\n\\t\\t\\t\\t\\t\\t\\t\\t\\t\\t<div title =\\u6700\\u65b0\\u7684\\u8cfc\\u7968\\u512a\\u60e0\\u53ca\\u5217\\u8eca\\u8cc7\\u8a0a\\uff0c\\u5feb\\u901f\\u638c\\u63e1\\u9ad8\\u9435\\u52d5\\u614b\\u3002 class=\"photo_list_word\">\\u6700\\u65b0\\u7684\\u8cfc\\u7968\\u512a\\u60e0\\u53ca\\u5217\\u8eca\\u8cc7\\u8a0a\\uff0c\\u5feb\\u901f\\u638c\\u63e1\\u9ad8\\u9435\\u52d5\\u614b\\u3002</div>\\r\\n\\t\\t\\t\\t\\t\\t\\t\\t\\t</div>\\r\\n\\t\\t\\t\\t\\t\\t\\t\\t\\t<div class=\"list_area list_area_tw\"> \\r\\n\\t\\t\\t\\t\\t\\t\\t\\t<div title =\"\\u7968\\u7a2e\\u8aaa\\u660e\" class=\"dtnolink\">\\u7968\\u7a2e\\u8aaa\\u660e</div>\\r\\n<div class=\"dd\">\\r\\n\\t\\t\\t\\t\\t\\t\\t<a title = \"\\u7968\\u50f9\\u7522\\u54c1\\u4e00\\u89bd\\u8868\"  href=\"/tw/Article/ArticleContent/caa6fac8-b875-4ad6-b1e6-96c2902d12a6\" alt = \"\\u7968\\u50f9\\u7522\\u54c1\\u4e00\\u89bd\\u8868\"  >\\r\\n\\t\\t\\t\\t\\t\\t\\t\\u7968\\u50f9\\u7522\\u54c1\\u4e00\\u89bd\\u8868<em></em>\\r\\n\\t\\t\\t\\t\\t\\t\\t</a>\\r\\n\\t\\t\\t\\t\\t\\t\\t</div>\\r\\n<div title =\"\\u5982\\u4f55\\u8cfc\\u7968\" class=\"dtnolink\">\\u5982\\u4f55\\u8cfc\\u7968</div>\\r\\n<div class=\"dd\">\\r\\n\\t\\t\\t\\t\\t\\t\\t<a title = \"\\u7db2\\u8def\\u8a02\\u7968\"  href=\"/tw/Article/ArticleContent/dea241a9-fe69-4e9d-b9a5-6caed6e486d6\" alt = \"\\u7db2\\u8def\\u8a02\\u7968\"  >\\r\\n\\t\\t\\t\\t\\t\\t\\t\\u7db2\\u8def\\u8a02\\u7968\\r\\n\\t\\t\\t\\t\\t\\t\\t</a>\\r\\n\\t\\t\\t\\t\\t\\t\\t</div>\\r\\n<div class=\"dd\">\\r\\n\\t\\t\\t\\t\\t\\t\\t<a title = \"\\u300cT-EX\\u884c\\u52d5\\u8cfc\\u7968\\u300dApp\"  href=\"/tw/Article/ArticleContent/4d262503-84bc-4963-a58e-4ca1a6453ad3\" alt = \"\\u300cT-EX\\u884c\\u52d5\\u8cfc\\u7968\\u300dApp\"  >\\r\\n\\t\\t\\t\\t\\t\\t\\t\\u300cT-EX\\u884c\\u52d5\\u8cfc\\u7968\\u300dApp\\r\\n\\t\\t\\t\\t\\t\\t\\t</a>\\r\\n\\t\\t\\t\\t\\t\\t\\t</div>\\r\\n<div class=\"dd\">\\r\\n\\t\\t\\t\\t\\t\\t\\t<a title = \"\\u4fbf\\u5229\\u5546\\u5e97\\u8cfc\\u7968\"  href=\"/tw/Article/ArticleContent/baba745a-d802-440c-b762-3eef37b96b60\" alt = \"\\u4fbf\\u5229\\u5546\\u5e97\\u8cfc\\u7968\"  >\\r\\n\\t\\t\\t\\t\\t\\t\\t\\u4fbf\\u5229\\u5546\\u5e97\\u8cfc\\u7968\\r\\n\\t\\t\\t\\t\\t\\t\\t</a>\\r\\n\\t\\t\\t\\t\\t\\t\\t</div>\\r\\n<div class=\"dd\">\\r\\n\\t\\t\\t\\t\\t\\t\\t<a title = \"\\u81ea\\u52d5\\u8a9e\\u97f3\\u8a02\\u4f4d\\u670d\\u52d9\"  href=\"/tw/Article/ArticleContent/7a96ad53-6efa-4c58-bb17-70c9f649b4e3\" alt = \"\\u81ea\\u52d5\\u8a9e\\u97f3\\u8a02\\u4f4d\\u670d\\u52d9\"  >\\r\\n\\t\\t\\t\\t\\t\\t\\t\\u81ea\\u52d5\\u8a9e\\u97f3\\u8a02\\u4f4d\\u670d\\u52d9\\r\\n\\t\\t\\t\\t\\t\\t\\t</a>\\r\\n\\t\\t\\t\\t\\t\\t\\t</div>\\r\\n<div class=\"dd\">\\r\\n\\t\\t\\t\\t\\t\\t\\t<a title = \"\\u81ea\\u52d5\\u552e\\u7968\\u6a5f\\u8cfc\\u7968\"  href=\"/tw/Article/ArticleContent/6be4173c-91dc-4d06-ae3e-a19de420a237\" alt = \"\\u81ea\\u52d5\\u552e\\u7968\\u6a5f\\u8cfc\\u7968\"  >\\r\\n\\t\\t\\t\\t\\t\\t\\t\\u81ea\\u52d5\\u552e\\u7968\\u6a5f\\u8cfc\\u7968\\r\\n\\t\\t\\t\\t\\t\\t\\t</a>\\r\\n\\t\\t\\t\\t\\t\\t\\t</div>\\r\\n<div class=\"dd\">\\r\\n\\t\\t\\t\\t\\t\\t\\t<a title = \"\\u5718\\u9ad4\\u8a02\\u7968\"  href=\"/tw/Article/ArticleContent/41421730-b8ab-4fe3-b251-89e32cba8453\" alt = \"\\u5718\\u9ad4\\u8a02\\u7968\"  >\\r\\n\\t\\t\\t\\t\\t\\t\\t\\u5718\\u9ad4\\u8a02\\u7968\\r\\n\\t\\t\\t\\t\\t\\t\\t</a>\\r\\n\\t\\t\\t\\t\\t\\t\\t</div>\\r\\n<div class=\"dd\">\\r\\n\\t\\t\\t\\t\\t\\t\\t<a title = \"\\u8eca\\u7ad9\\u7a97\\u53e3\\u8cfc\\u7968\"  href=\"/tw/Article/ArticleContent/43d5e5e2-3777-46b9-bc8f-8b5b579b50ed\" alt = \"\\u8eca\\u7ad9\\u7a97\\u53e3\\u8cfc\\u7968\"  >\\r\\n\\t\\t\\t\\t\\t\\t\\t\\u8eca\\u7ad9\\u7a97\\u53e3\\u8cfc\\u7968\\r\\n\\t\\t\\t\\t\\t\\t\\t</a>\\r\\n\\t\\t\\t\\t\\t\\t\\t</div>\\r\\n\\r\\n\\t\\t\\t\\t\\t\\t\\t</div>\\r\\n<div class=\"list_line\"></div>\\r\\n<div class=\"list_area list_area_tw\"> \\r\\n\\t\\t\\t\\t\\t\\t\\t\\t<div class=\"dd\">\\r\\n\\t\\t\\t\\t\\t\\t\\t<a title = \"\\u60a0\\u904a\\u806f\\u540d\\u5361\"  href=\"/tw/Article/ArticleContent/27bf64ed-5a99-4c0f-9021-dbe609998cdb\" alt = \"\\u60a0\\u904a\\u806f\\u540d\\u5361\"  >\\r\\n\\t\\t\\t\\t\\t\\t\\t\\u60a0\\u904a\\u806f\\u540d\\u5361\\r\\n\\t\\t\\t\\t\\t\\t\\t</a>\\r\\n\\t\\t\\t\\t\\t\\t\\t</div>\\r\\n<div class=\"dd\">\\r\\n\\t\\t\\t\\t\\t\\t\\t<a title = \"\\u7121\\u969c\\u7919\\u670d\\u52d9\"  href=\"/tw/Article/ArticleContent/dba4ecd0-5ef0-45d2-aa64-bcecdf7d5fde\" alt = \"\\u7121\\u969c\\u7919\\u670d\\u52d9\"  >\\r\\n\\t\\t\\t\\t\\t\\t\\t\\u7121\\u969c\\u7919\\u670d\\u52d9<em></em>\\r\\n\\t\\t\\t\\t\\t\\t\\t</a>\\r\\n\\t\\t\\t\\t\\t\\t\\t</div>\\r\\n<div title =\"\\u5feb\\u901f\\u67e5\\u8a62\" class=\"dtnolink\">\\u5feb\\u901f\\u67e5\\u8a62</div>\\r\\n<div class=\"dd\">\\r\\n\\t\\t\\t\\t\\t\\t\\t<a title = \"\\u6642\\u523b\\u8868\\u8207\\u7968\\u50f9\\u67e5\\u8a62\"  href=\"/tw/TimeTable/SearchResult\" alt = \"\\u6642\\u523b\\u8868\\u8207\\u7968\\u50f9\\u67e5\\u8a62\"  >\\r\\n\\t\\t\\t\\t\\t\\t\\t\\u6642\\u523b\\u8868\\u8207\\u7968\\u50f9\\u67e5\\u8a62\\r\\n\\t\\t\\t\\t\\t\\t\\t</a>\\r\\n\\t\\t\\t\\t\\t\\t\\t</div>\\r\\n<div class=\"dd\">\\r\\n\\t\\t\\t\\t\\t\\t\\t<a title = \"T Express \\u642d\\u4e58\\u7d00\\u9304[\\u5c07\\u53e6\\u958b\\u65b0\\u8996\\u7a97 ]\"  href=\"http://ptis.thsrc.com.tw/ptis/web_proof/texp_index.jsp\" alt = \"T Express \\u642d\\u4e58\\u7d00\\u9304[\\u5c07\\u53e6\\u958b\\u65b0\\u8996\\u7a97 ]\" target=\"_blank\" >\\r\\n\\t\\t\\t\\t\\t\\t\\tT Express \\u642d\\u4e58\\u7d00\\u9304<span style=\\'display:none;\\'>[\\u5c07\\u53e6\\u958b\\u65b0\\u8996\\u7a97 ]</span>\\r\\n\\t\\t\\t\\t\\t\\t\\t</a>\\r\\n\\t\\t\\t\\t\\t\\t\\t</div>\\r\\n<div class=\"dd\">\\r\\n\\t\\t\\t\\t\\t\\t\\t<a title = \"\\u56de\\u6578 / \\u5b9a\\u671f\\u7968\\u642d\\u4e58\\u7d00\\u9304[\\u5c07\\u53e6\\u958b\\u65b0\\u8996\\u7a97 ]\"  href=\"http://ptis.thsrc.com.tw/ptis/web_proof/csc_travel.jsp\" alt = \"\\u56de\\u6578 / \\u5b9a\\u671f\\u7968\\u642d\\u4e58\\u7d00\\u9304[\\u5c07\\u53e6\\u958b\\u65b0\\u8996\\u7a97 ]\" target=\"_blank\" >\\r\\n\\t\\t\\t\\t\\t\\t\\t\\u56de\\u6578 / \\u5b9a\\u671f\\u7968\\u642d\\u4e58\\u7d00\\u9304<span style=\\'display:none;\\'>[\\u5c07\\u53e6\\u958b\\u65b0\\u8996\\u7a97 ]</span>\\r\\n\\t\\t\\t\\t\\t\\t\\t</a>\\r\\n\\t\\t\\t\\t\\t\\t\\t</div>\\r\\n<div class=\"dd\">\\r\\n\\t\\t\\t\\t\\t\\t\\t<a title = \"\\u60a0\\u904a\\u806f\\u540d\\u5361\\u642d\\u4e58\\u7d00\\u9304[\\u5c07\\u53e6\\u958b\\u65b0\\u8996\\u7a97 ]\"  href=\"https://queryweb.tscc.com.tw/thsrc_web/\" alt = \"\\u60a0\\u904a\\u806f\\u540d\\u5361\\u642d\\u4e58\\u7d00\\u9304[\\u5c07\\u53e6\\u958b\\u65b0\\u8996\\u7a97 ]\" target=\"_blank\" >\\r\\n\\t\\t\\t\\t\\t\\t\\t\\u60a0\\u904a\\u806f\\u540d\\u5361\\u642d\\u4e58\\u7d00\\u9304<span style=\\'display:none;\\'>[\\u5c07\\u53e6\\u958b\\u65b0\\u8996\\u7a97 ]</span><span style=\\'display:none;\\'>[\\u5c07\\u53e6\\u958b\\u65b0\\u8996\\u7a97 ]</span><em></em>\\r\\n\\t\\t\\t\\t\\t\\t\\t</a>\\r\\n\\t\\t\\t\\t\\t\\t\\t</div>\\r\\n<div title =\"\\u4f01\\u696d\\u6703\\u54e1\" class=\"dtnolink\">\\u4f01\\u696d\\u6703\\u54e1</div>\\r\\n<div class=\"dd\">\\r\\n\\t\\t\\t\\t\\t\\t\\t<a title = \"\\u52a0\\u5165\\u4f01\\u696d\\u6703\\u54e1\"  href=\"http://www.thsrc.com.tw/tw/Article/ArticleContent/376238fd-2f6d-48f8-b070-9f2ea61b14b5\" alt = \"\\u52a0\\u5165\\u4f01\\u696d\\u6703\\u54e1\"  >\\r\\n\\t\\t\\t\\t\\t\\t\\t\\u52a0\\u5165\\u4f01\\u696d\\u6703\\u54e1<em></em>\\r\\n\\t\\t\\t\\t\\t\\t\\t</a>\\r\\n\\t\\t\\t\\t\\t\\t\\t</div>\\r\\n<div title =\"\\u76f8\\u95dc\\u6cd5\\u898f\" class=\"dtnolink\">\\u76f8\\u95dc\\u6cd5\\u898f</div>\\r\\n\\r\\n\\t\\t\\t\\t\\t\\t\\t</div>\\r\\n<div class=\"list_line\"></div>\\r\\n<div class=\"list_area list_area_tw\"> \\r\\n\\t\\t\\t\\t\\t\\t\\t\\t<div class=\"dd\">\\r\\n\\t\\t\\t\\t\\t\\t\\t<a title = \"\\u76f8\\u95dc\\u6cd5\\u898f\"  href=\"/tw/Article/ArticleContent/7de57796-db08-4d94-b183-bd62618859db\" alt = \"\\u76f8\\u95dc\\u6cd5\\u898f\"  >\\r\\n\\t\\t\\t\\t\\t\\t\\t\\u76f8\\u95dc\\u6cd5\\u898f<em></em>\\r\\n\\t\\t\\t\\t\\t\\t\\t</a>\\r\\n\\t\\t\\t\\t\\t\\t\\t</div>\\r\\n\\r\\n\\t\\t\\t\\t\\t\\t\\t</div>\\r\\n<div class=\"list_line\"></div>\\r\\n\\r\\n\\t\\t\\t\\t\\t\\t\\t\\t</div>\\r\\n\\t\\t\\t\\t\\t\\t\\t</li>\\r\\n<li class=\"nav_info\" ><a href=\"/tw/SiteMap/#C\" title = \"\\u4e58\\u8eca\\u6307\\u5357\">\\u4e58\\u8eca\\u6307\\u5357</a>\\r\\n\\t\\t\\t\\t\\t\\t\\t\\t<div class=\"dl height_304\">\\r\\n\\t\\t\\t\\t\\t\\t\\t\\t\\t<div class=\"first_list\">\\r\\n\\t\\t\\t\\t\\t\\t\\t\\t\\t\\t<div class=\"has_photo_list\"><img src=\"/event/index_img/nav_info.jpg\" width=\"200\" height=\"120\" alt=\"\\u4e58\\u8eca\\u6307\\u5357\" title = \"\\u4e58\\u8eca\\u6307\\u5357\"></div>\\r\\n\\t\\t\\t\\t\\t\\t\\t\\t\\t\\t<div title =\\u8212\\u9069\\u7684\\u74b0\\u5883\\u53ca\\u4fbf\\u6377\\u7684\\u4ea4\\u901a\\u8f49\\u4e58\\uff0c\\u9ad8\\u9435\\u8207\\u60a8\\u5171\\u5275\\u7f8e\\u597d\\u65c5\\u7a0b\\u3002 class=\"photo_list_word\">\\u8212\\u9069\\u7684\\u74b0\\u5883\\u53ca\\u4fbf\\u6377\\u7684\\u4ea4\\u901a\\u8f49\\u4e58\\uff0c\\u9ad8\\u9435\\u8207\\u60a8\\u5171\\u5275\\u7f8e\\u597d\\u65c5\\u7a0b\\u3002</div>\\r\\n\\t\\t\\t\\t\\t\\t\\t\\t\\t</div>\\r\\n\\t\\t\\t\\t\\t\\t\\t\\t\\t<div class=\"list_area list_area_tw\"> \\r\\n\\t\\t\\t\\t\\t\\t\\t\\t<div title =\"\\u8eca\\u7ad9\\u8cc7\\u8a0a\" class=\"dtnolink\">\\u8eca\\u7ad9\\u8cc7\\u8a0a</div>\\r\\n<div class=\"dd\">\\r\\n\\t\\t\\t\\t\\t\\t\\t<a title = \"\\u5357\\u6e2f\\u7ad9\"  href=\"/tw/StationInfo/Prospect/2F940836-CEDC-41EF-8E28-C2336AC8FE68\" alt = \"\\u5357\\u6e2f\\u7ad9\"  >\\r\\n\\t\\t\\t\\t\\t\\t\\t\\u5357\\u6e2f\\u7ad9\\r\\n\\t\\t\\t\\t\\t\\t\\t</a>\\r\\n\\t\\t\\t\\t\\t\\t\\t</div>\\r\\n<div class=\"dd\">\\r\\n\\t\\t\\t\\t\\t\\t\\t<a title = \"\\u53f0\\u5317\\u7ad9\"  href=\"http://www.thsrc.com.tw/tw/StationInfo/prospect/977abb69-413a-4ccf-a109-0272c24fd490\" alt = \"\\u53f0\\u5317\\u7ad9\"  >\\r\\n\\t\\t\\t\\t\\t\\t\\t\\u53f0\\u5317\\u7ad9\\r\\n\\t\\t\\t\\t\\t\\t\\t</a>\\r\\n\\t\\t\\t\\t\\t\\t\\t</div>\\r\\n<div class=\"dd\">\\r\\n\\t\\t\\t\\t\\t\\t\\t<a title = \"\\u677f\\u6a4b\\u7ad9\"  href=\"/tw/StationInfo/Prospect/e6e26e66-7dc1-458f-b2f3-71ce65fdc95f\" alt = \"\\u677f\\u6a4b\\u7ad9\"  >\\r\\n\\t\\t\\t\\t\\t\\t\\t\\u677f\\u6a4b\\u7ad9\\r\\n\\t\\t\\t\\t\\t\\t\\t</a>\\r\\n\\t\\t\\t\\t\\t\\t\\t</div>\\r\\n<div class=\"dd\">\\r\\n\\t\\t\\t\\t\\t\\t\\t<a title = \"\\u6843\\u5712\\u7ad9\"  href=\"/tw/StationInfo/Prospect/fbd828d8-b1da-4b06-a3bd-680cdca4d2cd\" alt = \"\\u6843\\u5712\\u7ad9\"  >\\r\\n\\t\\t\\t\\t\\t\\t\\t\\u6843\\u5712\\u7ad9\\r\\n\\t\\t\\t\\t\\t\\t\\t</a>\\r\\n\\t\\t\\t\\t\\t\\t\\t</div>\\r\\n<div class=\"dd\">\\r\\n\\t\\t\\t\\t\\t\\t\\t<a title = \"\\u65b0\\u7af9\\u7ad9\"  href=\"/tw/StationInfo/Prospect/a7a04c89-900b-4798-95a3-c01c455622f4\" alt = \"\\u65b0\\u7af9\\u7ad9\"  >\\r\\n\\t\\t\\t\\t\\t\\t\\t\\u65b0\\u7af9\\u7ad9\\r\\n\\t\\t\\t\\t\\t\\t\\t</a>\\r\\n\\t\\t\\t\\t\\t\\t\\t</div>\\r\\n<div class=\"dd\">\\r\\n\\t\\t\\t\\t\\t\\t\\t<a title = \"\\u82d7\\u6817\\u7ad9\"  href=\"/tw/StationInfo/Prospect/E8FC2123-2AAF-46FF-AD79-51D4002A1EF3\" alt = \"\\u82d7\\u6817\\u7ad9\"  >\\r\\n\\t\\t\\t\\t\\t\\t\\t\\u82d7\\u6817\\u7ad9\\r\\n\\t\\t\\t\\t\\t\\t\\t</a>\\r\\n\\t\\t\\t\\t\\t\\t\\t</div>\\r\\n<div class=\"dd\">\\r\\n\\t\\t\\t\\t\\t\\t\\t<a title = \"\\u53f0\\u4e2d\\u7ad9\"  href=\"/tw/StationInfo/Prospect/3301e395-46b8-47aa-aa37-139e15708779\" alt = \"\\u53f0\\u4e2d\\u7ad9\"  >\\r\\n\\t\\t\\t\\t\\t\\t\\t\\u53f0\\u4e2d\\u7ad9\\r\\n\\t\\t\\t\\t\\t\\t\\t</a>\\r\\n\\t\\t\\t\\t\\t\\t\\t</div>\\r\\n<div class=\"dd\">\\r\\n\\t\\t\\t\\t\\t\\t\\t<a title = \"\\u5f70\\u5316\\u7ad9\"  href=\"/tw/StationInfo/Prospect/38B8C40B-AEF0-4D66-B257-DA96EC51620E\" alt = \"\\u5f70\\u5316\\u7ad9\"  >\\r\\n\\t\\t\\t\\t\\t\\t\\t\\u5f70\\u5316\\u7ad9\\r\\n\\t\\t\\t\\t\\t\\t\\t</a>\\r\\n\\t\\t\\t\\t\\t\\t\\t</div>\\r\\n<div class=\"dd\">\\r\\n\\t\\t\\t\\t\\t\\t\\t<a title = \"\\u96f2\\u6797\\u7ad9\"  href=\"/tw/StationInfo/Prospect/5F4C7BB0-C676-4E39-8D3C-F12FC188EE5F\" alt = \"\\u96f2\\u6797\\u7ad9\"  >\\r\\n\\t\\t\\t\\t\\t\\t\\t\\u96f2\\u6797\\u7ad9\\r\\n\\t\\t\\t\\t\\t\\t\\t</a>\\r\\n\\t\\t\\t\\t\\t\\t\\t</div>\\r\\n\\r\\n\\t\\t\\t\\t\\t\\t\\t</div>\\r\\n<div class=\"list_line\"></div>\\r\\n<div class=\"list_area list_area_tw\"> \\r\\n\\t\\t\\t\\t\\t\\t\\t\\t<div class=\"dd\">\\r\\n\\t\\t\\t\\t\\t\\t\\t<a title = \"\\u5609\\u7fa9\\u7ad9\"  href=\"/tw/StationInfo/Prospect/60831846-f0e4-47f6-9b5b-46323ebdcef7\" alt = \"\\u5609\\u7fa9\\u7ad9\"  >\\r\\n\\t\\t\\t\\t\\t\\t\\t\\u5609\\u7fa9\\u7ad9\\r\\n\\t\\t\\t\\t\\t\\t\\t</a>\\r\\n\\t\\t\\t\\t\\t\\t\\t</div>\\r\\n<div class=\"dd\">\\r\\n\\t\\t\\t\\t\\t\\t\\t<a title = \"\\u53f0\\u5357\\u7ad9\"  href=\"/tw/StationInfo/Prospect/9c5ac6ca-ec89-48f8-aab0-41b738cb1814\" alt = \"\\u53f0\\u5357\\u7ad9\"  >\\r\\n\\t\\t\\t\\t\\t\\t\\t\\u53f0\\u5357\\u7ad9\\r\\n\\t\\t\\t\\t\\t\\t\\t</a>\\r\\n\\t\\t\\t\\t\\t\\t\\t</div>\\r\\n<div class=\"dd\">\\r\\n\\t\\t\\t\\t\\t\\t\\t<a title = \"\\u5de6\\u71df\\u7ad9\"  href=\"/tw/StationInfo/Prospect/f2519629-5973-4d08-913b-479cce78a356\" alt = \"\\u5de6\\u71df\\u7ad9\"  >\\r\\n\\t\\t\\t\\t\\t\\t\\t\\u5de6\\u71df\\u7ad9<em></em>\\r\\n\\t\\t\\t\\t\\t\\t\\t</a>\\r\\n\\t\\t\\t\\t\\t\\t\\t</div>\\r\\n<div title =\"\\u8f49\\u4e58\\u670d\\u52d9\" class=\"dtnolink\">\\u8f49\\u4e58\\u670d\\u52d9</div>\\r\\n<div class=\"dd\">\\r\\n\\t\\t\\t\\t\\t\\t\\t<a title = \"\\u8f49\\u4e58\\u670d\\u52d9\\u7e3d\\u89bd\"  href=\"/tw/Article/ArticleContent/c2a8fd9d-ced6-43b1-9297-9eab4127b5ff\" alt = \"\\u8f49\\u4e58\\u670d\\u52d9\\u7e3d\\u89bd\"  >\\r\\n\\t\\t\\t\\t\\t\\t\\t\\u8f49\\u4e58\\u670d\\u52d9\\u7e3d\\u89bd<em></em>\\r\\n\\t\\t\\t\\t\\t\\t\\t</a>\\r\\n\\t\\t\\t\\t\\t\\t\\t</div>\\r\\n<div title =\"\\u670d\\u52d9\\u8207\\u8a2d\\u65bd\" class=\"dtnolink\">\\u670d\\u52d9\\u8207\\u8a2d\\u65bd</div>\\r\\n<div class=\"dd\">\\r\\n\\t\\t\\t\\t\\t\\t\\t<a title = \"\\u670d\\u52d9\\u8207\\u8a2d\\u65bd\\u7e3d\\u89bd\"  href=\"/tw/Article/ArticleContent/9915abee-dc70-4ba3-9f6d-c425873c3475\" alt = \"\\u670d\\u52d9\\u8207\\u8a2d\\u65bd\\u7e3d\\u89bd\"  >\\r\\n\\t\\t\\t\\t\\t\\t\\t\\u670d\\u52d9\\u8207\\u8a2d\\u65bd\\u7e3d\\u89bd\\r\\n\\t\\t\\t\\t\\t\\t\\t</a>\\r\\n\\t\\t\\t\\t\\t\\t\\t</div>\\r\\n<div class=\"dd\">\\r\\n\\t\\t\\t\\t\\t\\t\\t<a title = \"\\u7121\\u969c\\u7919\\u670d\\u52d9\"  href=\"http://www.thsrc.com.tw/tw/Article/ArticleContent/dba4ecd0-5ef0-45d2-aa64-bcecdf7d5fde\" alt = \"\\u7121\\u969c\\u7919\\u670d\\u52d9\"  >\\r\\n\\t\\t\\t\\t\\t\\t\\t\\u7121\\u969c\\u7919\\u670d\\u52d9\\r\\n\\t\\t\\t\\t\\t\\t\\t</a>\\r\\n\\t\\t\\t\\t\\t\\t\\t</div>\\r\\n<div class=\"dd\">\\r\\n\\t\\t\\t\\t\\t\\t\\t<a title = \"\\u8eca\\u5ec2\\u4ecb\\u7d39\"  href=\"/tw/StationInfo/Accommondation\" alt = \"\\u8eca\\u5ec2\\u4ecb\\u7d39\"  >\\r\\n\\t\\t\\t\\t\\t\\t\\t\\u8eca\\u5ec2\\u4ecb\\u7d39\\r\\n\\t\\t\\t\\t\\t\\t\\t</a>\\r\\n\\t\\t\\t\\t\\t\\t\\t</div>\\r\\n<div class=\"dd\">\\r\\n\\t\\t\\t\\t\\t\\t\\t<a title = \"\\u8eca\\u5ec2\\u670d\\u52d9\\u4ecb\\u7d39\"  href=\"/tw/Article/ArticleContent/feb91116-8a73-46b7-a6b7-f115a3137ccf\" alt = \"\\u8eca\\u5ec2\\u670d\\u52d9\\u4ecb\\u7d39\"  >\\r\\n\\t\\t\\t\\t\\t\\t\\t\\u8eca\\u5ec2\\u670d\\u52d9\\u4ecb\\u7d39\\r\\n\\t\\t\\t\\t\\t\\t\\t</a>\\r\\n\\t\\t\\t\\t\\t\\t\\t</div>\\r\\n\\r\\n\\t\\t\\t\\t\\t\\t\\t</div>\\r\\n<div class=\"list_line\"></div>\\r\\n<div class=\"list_area list_area_tw\"> \\r\\n\\t\\t\\t\\t\\t\\t\\t\\t<div class=\"dd\">\\r\\n\\t\\t\\t\\t\\t\\t\\t<a title = \"T Life \\u8eca\\u4e0a\\u520a\\u7269\"  href=\"/tw/Article/ArticleContent/2cc958af-c283-4efa-b6e6-22bb84ac5bab\" alt = \"T Life \\u8eca\\u4e0a\\u520a\\u7269\"  >\\r\\n\\t\\t\\t\\t\\t\\t\\tT Life \\u8eca\\u4e0a\\u520a\\u7269\\r\\n\\t\\t\\t\\t\\t\\t\\t</a>\\r\\n\\t\\t\\t\\t\\t\\t\\t</div>\\r\\n<div class=\"dd\">\\r\\n\\t\\t\\t\\t\\t\\t\\t<a title = \"\\u591a\\u529f\\u80fd\\u6703\\u8b70\\u5ba4\"  href=\"/tw/Article/ArticleContent/347fa4fb-479d-4a90-b5aa-e0ba9b22ed41\" alt = \"\\u591a\\u529f\\u80fd\\u6703\\u8b70\\u5ba4\"  >\\r\\n\\t\\t\\t\\t\\t\\t\\t\\u591a\\u529f\\u80fd\\u6703\\u8b70\\u5ba4<em></em>\\r\\n\\t\\t\\t\\t\\t\\t\\t</a>\\r\\n\\t\\t\\t\\t\\t\\t\\t</div>\\r\\n<div title =\"\\u4e58\\u8eca\\u5b89\\u5168\" class=\"dtnolink\">\\u4e58\\u8eca\\u5b89\\u5168</div>\\r\\n<div class=\"dd\">\\r\\n\\t\\t\\t\\t\\t\\t\\t<a title = \"\\u5217\\u8eca\\u5b89\\u5168\"  href=\"/tw/Article/ArticleContent/33741541-0f76-4397-a3f7-44367240a344\" alt = \"\\u5217\\u8eca\\u5b89\\u5168\"  >\\r\\n\\t\\t\\t\\t\\t\\t\\t\\u5217\\u8eca\\u5b89\\u5168\\r\\n\\t\\t\\t\\t\\t\\t\\t</a>\\r\\n\\t\\t\\t\\t\\t\\t\\t</div>\\r\\n<div class=\"dd\">\\r\\n\\t\\t\\t\\t\\t\\t\\t<a title = \"\\u8eca\\u7ad9\\u5b89\\u5168\"  href=\"/tw/Article/ArticleContent/b47a688b-2115-4719-88bf-3b8b740d73e1\" alt = \"\\u8eca\\u7ad9\\u5b89\\u5168\"  >\\r\\n\\t\\t\\t\\t\\t\\t\\t\\u8eca\\u7ad9\\u5b89\\u5168\\r\\n\\t\\t\\t\\t\\t\\t\\t</a>\\r\\n\\t\\t\\t\\t\\t\\t\\t</div>\\r\\n<div class=\"dd\">\\r\\n\\t\\t\\t\\t\\t\\t\\t<a title = \"\\u9435\\u8def\\u5b89\\u5168\"  href=\"/tw/Article/ArticleContent/9780e036-5fdb-4c48-8732-1242beafafbd\" alt = \"\\u9435\\u8def\\u5b89\\u5168\"  >\\r\\n\\t\\t\\t\\t\\t\\t\\t\\u9435\\u8def\\u5b89\\u5168<em></em>\\r\\n\\t\\t\\t\\t\\t\\t\\t</a>\\r\\n\\t\\t\\t\\t\\t\\t\\t</div>\\r\\n<div title =\"\\u4eab\\u6a02\\u8cfc\\u7269\\u8da3\" class=\"dtnolink\">\\u4eab\\u6a02\\u8cfc\\u7269\\u8da3</div>\\r\\n<div class=\"dd\">\\r\\n\\t\\t\\t\\t\\t\\t\\t<a title = \"\\u5217\\u8eca\\u8ca9\\u552e\"  href=\"/tw/TShop/TrainShopping\" alt = \"\\u5217\\u8eca\\u8ca9\\u552e\"  >\\r\\n\\t\\t\\t\\t\\t\\t\\t\\u5217\\u8eca\\u8ca9\\u552e\\r\\n\\t\\t\\t\\t\\t\\t\\t</a>\\r\\n\\t\\t\\t\\t\\t\\t\\t</div>\\r\\n<div class=\"dd\">\\r\\n\\t\\t\\t\\t\\t\\t\\t<a title = \"\\u7d00\\u5ff5\\u5546\\u54c1\"  href=\"/tw/Souvenir\" alt = \"\\u7d00\\u5ff5\\u5546\\u54c1\"  >\\r\\n\\t\\t\\t\\t\\t\\t\\t\\u7d00\\u5ff5\\u5546\\u54c1\\r\\n\\t\\t\\t\\t\\t\\t\\t</a>\\r\\n\\t\\t\\t\\t\\t\\t\\t</div>\\r\\n<div class=\"dd\">\\r\\n\\t\\t\\t\\t\\t\\t\\t<a title = \"\\u8eca\\u7ad9\\u8ca9\\u552e\"  href=\"http://www.thsrc.com.tw/tw/TShop/FoodCourt/977abb69-413a-4ccf-a109-0272c24fd490\" alt = \"\\u8eca\\u7ad9\\u8ca9\\u552e\"  >\\r\\n\\t\\t\\t\\t\\t\\t\\t\\u8eca\\u7ad9\\u8ca9\\u552e<em></em>\\r\\n\\t\\t\\t\\t\\t\\t\\t</a>\\r\\n\\t\\t\\t\\t\\t\\t\\t</div>\\r\\n\\r\\n\\t\\t\\t\\t\\t\\t\\t</div>\\r\\n<div class=\"list_line\"></div>\\r\\n<div class=\"list_area list_area_tw\"> \\r\\n\\t\\t\\t\\t\\t\\t\\t\\t<div title =\"\\u6ce8\\u610f\\u4e8b\\u9805\" class=\"dtnolink\">\\u6ce8\\u610f\\u4e8b\\u9805</div>\\r\\n<div class=\"dd\">\\r\\n\\t\\t\\t\\t\\t\\t\\t<a title = \"\\u4e58\\u8eca\\u9808\\u77e5\"  href=\"/tw/Article/ArticleContent/2f73bfbb-d9bb-400e-b806-f6c5ba539368\" alt = \"\\u4e58\\u8eca\\u9808\\u77e5\"  >\\r\\n\\t\\t\\t\\t\\t\\t\\t\\u4e58\\u8eca\\u9808\\u77e5\\r\\n\\t\\t\\t\\t\\t\\t\\t</a>\\r\\n\\t\\t\\t\\t\\t\\t\\t</div>\\r\\n<div class=\"dd\">\\r\\n\\t\\t\\t\\t\\t\\t\\t<a title = \"\\u9a57\\u7968\\u9598\\u9580\\u53ca\\u901a\\u95dc\"  href=\"/tw/Article/ArticleContent/4f77e9e6-f337-4af4-8f60-fbd6054e608f\" alt = \"\\u9a57\\u7968\\u9598\\u9580\\u53ca\\u901a\\u95dc\"  >\\r\\n\\t\\t\\t\\t\\t\\t\\t\\u9a57\\u7968\\u9598\\u9580\\u53ca\\u901a\\u95dc<em></em>\\r\\n\\t\\t\\t\\t\\t\\t\\t</a>\\r\\n\\t\\t\\t\\t\\t\\t\\t</div>\\r\\n<div title =\"\\u9ad8\\u9435\\u767e\\u79d1\" class=\"dtnolink\">\\u9ad8\\u9435\\u767e\\u79d1</div>\\r\\n<div class=\"dd\">\\r\\n\\t\\t\\t\\t\\t\\t\\t<a title = \"\\u5730\\u9707\\u9632\\u8b77\\u8207\\u61c9\\u8b8a[\\u5c07\\u53e6\\u958b\\u65b0\\u8996\\u7a97 ]\"  href=\"http://www.thsrc.com.tw/event/Encyclopedia/Earthquake/index.html\" alt = \"\\u5730\\u9707\\u9632\\u8b77\\u8207\\u61c9\\u8b8a[\\u5c07\\u53e6\\u958b\\u65b0\\u8996\\u7a97 ]\" target=\"_blank\" >\\r\\n\\t\\t\\t\\t\\t\\t\\t\\u5730\\u9707\\u9632\\u8b77\\u8207\\u61c9\\u8b8a<span style=\\'display:none;\\'>[\\u5c07\\u53e6\\u958b\\u65b0\\u8996\\u7a97 ]</span><span style=\\'display:none;\\'>[\\u5c07\\u53e6\\u958b\\u65b0\\u8996\\u7a97 ]</span><em></em>\\r\\n\\t\\t\\t\\t\\t\\t\\t</a>\\r\\n\\t\\t\\t\\t\\t\\t\\t</div>\\r\\n\\r\\n\\t\\t\\t\\t\\t\\t\\t</div>\\r\\n\\r\\n\\t\\t\\t\\t\\t\\t\\t\\t</div>\\r\\n\\t\\t\\t\\t\\t\\t\\t</li>\\r\\n<li class=\"nav_about\" ><a href=\"/tw/Article/ArticleContent/841afa46-f7d7-4747-889c-b03469fdb455\" title = \"\\u95dc\\u65bc\\u9ad8\\u9435\">\\u95dc\\u65bc\\u9ad8\\u9435</a>\\r\\n\\t\\t\\t\\t\\t\\t\\t\\t<div class=\"dl height_304\">\\r\\n\\t\\t\\t\\t\\t\\t\\t\\t\\t<div class=\"first_list\">\\r\\n\\t\\t\\t\\t\\t\\t\\t\\t\\t\\t<div class=\"has_photo_list\"><img src=\"/event/index_img/nav_about.jpg\" width=\"200\" height=\"120\" alt=\"\\u95dc\\u65bc\\u9ad8\\u9435\" title = \"\\u95dc\\u65bc\\u9ad8\\u9435\"></div>\\r\\n\\t\\t\\t\\t\\t\\t\\t\\t\\t\\t<div title =\\u65c5\\u904a\\u8cfc\\u7269\\u8f15\\u9b06\\u6eff\\u8db3\\uff0c\\u9ad8\\u9435\\u751f\\u6d3b\\u597d\\u4fbf\\u5229\\uff01 class=\"photo_list_word\">\\u65c5\\u904a\\u8cfc\\u7269\\u8f15\\u9b06\\u6eff\\u8db3\\uff0c\\u9ad8\\u9435\\u751f\\u6d3b\\u597d\\u4fbf\\u5229\\uff01</div>\\r\\n\\t\\t\\t\\t\\t\\t\\t\\t\\t</div>\\r\\n\\t\\t\\t\\t\\t\\t\\t\\t\\t<div class=\"list_area list_area_tw\"> \\r\\n\\t\\t\\t\\t\\t\\t\\t\\t<div class=\"dt\">\\r\\n\\t\\t\\t\\t\\t\\t\\t<a title = \"\\u7372\\u734e\\u4e8b\\u8e5f\"  href=\"/tw/Article/ArticleContent/63d60a32-0600-4cd7-ac37-6ad8316b7f1e\" alt = \"\\u7372\\u734e\\u4e8b\\u8e5f\"  >\\r\\n\\t\\t\\t\\t\\t\\t\\t\\u7372\\u734e\\u4e8b\\u8e5f<em></em>\\r\\n\\t\\t\\t\\t\\t\\t\\t</a>\\r\\n\\t\\t\\t\\t\\t\\t\\t</div>\\r\\n<div title =\"\\u4f01\\u696d\\u8cc7\\u8a0a\" class=\"dtnolink\">\\u4f01\\u696d\\u8cc7\\u8a0a</div>\\r\\n<div class=\"dd\">\\r\\n\\t\\t\\t\\t\\t\\t\\t<a title = \"\\u4f01\\u696d\\u793e\\u6703\\u8cac\\u4efb\"  href=\"/tw/Article/ArticleContent/8d291a1a-90ba-4b0f-b4d5-db2a35d881f5\" alt = \"\\u4f01\\u696d\\u793e\\u6703\\u8cac\\u4efb\"  >\\r\\n\\t\\t\\t\\t\\t\\t\\t\\u4f01\\u696d\\u793e\\u6703\\u8cac\\u4efb\\r\\n\\t\\t\\t\\t\\t\\t\\t</a>\\r\\n\\t\\t\\t\\t\\t\\t\\t</div>\\r\\n<div class=\"dd\">\\r\\n\\t\\t\\t\\t\\t\\t\\t<a title = \"\\u5927\\u4e8b\\u7d00\\u8981\"  href=\"/tw/Article/ArticleContent/b792e45d-5416-469b-82fd-ed383bef4691\" alt = \"\\u5927\\u4e8b\\u7d00\\u8981\"  >\\r\\n\\t\\t\\t\\t\\t\\t\\t\\u5927\\u4e8b\\u7d00\\u8981\\r\\n\\t\\t\\t\\t\\t\\t\\t</a>\\r\\n\\t\\t\\t\\t\\t\\t\\t</div>\\r\\n<div class=\"dd\">\\r\\n\\t\\t\\t\\t\\t\\t\\t<a title = \"\\u4f01\\u696d\\u8b58\\u5225\"  href=\"/tw/Article/ArticleContent/605d1cb2-2d98-4d73-9586-7e8363ee44e3\" alt = \"\\u4f01\\u696d\\u8b58\\u5225\"  >\\r\\n\\t\\t\\t\\t\\t\\t\\t\\u4f01\\u696d\\u8b58\\u5225\\r\\n\\t\\t\\t\\t\\t\\t\\t</a>\\r\\n\\t\\t\\t\\t\\t\\t\\t</div>\\r\\n<div class=\"dd\">\\r\\n\\t\\t\\t\\t\\t\\t\\t<a title = \"\\u74b0\\u4fdd\\u8207\\u7814\\u767c\\u652f\\u51fa\\u8cc7\\u8a0a\"  href=\"/tw/Article/ArticleContent/34d8a763-9a98-4478-919c-6b88d07fecaa\" alt = \"\\u74b0\\u4fdd\\u8207\\u7814\\u767c\\u652f\\u51fa\\u8cc7\\u8a0a\"  >\\r\\n\\t\\t\\t\\t\\t\\t\\t\\u74b0\\u4fdd\\u8207\\u7814\\u767c\\u652f\\u51fa\\u8cc7\\u8a0a\\r\\n\\t\\t\\t\\t\\t\\t\\t</a>\\r\\n\\t\\t\\t\\t\\t\\t\\t</div>\\r\\n<div class=\"dd\">\\r\\n\\t\\t\\t\\t\\t\\t\\t<a title = \"\\u9ad8\\u901f\\u9435\\u8def\\u904b\\u8f38\\u670d\\u52d9\\u78b3\\u8db3\\u8de1\"  href=\"/tw/Article/ArticleContent/5a1f4c72-b564-4706-bcdd-efbda93c3d93\" alt = \"\\u9ad8\\u901f\\u9435\\u8def\\u904b\\u8f38\\u670d\\u52d9\\u78b3\\u8db3\\u8de1\"  >\\r\\n\\t\\t\\t\\t\\t\\t\\t\\u9ad8\\u901f\\u9435\\u8def\\u904b\\u8f38\\u670d\\u52d9\\u78b3\\u8db3\\u8de1<em></em>\\r\\n\\t\\t\\t\\t\\t\\t\\t</a>\\r\\n\\t\\t\\t\\t\\t\\t\\t</div>\\r\\n<div title =\"\\u71df\\u904b\\u73fe\\u72c0\" class=\"dtnolink\">\\u71df\\u904b\\u73fe\\u72c0</div>\\r\\n<div class=\"dd\">\\r\\n\\t\\t\\t\\t\\t\\t\\t<a title = \"\\u71df\\u904b\\u5e74\\u5ea6\\u6982\\u6cc1\"  href=\"/tw/Article/ArticleContent/1e07f685-045e-403c-bf92-88c2d86bf826\" alt = \"\\u71df\\u904b\\u5e74\\u5ea6\\u6982\\u6cc1\"  >\\r\\n\\t\\t\\t\\t\\t\\t\\t\\u71df\\u904b\\u5e74\\u5ea6\\u6982\\u6cc1<em></em>\\r\\n\\t\\t\\t\\t\\t\\t\\t</a>\\r\\n\\t\\t\\t\\t\\t\\t\\t</div>\\r\\n<div title =\"\\u653f\\u7b56\\u6cd5\\u898f\" class=\"dtnolink\">\\u653f\\u7b56\\u6cd5\\u898f</div>\\r\\n\\r\\n\\t\\t\\t\\t\\t\\t\\t</div>\\r\\n<div class=\"list_line\"></div>\\r\\n<div class=\"list_area list_area_tw\"> \\r\\n\\t\\t\\t\\t\\t\\t\\t\\t<div class=\"dd\">\\r\\n\\t\\t\\t\\t\\t\\t\\t<a title = \"\\u7dda\\u4e0a\\u8cfc\\u7968\\u4ea4\\u6613\\u6ce8\\u610f\\u4e8b\\u9805\"  href=\"/tw/Article/ArticleContent/291d80fe-080f-4442-90d0-9a9b82f119e5\" alt = \"\\u7dda\\u4e0a\\u8cfc\\u7968\\u4ea4\\u6613\\u6ce8\\u610f\\u4e8b\\u9805\"  >\\r\\n\\t\\t\\t\\t\\t\\t\\t\\u7dda\\u4e0a\\u8cfc\\u7968\\u4ea4\\u6613\\u6ce8\\u610f\\u4e8b\\u9805\\r\\n\\t\\t\\t\\t\\t\\t\\t</a>\\r\\n\\t\\t\\t\\t\\t\\t\\t</div>\\r\\n<div class=\"dd\">\\r\\n\\t\\t\\t\\t\\t\\t\\t<a title = \"\\u500b\\u4eba\\u8cc7\\u6599\\u4fdd\\u8b77\\u5c08\\u5340\"  href=\"/tw/Article/ArticleContent/d1fa3bcb-a016-47e2-88c6-7b7cbed00ed5\" alt = \"\\u500b\\u4eba\\u8cc7\\u6599\\u4fdd\\u8b77\\u5c08\\u5340\"  >\\r\\n\\t\\t\\t\\t\\t\\t\\t\\u500b\\u4eba\\u8cc7\\u6599\\u4fdd\\u8b77\\u5c08\\u5340\\r\\n\\t\\t\\t\\t\\t\\t\\t</a>\\r\\n\\t\\t\\t\\t\\t\\t\\t</div>\\r\\n<div class=\"dd\">\\r\\n\\t\\t\\t\\t\\t\\t\\t<a title = \"\\u76f8\\u95dc\\u6cd5\\u898f\"  href=\"/tw/Article/ArticleContent/7de57796-db08-4d94-b183-bd62618859db\" alt = \"\\u76f8\\u95dc\\u6cd5\\u898f\"  >\\r\\n\\t\\t\\t\\t\\t\\t\\t\\u76f8\\u95dc\\u6cd5\\u898f<em></em>\\r\\n\\t\\t\\t\\t\\t\\t\\t</a>\\r\\n\\t\\t\\t\\t\\t\\t\\t</div>\\r\\n<div title =\"\\u5408\\u4f5c\\u5925\\u4f34\" class=\"dtnolink\">\\u5408\\u4f5c\\u5925\\u4f34</div>\\r\\n<div class=\"dd\">\\r\\n\\t\\t\\t\\t\\t\\t\\t<a title = \"\\u696d\\u52d9\\u7533\\u8fa6 \"  href=\"/tw/Article/ArticleContent/4efcd63f-6d07-4363-8a52-26a4a4f462cb\" alt = \"\\u696d\\u52d9\\u7533\\u8fa6 \"  >\\r\\n\\t\\t\\t\\t\\t\\t\\t\\u696d\\u52d9\\u7533\\u8fa6 <em></em>\\r\\n\\t\\t\\t\\t\\t\\t\\t</a>\\r\\n\\t\\t\\t\\t\\t\\t\\t</div>\\r\\n<div class=\"dt\">\\r\\n\\t\\t\\t\\t\\t\\t\\t<a title = \"\\u62db\\u6a19\\u8cc7\\u8a0a\"  href=\"/tw/Tendering\" alt = \"\\u62db\\u6a19\\u8cc7\\u8a0a\"  >\\r\\n\\t\\t\\t\\t\\t\\t\\t\\u62db\\u6a19\\u8cc7\\u8a0a<em></em>\\r\\n\\t\\t\\t\\t\\t\\t\\t</a>\\r\\n\\t\\t\\t\\t\\t\\t\\t</div>\\r\\n<div title =\"\\u52a0\\u5165\\u9ad8\\u9435\" class=\"dtnolink\">\\u52a0\\u5165\\u9ad8\\u9435</div>\\r\\n<div class=\"dd\">\\r\\n\\t\\t\\t\\t\\t\\t\\t<a title = \"\\u5e78\\u798f\\u9ad8\\u9435\"  href=\"/tw/Article/ArticleContent/91918831-5417-459a-9774-312f31a66ca2\" alt = \"\\u5e78\\u798f\\u9ad8\\u9435\"  >\\r\\n\\t\\t\\t\\t\\t\\t\\t\\u5e78\\u798f\\u9ad8\\u9435\\r\\n\\t\\t\\t\\t\\t\\t\\t</a>\\r\\n\\t\\t\\t\\t\\t\\t\\t</div>\\r\\n<div class=\"dd\">\\r\\n\\t\\t\\t\\t\\t\\t\\t<a title = \"\\u7504\\u9078\\u6d41\\u7a0b\"  href=\"/tw/Article/ArticleContent/923049a0-10dd-4c2f-927b-66e470c9c16e\" alt = \"\\u7504\\u9078\\u6d41\\u7a0b\"  >\\r\\n\\t\\t\\t\\t\\t\\t\\t\\u7504\\u9078\\u6d41\\u7a0b\\r\\n\\t\\t\\t\\t\\t\\t\\t</a>\\r\\n\\t\\t\\t\\t\\t\\t\\t</div>\\r\\n<div class=\"dd\">\\r\\n\\t\\t\\t\\t\\t\\t\\t<a title = \"\\u6211\\u8981\\u61c9\\u5fb5[\\u5c07\\u53e6\\u958b\\u65b0\\u8996\\u7a97 ]\"  href=\"http://ehrweb.104.com.tw/job.do?uno=16446274\" alt = \"\\u6211\\u8981\\u61c9\\u5fb5[\\u5c07\\u53e6\\u958b\\u65b0\\u8996\\u7a97 ]\" target=\"_blank\" >\\r\\n\\t\\t\\t\\t\\t\\t\\t\\u6211\\u8981\\u61c9\\u5fb5<span style=\\'display:none;\\'>[\\u5c07\\u53e6\\u958b\\u65b0\\u8996\\u7a97 ]</span><span style=\\'display:none;\\'>[\\u5c07\\u53e6\\u958b\\u65b0\\u8996\\u7a97 ]</span><em></em>\\r\\n\\t\\t\\t\\t\\t\\t\\t</a>\\r\\n\\t\\t\\t\\t\\t\\t\\t</div>\\r\\n\\r\\n\\t\\t\\t\\t\\t\\t\\t</div>\\r\\n<div class=\"list_line\"></div>\\r\\n\\r\\n\\t\\t\\t\\t\\t\\t\\t\\t</div>\\r\\n\\t\\t\\t\\t\\t\\t\\t</li>\\r\\n<li class=\"nav_sponsor\" ><a href=\"/tw//\" title = \"\\u6295\\u8cc7\\u4eba\\u95dc\\u4fc2\">\\u6295\\u8cc7\\u4eba\\u95dc\\u4fc2</a>\\r\\n\\t\\t\\t\\t\\t\\t\\t\\t<div class=\"dl height_304\">\\r\\n\\t\\t\\t\\t\\t\\t\\t\\t\\t<div class=\"first_list\">\\r\\n\\t\\t\\t\\t\\t\\t\\t\\t\\t\\t<div class=\"has_photo_list\"><img src=\"/event/index_img/nav_sponsor.jpg\" width=\"200\" height=\"120\" alt=\"\\u6295\\u8cc7\\u4eba\\u95dc\\u4fc2\" title = \"\\u6295\\u8cc7\\u4eba\\u95dc\\u4fc2\"></div>\\r\\n\\t\\t\\t\\t\\t\\t\\t\\t\\t\\t<div title =\\u8207\\u6642\\u9593\\u7af6\\u901f\\uff0c\\u8207\\u6642\\u4ee3\\u4e26\\u9032\\uff0c\\u9ad8\\u9435\\u671f\\u671b\\u8207\\u60a8\\u4e00\\u540c\\u5c55\\u671b\\u66f4\\u8fc5\\u6377\\u7f8e\\u597d\\u7684\\u672a\\u4f86\\u3002 class=\"photo_list_word\">\\u8207\\u6642\\u9593\\u7af6\\u901f\\uff0c\\u8207\\u6642\\u4ee3\\u4e26\\u9032\\uff0c\\u9ad8\\u9435\\u671f\\u671b\\u8207\\u60a8\\u4e00\\u540c\\u5c55\\u671b\\u66f4\\u8fc5\\u6377\\u7f8e\\u597d\\u7684\\u672a\\u4f86\\u3002</div>\\r\\n\\t\\t\\t\\t\\t\\t\\t\\t\\t</div>\\r\\n\\t\\t\\t\\t\\t\\t\\t\\t\\t<div class=\"list_area list_area_tw\"> \\r\\n\\t\\t\\t\\t\\t\\t\\t\\t<div title =\"\\u6295\\u8cc7\\u4eba\\u95dc\\u4fc2\" class=\"dtnolink\">\\u6295\\u8cc7\\u4eba\\u95dc\\u4fc2</div>\\r\\n<div class=\"dd\">\\r\\n\\t\\t\\t\\t\\t\\t\\t<a title = \"\\u57fa\\u672c\\u8cc7\\u6599\"  href=\"/tw/StockInfo/Index\" alt = \"\\u57fa\\u672c\\u8cc7\\u6599\"  >\\r\\n\\t\\t\\t\\t\\t\\t\\t\\u57fa\\u672c\\u8cc7\\u6599\\r\\n\\t\\t\\t\\t\\t\\t\\t</a>\\r\\n\\t\\t\\t\\t\\t\\t\\t</div>\\r\\n<div class=\"dd\">\\r\\n\\t\\t\\t\\t\\t\\t\\t<a title = \"\\u7d44\\u7e54\\u7cfb\\u7d71\\u5716\"  href=\"/tw/Article/ArticleContent/07a19853-350d-42e4-b0c6-5bdd76c3ce7d\" alt = \"\\u7d44\\u7e54\\u7cfb\\u7d71\\u5716\"  >\\r\\n\\t\\t\\t\\t\\t\\t\\t\\u7d44\\u7e54\\u7cfb\\u7d71\\u5716\\r\\n\\t\\t\\t\\t\\t\\t\\t</a>\\r\\n\\t\\t\\t\\t\\t\\t\\t</div>\\r\\n<div class=\"dd\">\\r\\n\\t\\t\\t\\t\\t\\t\\t<a title = \"\\u8463\\u4e8b\\u6703\\u53ca\\u7d93\\u71df\\u5718\\u968a\"  href=\"/tw/Article/ArticleContent/eba2a49b-df9a-4955-9582-d3bfab0892d5\" alt = \"\\u8463\\u4e8b\\u6703\\u53ca\\u7d93\\u71df\\u5718\\u968a\"  >\\r\\n\\t\\t\\t\\t\\t\\t\\t\\u8463\\u4e8b\\u6703\\u53ca\\u7d93\\u71df\\u5718\\u968a\\r\\n\\t\\t\\t\\t\\t\\t\\t</a>\\r\\n\\t\\t\\t\\t\\t\\t\\t</div>\\r\\n<div class=\"dd\">\\r\\n\\t\\t\\t\\t\\t\\t\\t<a title = \"\\u91cd\\u5927\\u8a0a\\u606f\"  href=\"/tw/StockInfo/GreatNewsIndex\" alt = \"\\u91cd\\u5927\\u8a0a\\u606f\"  >\\r\\n\\t\\t\\t\\t\\t\\t\\t\\u91cd\\u5927\\u8a0a\\u606f\\r\\n\\t\\t\\t\\t\\t\\t\\t</a>\\r\\n\\t\\t\\t\\t\\t\\t\\t</div>\\r\\n<div class=\"dd\">\\r\\n\\t\\t\\t\\t\\t\\t\\t<a title = \"\\u81ea\\u7d50\\u640d\\u76ca\"  href=\"/tw/Article/ArticleContent/5aebf2ce-4186-463d-8a15-46234169e05b\" alt = \"\\u81ea\\u7d50\\u640d\\u76ca\"  >\\r\\n\\t\\t\\t\\t\\t\\t\\t\\u81ea\\u7d50\\u640d\\u76ca\\r\\n\\t\\t\\t\\t\\t\\t\\t</a>\\r\\n\\t\\t\\t\\t\\t\\t\\t</div>\\r\\n<div class=\"dd\">\\r\\n\\t\\t\\t\\t\\t\\t\\t<a title = \"\\u6587\\u4ef6\\u4e0b\\u8f09\"  href=\"/tw/Article/ArticleContent/d2933fd1-c223-46b0-9620-14a8501d6f51\" alt = \"\\u6587\\u4ef6\\u4e0b\\u8f09\"  >\\r\\n\\t\\t\\t\\t\\t\\t\\t\\u6587\\u4ef6\\u4e0b\\u8f09<em></em>\\r\\n\\t\\t\\t\\t\\t\\t\\t</a>\\r\\n\\t\\t\\t\\t\\t\\t\\t</div>\\r\\n\\r\\n\\t\\t\\t\\t\\t\\t\\t</div>\\r\\n<div class=\"list_line\"></div>\\r\\n\\r\\n\\t\\t\\t\\t\\t\\t\\t\\t</div>\\r\\n\\t\\t\\t\\t\\t\\t\\t</li>\\r\\n<li class=\"nav_life\" ><a href=\"/tw/Article/ArticleContent/e8af1baf-4afa-4f5b-875e-577340aa302e\" title = \"\\u642d\\u9ad8\\u9435\\u2027\\u904a\\u53f0\\u7063\">\\u642d\\u9ad8\\u9435\\u2027\\u904a\\u53f0\\u7063</a>\\r\\n\\t\\t\\t\\t\\t\\t\\t\\t<div class=\"dl height_304\">\\r\\n\\t\\t\\t\\t\\t\\t\\t\\t\\t<div class=\"first_list\">\\r\\n\\t\\t\\t\\t\\t\\t\\t\\t\\t\\t<div class=\"has_photo_list\"><img src=\"/event/index_img/nav_life.jpg\" width=\"200\" height=\"120\" alt=\"\\u642d\\u9ad8\\u9435\\u2027\\u904a\\u53f0\\u7063\" title = \"\\u642d\\u9ad8\\u9435\\u2027\\u904a\\u53f0\\u7063\"></div>\\r\\n\\t\\t\\t\\t\\t\\t\\t\\t\\t\\t<div title =\\u642d\\u9ad8\\u9435\\u2022\\u904a\\u53f0\\u7063 \\u9ad4\\u9a57\\u53f0\\u7063\\u5728\\u5730\\u7f8e\\u597d\\uff01 class=\"photo_list_word\">\\u642d\\u9ad8\\u9435\\u2022\\u904a\\u53f0\\u7063 \\u9ad4\\u9a57\\u53f0\\u7063\\u5728\\u5730\\u7f8e\\u597d\\uff01</div>\\r\\n\\t\\t\\t\\t\\t\\t\\t\\t\\t</div>\\r\\n\\t\\t\\t\\t\\t\\t\\t\\t\\t<div class=\"list_area list_area_tw\"> \\r\\n\\t\\t\\t\\t\\t\\t\\t\\t<div class=\"dt\">\\r\\n\\t\\t\\t\\t\\t\\t\\t<a title = \"\\u9ad8\\u9435\\u5047\\u671f[\\u5c07\\u53e6\\u958b\\u65b0\\u8996\\u7a97]\"  href=\"http://tholiday.thsrc.com.tw/\" alt = \"\\u9ad8\\u9435\\u5047\\u671f[\\u5c07\\u53e6\\u958b\\u65b0\\u8996\\u7a97]\" target=\"_blank\" >\\r\\n\\t\\t\\t\\t\\t\\t\\t\\u9ad8\\u9435\\u5047\\u671f\\r\\n\\t\\t\\t\\t\\t\\t\\t</a>\\r\\n\\t\\t\\t\\t\\t\\t\\t</div>\\r\\n<div class=\"dd\">\\r\\n\\t\\t\\t\\t\\t\\t\\t<a title = \"\\u76db\\u590f\\u6a02\\u904a\\u65b9\\u6848[\\u5c07\\u53e6\\u958b\\u65b0\\u8996\\u7a97 ]\"  href=\"/tw/Article/ArticleContent/99ba7783-c46e-4b68-849b-e9084e5a0e15\" alt = \"\\u76db\\u590f\\u6a02\\u904a\\u65b9\\u6848[\\u5c07\\u53e6\\u958b\\u65b0\\u8996\\u7a97 ]\" target=\"_blank\" >\\r\\n\\t\\t\\t\\t\\t\\t\\t\\u76db\\u590f\\u6a02\\u904a\\u65b9\\u6848<span style=\\'display:none;\\'>[\\u5c07\\u53e6\\u958b\\u65b0\\u8996\\u7a97 ]</span>\\r\\n\\t\\t\\t\\t\\t\\t\\t</a>\\r\\n\\t\\t\\t\\t\\t\\t\\t</div>\\r\\n<div class=\"dd\">\\r\\n\\t\\t\\t\\t\\t\\t\\t<a title = \"\\u8d85\\u503c\\u4e00\\u65e5\\u8c50\\u5bcc\\u884c[\\u5c07\\u53e6\\u958b\\u65b0\\u8996\\u7a97 ]\"  href=\"http://tholiday.thsrc.com.tw/TC/search.aspx?ThemeID=34fb4d48-58d4-447d-ad05-ab31fd3e84c9\" alt = \"\\u8d85\\u503c\\u4e00\\u65e5\\u8c50\\u5bcc\\u884c[\\u5c07\\u53e6\\u958b\\u65b0\\u8996\\u7a97 ]\" target=\"_blank\" >\\r\\n\\t\\t\\t\\t\\t\\t\\t\\u8d85\\u503c\\u4e00\\u65e5\\u8c50\\u5bcc\\u884c<span style=\\'display:none;\\'>[\\u5c07\\u53e6\\u958b\\u65b0\\u8996\\u7a97 ]</span>\\r\\n\\t\\t\\t\\t\\t\\t\\t</a>\\r\\n\\t\\t\\t\\t\\t\\t\\t</div>\\r\\n<div class=\"dd\">\\r\\n\\t\\t\\t\\t\\t\\t\\t<a title = \"\\u9047\\u898b\\u6545\\u5bae\\u5357\\u9662[\\u5c07\\u53e6\\u958b\\u65b0\\u8996\\u7a97 ]\"  href=\"http://tholiday.thsrc.com.tw/TC/search.aspx?ThemeID=b1b1cdaa-b409-4430-a063-44939fe931bf\" alt = \"\\u9047\\u898b\\u6545\\u5bae\\u5357\\u9662[\\u5c07\\u53e6\\u958b\\u65b0\\u8996\\u7a97 ]\" target=\"_blank\" >\\r\\n\\t\\t\\t\\t\\t\\t\\t\\u9047\\u898b\\u6545\\u5bae\\u5357\\u9662<span style=\\'display:none;\\'>[\\u5c07\\u53e6\\u958b\\u65b0\\u8996\\u7a97 ]</span><span style=\\'display:none;\\'>[\\u5c07\\u53e6\\u958b\\u65b0\\u8996\\u7a97 ]</span><em></em>\\r\\n\\t\\t\\t\\t\\t\\t\\t</a>\\r\\n\\t\\t\\t\\t\\t\\t\\t</div>\\r\\n<div class=\"dt\">\\r\\n\\t\\t\\t\\t\\t\\t\\t<a title = \"\\u4ea4\\u901a\\u806f\\u7968\"  href=\"/tw/Article/ArticleContent/5af4ceb8-4c6f-44ec-b02d-0c398c0ad917\" alt = \"\\u4ea4\\u901a\\u806f\\u7968\"  >\\r\\n\\t\\t\\t\\t\\t\\t\\t\\u4ea4\\u901a\\u806f\\u7968\\r\\n\\t\\t\\t\\t\\t\\t\\t</a>\\r\\n\\t\\t\\t\\t\\t\\t\\t</div>\\r\\n<div class=\"dd\">\\r\\n\\t\\t\\t\\t\\t\\t\\t<a title = \"\\u9ad8\\u9435+\\u9ad8\\u96c4\\u6377\\u904b\"  href=\"/tw/Article/ArticleContent/842a6c80-c554-4bf3-810c-d026409045e7\" alt = \"\\u9ad8\\u9435+\\u9ad8\\u96c4\\u6377\\u904b\"  >\\r\\n\\t\\t\\t\\t\\t\\t\\t\\u9ad8\\u9435+\\u9ad8\\u96c4\\u6377\\u904b\\r\\n\\t\\t\\t\\t\\t\\t\\t</a>\\r\\n\\t\\t\\t\\t\\t\\t\\t</div>\\r\\n<div class=\"dd\">\\r\\n\\t\\t\\t\\t\\t\\t\\t<a title = \"\\u9ad8\\u9435+\\u53f0\\u7063\\u597d\\u884c\"  href=\"http://www.thsrc.com.tw/tw/Article/ArticleContent/5af4ceb8-4c6f-44ec-b02d-0c398c0ad917#theGo1\" alt = \"\\u9ad8\\u9435+\\u53f0\\u7063\\u597d\\u884c\"  >\\r\\n\\t\\t\\t\\t\\t\\t\\t\\u9ad8\\u9435+\\u53f0\\u7063\\u597d\\u884c\\r\\n\\t\\t\\t\\t\\t\\t\\t</a>\\r\\n\\t\\t\\t\\t\\t\\t\\t</div>\\r\\n<div class=\"dd\">\\r\\n\\t\\t\\t\\t\\t\\t\\t<a title = \"\\u9ad8\\u9435+\\u822a\\u7a7a\\u516c\\u53f8\"  href=\"http://www.thsrc.com.tw/tw/Article/ArticleContent/5af4ceb8-4c6f-44ec-b02d-0c398c0ad917#theGo9\" alt = \"\\u9ad8\\u9435+\\u822a\\u7a7a\\u516c\\u53f8\"  >\\r\\n\\t\\t\\t\\t\\t\\t\\t\\u9ad8\\u9435+\\u822a\\u7a7a\\u516c\\u53f8<em></em>\\r\\n\\t\\t\\t\\t\\t\\t\\t</a>\\r\\n\\t\\t\\t\\t\\t\\t\\t</div>\\r\\n<div class=\"dt\">\\r\\n\\t\\t\\t\\t\\t\\t\\t<a title = \"\\u98ef\\u5e97\\u806f\\u7968\"  href=\"/tw/Article/ArticleContent/c2bae549-bc17-4373-a43a-3496780aa4ea\" alt = \"\\u98ef\\u5e97\\u806f\\u7968\"  >\\r\\n\\t\\t\\t\\t\\t\\t\\t\\u98ef\\u5e97\\u806f\\u7968\\r\\n\\t\\t\\t\\t\\t\\t\\t</a>\\r\\n\\t\\t\\t\\t\\t\\t\\t</div>\\r\\n<div class=\"dd\">\\r\\n\\t\\t\\t\\t\\t\\t\\t<a title = \"\\u5317\\u90e8\\u98ef\\u5e97\"  href=\"/tw/Article/ArticleContent/84b5f8e5-98b5-48b5-bc5f-9a24cfe6119a\" alt = \"\\u5317\\u90e8\\u98ef\\u5e97\"  >\\r\\n\\t\\t\\t\\t\\t\\t\\t\\u5317\\u90e8\\u98ef\\u5e97\\r\\n\\t\\t\\t\\t\\t\\t\\t</a>\\r\\n\\t\\t\\t\\t\\t\\t\\t</div>\\r\\n\\r\\n\\t\\t\\t\\t\\t\\t\\t</div>\\r\\n<div class=\"list_line\"></div>\\r\\n<div class=\"list_area list_area_tw\"> \\r\\n\\t\\t\\t\\t\\t\\t\\t\\t<div class=\"dd\">\\r\\n\\t\\t\\t\\t\\t\\t\\t<a title = \"\\u4e2d\\u90e8\\u98ef\\u5e97\"  href=\"/tw/Article/ArticleContent/6fdec9c4-0da5-4a67-b38d-5c11d538b7c0\" alt = \"\\u4e2d\\u90e8\\u98ef\\u5e97\"  >\\r\\n\\t\\t\\t\\t\\t\\t\\t\\u4e2d\\u90e8\\u98ef\\u5e97\\r\\n\\t\\t\\t\\t\\t\\t\\t</a>\\r\\n\\t\\t\\t\\t\\t\\t\\t</div>\\r\\n<div class=\"dd\">\\r\\n\\t\\t\\t\\t\\t\\t\\t<a title = \"\\u5357\\u90e8\\u98ef\\u5e97\"  href=\"/tw/Article/ArticleContent/d157819a-dd4e-4191-b60c-5645b02432d6\" alt = \"\\u5357\\u90e8\\u98ef\\u5e97\"  >\\r\\n\\t\\t\\t\\t\\t\\t\\t\\u5357\\u90e8\\u98ef\\u5e97\\r\\n\\t\\t\\t\\t\\t\\t\\t</a>\\r\\n\\t\\t\\t\\t\\t\\t\\t</div>\\r\\n<div class=\"dd\">\\r\\n\\t\\t\\t\\t\\t\\t\\t<a title = \"\\u6771\\u90e8\\u98ef\\u5e97\"  href=\"/tw/Article/ArticleContent/ae14d887-26c3-4c6f-9811-d8a88c17abd9\" alt = \"\\u6771\\u90e8\\u98ef\\u5e97\"  >\\r\\n\\t\\t\\t\\t\\t\\t\\t\\u6771\\u90e8\\u98ef\\u5e97\\r\\n\\t\\t\\t\\t\\t\\t\\t</a>\\r\\n\\t\\t\\t\\t\\t\\t\\t</div>\\r\\n<div class=\"dd\">\\r\\n\\t\\t\\t\\t\\t\\t\\t<a title = \"\\u5c0f\\u8cc7\\u7537\\u5973\\u5927\\u78ba\\u5e78\"  href=\"/tw/Article/ArticleContent/6cde4350-c1c7-4568-80a0-61dc269a5a67\" alt = \"\\u5c0f\\u8cc7\\u7537\\u5973\\u5927\\u78ba\\u5e78\"  >\\r\\n\\t\\t\\t\\t\\t\\t\\t\\u5c0f\\u8cc7\\u7537\\u5973\\u5927\\u78ba\\u5e78\\r\\n\\t\\t\\t\\t\\t\\t\\t</a>\\r\\n\\t\\t\\t\\t\\t\\t\\t</div>\\r\\n<div class=\"dd\">\\r\\n\\t\\t\\t\\t\\t\\t\\t<a title = \"\\u6162\\u6d3b\\u68ee\\u547c\\u5438 \\u6d88\\u6691\\u6dbc\\u590f\\u98ef\\u5e97\"  href=\"/tw/Article/ArticleContent/d44c289c-8bc3-4b7e-9f63-7daa2529d4f2\" alt = \"\\u6162\\u6d3b\\u68ee\\u547c\\u5438 \\u6d88\\u6691\\u6dbc\\u590f\\u98ef\\u5e97\"  >\\r\\n\\t\\t\\t\\t\\t\\t\\t\\u6162\\u6d3b\\u68ee\\u547c\\u5438 \\u6d88\\u6691\\u6dbc\\u590f\\u98ef\\u5e97\\r\\n\\t\\t\\t\\t\\t\\t\\t</a>\\r\\n\\t\\t\\t\\t\\t\\t\\t</div>\\r\\n<div class=\"dd\">\\r\\n\\t\\t\\t\\t\\t\\t\\t<a title = \"\\u5922\\u5e7b\\u7f8e\\u666f\\u7121\\u908a\\u969b\\u6cf3\\u6c60\\u63a8\\u85a6\"  href=\"/tw/Article/ArticleContent/922c29cf-2ac3-4e84-860d-4ac707a99e69\" alt = \"\\u5922\\u5e7b\\u7f8e\\u666f\\u7121\\u908a\\u969b\\u6cf3\\u6c60\\u63a8\\u85a6\"  >\\r\\n\\t\\t\\t\\t\\t\\t\\t\\u5922\\u5e7b\\u7f8e\\u666f\\u7121\\u908a\\u969b\\u6cf3\\u6c60\\u63a8\\u85a6\\r\\n\\t\\t\\t\\t\\t\\t\\t</a>\\r\\n\\t\\t\\t\\t\\t\\t\\t</div>\\r\\n<div class=\"dd\">\\r\\n\\t\\t\\t\\t\\t\\t\\t<a title = \"\\u8c6a\\u83ef\\u661f\\u7d1a\\u4eab\\u6a02\\u904a\"  href=\"/tw/Article/ArticleContent/bbb690c1-d388-4692-bc95-0d12a81b1b81\" alt = \"\\u8c6a\\u83ef\\u661f\\u7d1a\\u4eab\\u6a02\\u904a\"  >\\r\\n\\t\\t\\t\\t\\t\\t\\t\\u8c6a\\u83ef\\u661f\\u7d1a\\u4eab\\u6a02\\u904a\\r\\n\\t\\t\\t\\t\\t\\t\\t</a>\\r\\n\\t\\t\\t\\t\\t\\t\\t</div>\\r\\n<div class=\"dd\">\\r\\n\\t\\t\\t\\t\\t\\t\\t<a title = \"\\u5c0f\\u8cc7\\u7cbe\\u7701\\u65c5\\u904a\\u8da3\"  href=\"/tw/Article/ArticleContent/ccd52eb1-80ab-4895-ab94-f412f45e9dbf\" alt = \"\\u5c0f\\u8cc7\\u7cbe\\u7701\\u65c5\\u904a\\u8da3\"  >\\r\\n\\t\\t\\t\\t\\t\\t\\t\\u5c0f\\u8cc7\\u7cbe\\u7701\\u65c5\\u904a\\u8da3\\r\\n\\t\\t\\t\\t\\t\\t\\t</a>\\r\\n\\t\\t\\t\\t\\t\\t\\t</div>\\r\\n<div class=\"dd\">\\r\\n\\t\\t\\t\\t\\t\\t\\t<a title = \"\\u512a\\u60e0\\u6210\\u96d9\\uff0e\\u597d\\u8a55\\u518d\\u52a0\\u78bc\"  href=\"/tw/Article/ArticleContent/680ce7d5-6320-41f1-8d9a-250158b39e87\" alt = \"\\u512a\\u60e0\\u6210\\u96d9\\uff0e\\u597d\\u8a55\\u518d\\u52a0\\u78bc\"  >\\r\\n\\t\\t\\t\\t\\t\\t\\t\\u512a\\u60e0\\u6210\\u96d9\\uff0e\\u597d\\u8a55\\u518d\\u52a0\\u78bc<em></em>\\r\\n\\t\\t\\t\\t\\t\\t\\t</a>\\r\\n\\t\\t\\t\\t\\t\\t\\t</div>\\r\\n<div title =\"\\u642d\\u9ad8\\u9435\\uff0e\\u904a\\u53f0\\u7063\" class=\"dtnolink\">\\u642d\\u9ad8\\u9435\\uff0e\\u904a\\u53f0\\u7063</div>\\r\\n\\r\\n\\t\\t\\t\\t\\t\\t\\t</div>\\r\\n<div class=\"list_line\"></div>\\r\\n<div class=\"list_area list_area_tw\"> \\r\\n\\t\\t\\t\\t\\t\\t\\t\\t<div class=\"dd\">\\r\\n\\t\\t\\t\\t\\t\\t\\t<a title = \"\\u9ad8\\u901f\\u6162\\u6d3b\"  href=\"/tw/Article/ArticleContent/383d9d45-698b-4e17-a84f-c7cb90b5adc5\" alt = \"\\u9ad8\\u901f\\u6162\\u6d3b\"  >\\r\\n\\t\\t\\t\\t\\t\\t\\t\\u9ad8\\u901f\\u6162\\u6d3b<em></em>\\r\\n\\t\\t\\t\\t\\t\\t\\t</a>\\r\\n\\t\\t\\t\\t\\t\\t\\t</div>\\r\\n\\r\\n\\t\\t\\t\\t\\t\\t\\t</div>\\r\\n<div class=\"list_line\"></div>\\r\\n\\r\\n\\t\\t\\t\\t\\t\\t\\t\\t</div>\\r\\n\\t\\t\\t\\t\\t\\t\\t</li>\\r\\n<li class=\"top_24hours\">\\r\\n\\t\\t\\t\\t\\t\\t\\t\\t<a href=\"https://irs.thsrc.com.tw/IMINT?locale=tw\" alt = \"24\\u5c0f\\u6642\\u7db2\\u8def\\u8a02\\u7968[\\u5c07\\u53e6\\u958b\\u65b0\\u8996\\u7a97]\" title = \"24\\u5c0f\\u6642\\u7db2\\u8def\\u8a02\\u7968[\\u5c07\\u53e6\\u958b\\u65b0\\u8996\\u7a97]\" target=\"_blank\">24\\u5c0f\\u6642\\u7db2\\u8def\\u8a02\\u7968[\\u5c07\\u53e6\\u958b\\u65b0\\u8996\\u7a97]</a>\\r\\n\\r\\n\\t</ul>\\r\\n</nav>\\r\\n\\r\\n</header>\\r\\n<h2>\\u5f88\\u62b1\\u6b49\\uff0c\\u76ee\\u524d\\u7684\\u7db2\\u9801\\u9023\\u7d50\\u4e26\\u4e0d\\u5b58\\u5728</h2>\\r\\n        <article>\\r\\n\\t        <p>\\u60a8\\u8f38\\u5165\\u7684\\u7db2\\u5740\\u4e0d\\u5b58\\u5728\\u6216\\u9801\\u9762\\u8cc7\\u8a0a\\u5df2\\u904e\\u671f\\uff0c\\u9020\\u6210\\u60a8\\u7684\\u4e0d\\u4fbf\\uff0c\\u656c\\u8acb\\u898b\\u8ad2\\uff01</p>\\r\\n\\t        <p>\\u63d0\\u9192\\u60a8\\uff0c\\u53f0\\u7063\\u9ad8\\u9435\\u5df2\\u9032\\u884c\\u5168\\u65b0\\u6539\\u7248\\uff0c\\u7db2\\u7ad9\\u5167\\u7684\\u9023\\u7d50\\u7db2\\u5740\\u53ef\\u80fd\\u6709\\u6240\\u8b8a\\u52d5\\uff0c\\u82e5\\u60a8\\u66fe\\u52a0\\u5165\\u6211\\u7684\\u6700\\u611b\\uff0c\\u9700\\u8acb\\u60a8\\u91cd\\u65b0\\u8a2d\\u5b9a\\u3002</p>\\r\\n\\t        <h3>\\u672c\\u9801\\u9762\\u5c07\\u65bc <strong><span class=\"sec\"></span>\\u79d2</strong>\\u5f8c\\u81ea\\u52d5\\u8f49\\u81f3<a title=\"\\u53f0\\u7063\\u9ad8\\u9435\\u5b98\\u7db2\\u9996\\u9801\" href=\"/tw/Home\">\\u53f0\\u7063\\u9ad8\\u9435\\u5b98\\u7db2\\u9996\\u9801</a>\\uff0c\\u6216\\u662f\\u60a8\\u53ef\\u9ede\\u9078\\u4e0b\\u5217\\u60a8\\u6b32\\u524d\\u5f80\\u7684\\u7db2\\u9801\\u6216\\u76f4\\u63a5\\u806f\\u7d61\\u5ba2\\u670d\\u4eba\\u54e1\\uff0c\\u8b1d\\u8b1d\\uff01 </h3>\\r\\n        </article>\\r\\n        <ul class=\"list_link\">\\r\\n\\t        <li>\\u53f0\\u7063\\u9ad8\\u9435\\u9996\\u9801\\uff1a<a title=\"\\u53f0\\u7063\\u9ad8\\u9435\\u9996\\u9801\" href=\"/tw/Home\">http://www.thsrc.com.tw</a></li>\\r\\n\\t        <li>24h\\u7db2\\u8def\\u8a02\\u7968\\u7cfb\\u7d71\\uff1a<a title=\"24h\\u7db2\\u8def\\u8a02\\u7968\\u7cfb\\u7d71\" href=\"https://irs.thsrc.com.tw/IMINT/\">https://irs.thsrc.com.tw/IMINT/</a></li>\\r\\n\\t        <li>\\u9ad8\\u9435\\u5047\\u671f\\uff1a<a title=\"\\u9ad8\\u9435\\u5047\\u671f\" href=\"http://tholiday.thsrc.com.tw/\">http://tholiday.thsrc.com.tw/</a></li>\\r\\n        </ul>\\r\\n        \\r\\n        <aside class=\"phone_number\">\\r\\n\\t        <h4>\\u82d7\\u6817\\uff1a4266-3000 \\u53f0\\u6771\\u3001\\u91d1\\u9580\\uff1a4666-3000 \\u99ac\\u7956\\u53ca\\u884c\\u52d5\\u96fb\\u8a71\\uff1a02-4066-3000 <strong>\\u4ee5\\u4e0a\\u7686\\u70ba\\u4ed8\\u8cbb\\u96fb\\u8a71\\uff0c\\u4f9d\\u4e00\\u822c\\u5e02\\u8a71\\u53ca\\u884c\\u52d5\\u96fb\\u8a71\\u8cbb\\u7387\\u6a19\\u6e96\\u8a08\\u8cbb</strong></h4>\\r\\n\\t        <h4 class=\"h42\">\\u82d7\\u6817\\uff1a4266-0000 \\u53f0\\u6771\\u3001\\u91d1\\u9580\\uff1a4666-0000 \\u99ac\\u7956\\u53ca\\u884c\\u52d5\\u96fb\\u8a71\\uff1a02-4066-0000 <em>\\u670d\\u52d9\\u6642\\u9593\\uff1a06:00~24:00</em></h4>\\r\\n        </aside>\\r\\n        <h6>\\u53f0\\u7063\\u9ad8\\u901f\\u9435\\u8def\\u80a1\\u4efd\\u6709\\u9650\\u516c\\u53f8 \\u7248\\u6b0a\\u6240\\u6709 \\xa9 2013 Taiwan High Speed Rail Corporation. All Rights Reserved.</h6>    \\r\\n    </div>\\r\\n</body>\\r\\n</html>\\r\\n    <script type=\"text/javascript\">\\r\\n\\r\\n        $().ready(function () {\\r\\n            Reciprocal(10);\\r\\n        });\\r\\n\\r\\n        function Reciprocal(num) {\\r\\n            if (num == 0) {\\r\\n                $(\\'.sec\\').html(num);\\r\\n                OK();\\r\\n            }\\r\\n            else if (num > 0) {\\r\\n                setTimeout(\"Reciprocal(\" + (num - 1) + \");\", 1000);\\r\\n                $(\\'.sec\\').html(num);\\r\\n            }\\r\\n        }\\r\\n\\r\\n        function OK() {\\r\\n            location.href = \"/tw/Home\";\\r\\n        }\\r\\n\\r\\n    </script>'"
      ]
     },
     "execution_count": 21,
     "metadata": {},
     "output_type": "execute_result"
    }
   ],
   "source": [
    "# 找一下06:30這個字串\n",
    "res.text"
   ]
  },
  {
   "cell_type": "code",
   "execution_count": 19,
   "metadata": {
    "collapsed": false,
    "scrolled": true
   },
   "outputs": [
    {
     "data": {
      "text/plain": [
       "u'<!DOCTYPE html>\\n<html>\\n\\t<head>\\n\\t\\t<meta charset=\"utf-8\">\\n\\t\\t\\n\\n<meta name=\"viewport\" content=\"width=device-width, initial-scale=1\">\\n\\n<title>\\u770b\\u677f bicycle \\u6587\\u7ae0\\u5217\\u8868 - \\u6279\\u8e22\\u8e22\\u5be6\\u696d\\u574a</title>\\n\\n<link rel=\"stylesheet\" type=\"text/css\" href=\"//images.ptt.cc/v2.19/bbs-common.css\">\\n<link rel=\"stylesheet\" type=\"text/css\" href=\"//images.ptt.cc/v2.19/bbs-base.css\" media=\"screen\">\\n<link rel=\"stylesheet\" type=\"text/css\" href=\"//images.ptt.cc/v2.19/bbs-custom.css\">\\n<link rel=\"stylesheet\" type=\"text/css\" href=\"//images.ptt.cc/v2.19/pushstream.css\" media=\"screen\">\\n<link rel=\"stylesheet\" type=\"text/css\" href=\"//images.ptt.cc/v2.19/bbs-print.css\" media=\"print\">\\n\\n\\n<script src=\"//ajax.googleapis.com/ajax/libs/jquery/2.1.1/jquery.min.js\"></script>\\n<script src=\"//images.ptt.cc/v2.19/bbs.js\"></script>\\n\\n\\n\\t\\t\\n\\n<script type=\"text/javascript\">\\n\\n  var _gaq = _gaq || [];\\n  _gaq.push([\\'_setAccount\\', \\'UA-32365737-1\\']);\\n  _gaq.push([\\'_setDomainName\\', \\'ptt.cc\\']);\\n  _gaq.push([\\'_trackPageview\\']);\\n\\n  (function() {\\n    var ga = document.createElement(\\'script\\'); ga.type = \\'text/javascript\\'; ga.async = true;\\n    ga.src = (\\'https:\\' == document.location.protocol ? \\'https://ssl\\' : \\'http://www\\') + \\'.google-analytics.com/ga.js\\';\\n    var s = document.getElementsByTagName(\\'script\\')[0]; s.parentNode.insertBefore(ga, s);\\n  })();\\n\\n</script>\\n\\n\\n\\t</head>\\n    <body>\\n\\t\\t\\n<div id=\"topbar-container\">\\n\\t<div id=\"topbar\" class=\"bbs-content\">\\n\\t\\t<a id=\"logo\" href=\"/\">\\u6279\\u8e22\\u8e22\\u5be6\\u696d\\u574a</a>\\n\\t\\t<span>&rsaquo;</span>\\n\\t\\t<a class=\"board\" href=\"/bbs/bicycle/index.html\"><span class=\"board-label\">\\u770b\\u677f </span>bicycle</a>\\n\\t\\t<a class=\"right small\" href=\"/about.html\">\\u95dc\\u65bc\\u6211\\u5011</a>\\n\\t\\t<a class=\"right small\" href=\"/contact.html\">\\u806f\\u7d61\\u8cc7\\u8a0a</a>\\n\\t</div>\\n</div>\\n\\n<div id=\"main-container\">\\n\\t<div id=\"action-bar-container\">\\n\\t\\t<div class=\"action-bar\">\\n\\t\\t\\t<div class=\"btn-group btn-group-dir\">\\n\\t\\t\\t\\t<a class=\"btn selected\" href=\"/bbs/bicycle/index.html\">\\u770b\\u677f</a>\\n\\t\\t\\t\\t<a class=\"btn\" href=\"/man/bicycle/index.html\">\\u7cbe\\u83ef\\u5340</a>\\n\\t\\t\\t</div>\\n\\t\\t\\t<div class=\"btn-group btn-group-paging\">\\n\\t\\t\\t\\t<a class=\"btn wide\" href=\"/bbs/bicycle/index1.html\">\\u6700\\u820a</a>\\n\\t\\t\\t\\t<a class=\"btn wide\" href=\"/bbs/bicycle/index1508.html\">&lsaquo; \\u4e0a\\u9801</a>\\n\\t\\t\\t\\t<a class=\"btn wide disabled\">\\u4e0b\\u9801 &rsaquo;</a>\\n\\t\\t\\t\\t<a class=\"btn wide\" href=\"/bbs/bicycle/index.html\">\\u6700\\u65b0</a>\\n\\t\\t\\t</div>\\n\\t\\t</div>\\n\\t</div>\\n\\n\\t<div class=\"r-list-container bbs-screen\">\\n\\t\\t\\n\\t\\t\\n            \\n        \\n        \\n\\t\\t<div class=\"r-ent\">\\n\\t\\t\\t<div class=\"nrec\"><span class=\"hl f3\">24</span></div>\\n\\t\\t\\t<div class=\"mark\"></div>\\n\\t\\t\\t<div class=\"title\">\\n\\t\\t\\t\\n\\t\\t\\t\\t<a href=\"/bbs/bicycle/M.1472657458.A.0FD.html\">[\\u554f\\u984c] \\u5973\\u6027\\u8eca\\u8932\\u78e8\\u64e6--\\u5973\\u9a0e\\u58eb\\u8acb\\u9032</a>\\n\\t\\t\\t\\n\\t\\t\\t</div>\\n\\t\\t\\t<div class=\"meta\">\\n\\t\\t\\t\\t<div class=\"date\"> 8/31</div>\\n\\t\\t\\t\\t<div class=\"author\">wjas</div>\\n\\t\\t\\t</div>\\n\\t\\t</div>\\n\\n\\t\\t\\n            \\n        \\n        \\n\\t\\t<div class=\"r-ent\">\\n\\t\\t\\t<div class=\"nrec\"><span class=\"hl f2\">7</span></div>\\n\\t\\t\\t<div class=\"mark\"></div>\\n\\t\\t\\t<div class=\"title\">\\n\\t\\t\\t\\n\\t\\t\\t\\t<a href=\"/bbs/bicycle/M.1472663116.A.71A.html\">[\\u554f\\u984c] \\u6dd1\\u5973\\u8eca\\u53ca\\u89aa\\u5b50\\u5ea7\\u63a8\\u85a6</a>\\n\\t\\t\\t\\n\\t\\t\\t</div>\\n\\t\\t\\t<div class=\"meta\">\\n\\t\\t\\t\\t<div class=\"date\"> 9/01</div>\\n\\t\\t\\t\\t<div class=\"author\">iamurs</div>\\n\\t\\t\\t</div>\\n\\t\\t</div>\\n\\n\\t\\t\\n            \\n        \\n        \\n\\t\\t<div class=\"r-ent\">\\n\\t\\t\\t<div class=\"nrec\"><span class=\"hl f3\">22</span></div>\\n\\t\\t\\t<div class=\"mark\">S</div>\\n\\t\\t\\t<div class=\"title\">\\n\\t\\t\\t\\n\\t\\t\\t\\t<a href=\"/bbs/bicycle/M.1472689450.A.323.html\">[\\u4ea4\\u6613] \\u552eescape 3 \\u9ed1\\u8272 s\\u865f</a>\\n\\t\\t\\t\\n\\t\\t\\t</div>\\n\\t\\t\\t<div class=\"meta\">\\n\\t\\t\\t\\t<div class=\"date\"> 9/01</div>\\n\\t\\t\\t\\t<div class=\"author\">ppp4965583</div>\\n\\t\\t\\t</div>\\n\\t\\t</div>\\n\\n\\t\\t\\n            \\n        \\n        \\n\\t\\t<div class=\"r-ent\">\\n\\t\\t\\t<div class=\"nrec\"></div>\\n\\t\\t\\t<div class=\"mark\"></div>\\n\\t\\t\\t<div class=\"title\">\\n\\t\\t\\t\\n\\t\\t\\t\\t[    ] (\\u672c\\u6587\\u5df2\\u88ab\\u522a\\u9664) &lt;iamurs&gt;\\n\\t\\t\\t\\n\\t\\t\\t</div>\\n\\t\\t\\t<div class=\"meta\">\\n\\t\\t\\t\\t<div class=\"date\"> 9/01</div>\\n\\t\\t\\t\\t<div class=\"author\">-</div>\\n\\t\\t\\t</div>\\n\\t\\t</div>\\n\\n\\t\\t\\n            \\n        \\n        \\n\\t\\t<div class=\"r-ent\">\\n\\t\\t\\t<div class=\"nrec\"><span class=\"hl f3\">14</span></div>\\n\\t\\t\\t<div class=\"mark\"></div>\\n\\t\\t\\t<div class=\"title\">\\n\\t\\t\\t\\n\\t\\t\\t\\t<a href=\"/bbs/bicycle/M.1472699767.A.C3F.html\">[\\u554f\\u984c] \\u65b0\\u624b\\u8cfc\\u8eca KHS Vitamin D VS HASA R3</a>\\n\\t\\t\\t\\n\\t\\t\\t</div>\\n\\t\\t\\t<div class=\"meta\">\\n\\t\\t\\t\\t<div class=\"date\"> 9/01</div>\\n\\t\\t\\t\\t<div class=\"author\">pigleader</div>\\n\\t\\t\\t</div>\\n\\t\\t</div>\\n\\n\\t\\t\\n            \\n        \\n        \\n\\t\\t<div class=\"r-ent\">\\n\\t\\t\\t<div class=\"nrec\"></div>\\n\\t\\t\\t<div class=\"mark\"></div>\\n\\t\\t\\t<div class=\"title\">\\n\\t\\t\\t\\n\\t\\t\\t\\t[    ] (\\u672c\\u6587\\u5df2\\u88ab\\u522a\\u9664) [jkao]\\n\\t\\t\\t\\n\\t\\t\\t</div>\\n\\t\\t\\t<div class=\"meta\">\\n\\t\\t\\t\\t<div class=\"date\"> 9/01</div>\\n\\t\\t\\t\\t<div class=\"author\">-</div>\\n\\t\\t\\t</div>\\n\\t\\t</div>\\n\\n\\t\\t\\n            \\n        \\n        \\n\\t\\t<div class=\"r-ent\">\\n\\t\\t\\t<div class=\"nrec\"></div>\\n\\t\\t\\t<div class=\"mark\"></div>\\n\\t\\t\\t<div class=\"title\">\\n\\t\\t\\t\\n\\t\\t\\t\\t<a href=\"/bbs/bicycle/M.1472718522.A.4CC.html\">[\\u554f\\u984c] \\u9019\\u53f0\\u662f\\u820a\\u6b3eR902\\u55ce\\uff1f</a>\\n\\t\\t\\t\\n\\t\\t\\t</div>\\n\\t\\t\\t<div class=\"meta\">\\n\\t\\t\\t\\t<div class=\"date\"> 9/01</div>\\n\\t\\t\\t\\t<div class=\"author\">cit8</div>\\n\\t\\t\\t</div>\\n\\t\\t</div>\\n\\n\\t\\t\\n            \\n        \\n        \\n\\t\\t<div class=\"r-ent\">\\n\\t\\t\\t<div class=\"nrec\"><span class=\"hl f2\">3</span></div>\\n\\t\\t\\t<div class=\"mark\"></div>\\n\\t\\t\\t<div class=\"title\">\\n\\t\\t\\t\\n\\t\\t\\t\\t<a href=\"/bbs/bicycle/M.1472719415.A.B83.html\">[\\u554f\\u984c] \\u524d\\u5f8c\\u8b8a\\u901f\\u7684\\u9078\\u64c75800 vs 6800</a>\\n\\t\\t\\t\\n\\t\\t\\t</div>\\n\\t\\t\\t<div class=\"meta\">\\n\\t\\t\\t\\t<div class=\"date\"> 9/01</div>\\n\\t\\t\\t\\t<div class=\"author\">alsoty</div>\\n\\t\\t\\t</div>\\n\\t\\t</div>\\n\\n\\t\\t\\n            \\n        \\n        \\n\\t\\t<div class=\"r-ent\">\\n\\t\\t\\t<div class=\"nrec\"><span class=\"hl f2\">7</span></div>\\n\\t\\t\\t<div class=\"mark\"></div>\\n\\t\\t\\t<div class=\"title\">\\n\\t\\t\\t\\n\\t\\t\\t\\t<a href=\"/bbs/bicycle/M.1472721707.A.782.html\">[\\u554f\\u984c] \\u9019\\u4e09\\u7d44\\u8f2a\\u7d44\\u8acb\\u76ca</a>\\n\\t\\t\\t\\n\\t\\t\\t</div>\\n\\t\\t\\t<div class=\"meta\">\\n\\t\\t\\t\\t<div class=\"date\"> 9/01</div>\\n\\t\\t\\t\\t<div class=\"author\">GinoMai</div>\\n\\t\\t\\t</div>\\n\\t\\t</div>\\n\\n\\t\\t\\n            \\n        \\n        \\n\\t\\t<div class=\"r-ent\">\\n\\t\\t\\t<div class=\"nrec\"><span class=\"hl f2\">4</span></div>\\n\\t\\t\\t<div class=\"mark\"></div>\\n\\t\\t\\t<div class=\"title\">\\n\\t\\t\\t\\n\\t\\t\\t\\t<a href=\"/bbs/bicycle/M.1472722138.A.FDA.html\">[\\u60c5\\u5831] \\u6377\\u5b89\\u7279\\u65b0\\u5e73\\u628aDEFY Advanced F-Ultegra D</a>\\n\\t\\t\\t\\n\\t\\t\\t</div>\\n\\t\\t\\t<div class=\"meta\">\\n\\t\\t\\t\\t<div class=\"date\"> 9/01</div>\\n\\t\\t\\t\\t<div class=\"author\">baozi</div>\\n\\t\\t\\t</div>\\n\\t\\t</div>\\n\\n\\t\\t\\n            \\n        \\n        \\n\\t\\t<div class=\"r-ent\">\\n\\t\\t\\t<div class=\"nrec\"></div>\\n\\t\\t\\t<div class=\"mark\"></div>\\n\\t\\t\\t<div class=\"title\">\\n\\t\\t\\t\\n\\t\\t\\t\\t<a href=\"/bbs/bicycle/M.1472727330.A.503.html\">[\\u4ea4\\u6613] \\u552e2016HASA R3</a>\\n\\t\\t\\t\\n\\t\\t\\t</div>\\n\\t\\t\\t<div class=\"meta\">\\n\\t\\t\\t\\t<div class=\"date\"> 9/01</div>\\n\\t\\t\\t\\t<div class=\"author\">billy097032</div>\\n\\t\\t\\t</div>\\n\\t\\t</div>\\n\\n\\t\\t\\n            \\n        \\n        \\n\\t\\t<div class=\"r-ent\">\\n\\t\\t\\t<div class=\"nrec\"><span class=\"hl f2\">6</span></div>\\n\\t\\t\\t<div class=\"mark\"></div>\\n\\t\\t\\t<div class=\"title\">\\n\\t\\t\\t\\n\\t\\t\\t\\t<a href=\"/bbs/bicycle/M.1472736719.A.D6A.html\">[\\u554f\\u984c] \\u60f3\\u8cb7\\u5167\\u8b8a\\u901f\\u7684\\u6dd1\\u5973\\u8eca\\uff1f</a>\\n\\t\\t\\t\\n\\t\\t\\t</div>\\n\\t\\t\\t<div class=\"meta\">\\n\\t\\t\\t\\t<div class=\"date\"> 9/01</div>\\n\\t\\t\\t\\t<div class=\"author\">vinmo</div>\\n\\t\\t\\t</div>\\n\\t\\t</div>\\n\\n\\t\\t\\n            \\n        \\n        \\n\\t\\t<div class=\"r-ent\">\\n\\t\\t\\t<div class=\"nrec\"><span class=\"hl f2\">2</span></div>\\n\\t\\t\\t<div class=\"mark\"></div>\\n\\t\\t\\t<div class=\"title\">\\n\\t\\t\\t\\n\\t\\t\\t\\t<a href=\"/bbs/bicycle/M.1472738710.A.CAD.html\">[\\u60c5\\u5831] \\u6843\\uff11\\uff11\\uff19\\u63a5\\uff11\\uff11\\uff13\\u574d\\u65b9\\u7121\\u6cd5\\u901a\\u884c</a>\\n\\t\\t\\t\\n\\t\\t\\t</div>\\n\\t\\t\\t<div class=\"meta\">\\n\\t\\t\\t\\t<div class=\"date\"> 9/01</div>\\n\\t\\t\\t\\t<div class=\"author\">askajay</div>\\n\\t\\t\\t</div>\\n\\t\\t</div>\\n\\n\\t\\t\\n        \\n        <div class=\"r-list-sep\"></div>\\n            \\n                \\n        \\n        \\n\\t\\t<div class=\"r-ent\">\\n\\t\\t\\t<div class=\"nrec\"></div>\\n\\t\\t\\t<div class=\"mark\"></div>\\n\\t\\t\\t<div class=\"title\">\\n\\t\\t\\t\\n\\t\\t\\t\\t<a href=\"/bbs/bicycle/M.1449726320.A.26F.html\">[\\u516c\\u544a] \\u677f\\u898f(s\\u8868\\u793a\\u5408\\u7248\\u898f\\u4ea4\\u6613)           \\u4ea4\\u6613\\u6587</a>\\n\\t\\t\\t\\n\\t\\t\\t</div>\\n\\t\\t\\t<div class=\"meta\">\\n\\t\\t\\t\\t<div class=\"date\">12/10</div>\\n\\t\\t\\t\\t<div class=\"author\">obluda</div>\\n\\t\\t\\t</div>\\n\\t\\t</div>\\n\\n            \\n                \\n        \\n        \\n\\t\\t<div class=\"r-ent\">\\n\\t\\t\\t<div class=\"nrec\"><span class=\"hl f2\">6</span></div>\\n\\t\\t\\t<div class=\"mark\"></div>\\n\\t\\t\\t<div class=\"title\">\\n\\t\\t\\t\\n\\t\\t\\t\\t<a href=\"/bbs/bicycle/M.1448340379.A.ED7.html\">[\\u516c\\u544a] \\u6c34\\u6876\\u540d\\u55ae (\\u5fb5\\u6c42\\u6587\\u8acb\\u770b\\u677f\\u898f\\u4e94)     \\u8acb\\u770b</a>\\n\\t\\t\\t\\n\\t\\t\\t</div>\\n\\t\\t\\t<div class=\"meta\">\\n\\t\\t\\t\\t<div class=\"date\">11/24</div>\\n\\t\\t\\t\\t<div class=\"author\">obluda</div>\\n\\t\\t\\t</div>\\n\\t\\t</div>\\n\\n            \\n                \\n        \\n        \\n\\t\\t<div class=\"r-ent\">\\n\\t\\t\\t<div class=\"nrec\"><span class=\"hl f2\">5</span></div>\\n\\t\\t\\t<div class=\"mark\">M</div>\\n\\t\\t\\t<div class=\"title\">\\n\\t\\t\\t\\n\\t\\t\\t\\t<a href=\"/bbs/bicycle/M.1448620477.A.A0E.html\">[\\u8a0e\\u8ad6] 2016 \\u81ea\\u884c\\u8eca \\u6d3b\\u52d5                \\u677f\\u898f\\u4e94</a>\\n\\t\\t\\t\\n\\t\\t\\t</div>\\n\\t\\t\\t<div class=\"meta\">\\n\\t\\t\\t\\t<div class=\"date\">11/27</div>\\n\\t\\t\\t\\t<div class=\"author\">demo68</div>\\n\\t\\t\\t</div>\\n\\t\\t</div>\\n\\n            \\n                \\n        \\n        \\n\\t\\t<div class=\"r-ent\">\\n\\t\\t\\t<div class=\"nrec\"></div>\\n\\t\\t\\t<div class=\"mark\">M</div>\\n\\t\\t\\t<div class=\"title\">\\n\\t\\t\\t\\n\\t\\t\\t\\t<a href=\"/bbs/bicycle/M.1461859097.A.359.html\">\\u5fb5\\u677f\\u4e3b (\\u4ea4\\u6613\\u4e0d\\u5408\\u677f\\u898f\\u53e6\\u6709\\u9ad4\\u80b2\\u7528\\u54c1\\u4ea4\\u6613\\u7248)</a>\\n\\t\\t\\t\\n\\t\\t\\t</div>\\n\\t\\t\\t<div class=\"meta\">\\n\\t\\t\\t\\t<div class=\"date\"> 4/28</div>\\n\\t\\t\\t\\t<div class=\"author\">obluda</div>\\n\\t\\t\\t</div>\\n\\t\\t</div>\\n\\n            \\n        \\n\\t</div>\\n\\n    \\n</div>\\n\\n    </body>\\n</html>\\n'"
      ]
     },
     "execution_count": 19,
     "metadata": {},
     "output_type": "execute_result"
    }
   ],
   "source": [
    "## 放入custom header\n",
    "headers = {'user-agent': 'my-app/0.0.1'}\n",
    "res = requests.get(\"https://www.ptt.cc/bbs/bicycle/index.html\", headers=headers)\n",
    "res.text"
   ]
  },
  {
   "cell_type": "code",
   "execution_count": null,
   "metadata": {
    "collapsed": false
   },
   "outputs": [],
   "source": [
    "# Cookies\n",
    "url = 'http://httpbin.org/cookies'\n",
    "cookies = dict(cookies_are='working')\n",
    "\n",
    "res = requests.get(url, cookies=cookies)\n",
    "res.text"
   ]
  },
  {
   "cell_type": "code",
   "execution_count": null,
   "metadata": {
    "collapsed": false
   },
   "outputs": [],
   "source": [
    "# Session\n",
    "s = requests.Session()\n",
    "\n",
    "s.get('http://httpbin.org/cookies/set/sessioncookie/123456789')\n",
    "res = s.get('http://httpbin.org/cookies')\n",
    "\n",
    "print(res.text)"
   ]
  },
  {
   "cell_type": "markdown",
   "metadata": {},
   "source": [
    "解析HTML（BeautifulSoup）\n",
    "---\n",
    "1. ```pip install beautifulsoup```\n",
    "2. ```pip install lxml```"
   ]
  },
  {
   "cell_type": "markdown",
   "metadata": {},
   "source": [
    "## BeautifulSoup\n",
    "---\n",
    "- version 4\n",
    "- Filters can accept a string, a regular expression, a list, a function, or the value True.\n",
    "- BeautifulSoup Object -> HTML\n",
    "- Tag Object -> HTML Tag\n",
    "- 常用的Search Method\n",
    "  - find\\_all(name, class_='container')\n",
    "- CSS Selector\n",
    "  - select()\n",
    "- 改動Tree\n",
    "  - extract()"
   ]
  },
  {
   "cell_type": "code",
   "execution_count": 22,
   "metadata": {
    "collapsed": true
   },
   "outputs": [],
   "source": [
    "from bs4 import BeautifulSoup"
   ]
  },
  {
   "cell_type": "code",
   "execution_count": 70,
   "metadata": {
    "collapsed": true
   },
   "outputs": [],
   "source": [
    "myhtml = \"\"\"\n",
    "<html><head><title>The Dormouse's story</title></head>\n",
    "<body>\n",
    "<p class=\"title\"><b>The Dormouse's story</b></p>\n",
    "\n",
    "<p class=\"story\">Once upon a time there were three little sisters; and their names were\n",
    "<a href=\"http://example.com/elsie\" class=\"sister\" id=\"link1\">Elsie</a>,\n",
    "<b href=\"http://example.com/lacie\" class=\"sister\" id=\"link2\">Lacie</b> and\n",
    "<a href=\"http://example.com/tillie\" class=\"sister\" id=\"link3\">Tillie</a>;\n",
    "and they lived at the bottom of a well.</p>\n",
    "\n",
    "<p class=\"story\">...</p>\n",
    "\"\"\""
   ]
  },
  {
   "cell_type": "code",
   "execution_count": 71,
   "metadata": {
    "collapsed": false
   },
   "outputs": [],
   "source": [
    "soup = BeautifulSoup(myhtml, \"lxml\")"
   ]
  },
  {
   "cell_type": "code",
   "execution_count": 25,
   "metadata": {
    "collapsed": false
   },
   "outputs": [
    {
     "data": {
      "text/plain": [
       "[<a class=\"sister\" href=\"http://example.com/elsie\" id=\"link1\">Elsie</a>,\n",
       " <a class=\"sister\" href=\"http://example.com/lacie\" id=\"link2\">Lacie</a>,\n",
       " <a class=\"sister\" href=\"http://example.com/tillie\" id=\"link3\">Tillie</a>]"
      ]
     },
     "execution_count": 25,
     "metadata": {},
     "output_type": "execute_result"
    }
   ],
   "source": [
    "soup.select(\"body a\")"
   ]
  },
  {
   "cell_type": "code",
   "execution_count": 28,
   "metadata": {
    "collapsed": false
   },
   "outputs": [
    {
     "data": {
      "text/plain": [
       "[<title>The Dormouse's story</title>]"
      ]
     },
     "execution_count": 28,
     "metadata": {},
     "output_type": "execute_result"
    }
   ],
   "source": [
    "soup.select(\"html head title\")"
   ]
  },
  {
   "cell_type": "code",
   "execution_count": 29,
   "metadata": {
    "collapsed": false
   },
   "outputs": [
    {
     "data": {
      "text/plain": [
       "[<title>The Dormouse's story</title>]"
      ]
     },
     "execution_count": 29,
     "metadata": {},
     "output_type": "execute_result"
    }
   ],
   "source": [
    "soup.select(\"head > title\")"
   ]
  },
  {
   "cell_type": "code",
   "execution_count": 39,
   "metadata": {
    "collapsed": false
   },
   "outputs": [
    {
     "data": {
      "text/plain": [
       "[<a class=\"sister\" href=\"http://example.com/elsie\" id=\"link1\">Elsie</a>,\n",
       " <a class=\"sister\" href=\"http://example.com/lacie\" id=\"link2\">Lacie</a>,\n",
       " <a class=\"sister\" href=\"http://example.com/tillie\" id=\"link3\">Tillie</a>]"
      ]
     },
     "execution_count": 39,
     "metadata": {},
     "output_type": "execute_result"
    }
   ],
   "source": [
    "soup.select(\"p > a\")"
   ]
  },
  {
   "cell_type": "code",
   "execution_count": 38,
   "metadata": {
    "collapsed": false
   },
   "outputs": [
    {
     "data": {
      "text/plain": [
       "[<a class=\"sister\" href=\"http://example.com/lacie\" id=\"link2\">Lacie</a>]"
      ]
     },
     "execution_count": 38,
     "metadata": {},
     "output_type": "execute_result"
    }
   ],
   "source": [
    "soup.select(\"p > a:nth-of-type(2)\")"
   ]
  },
  {
   "cell_type": "code",
   "execution_count": null,
   "metadata": {
    "collapsed": false
   },
   "outputs": [],
   "source": [
    "soup.select(\"p > #link1\")"
   ]
  },
  {
   "cell_type": "code",
   "execution_count": null,
   "metadata": {
    "collapsed": false
   },
   "outputs": [],
   "source": [
    "soup.select(\"body > a\")"
   ]
  },
  {
   "cell_type": "code",
   "execution_count": 79,
   "metadata": {
    "collapsed": false
   },
   "outputs": [
    {
     "data": {
      "text/plain": [
       "[<b class=\"sister\" href=\"http://example.com/lacie\" id=\"link2\">Lacie</b>]"
      ]
     },
     "execution_count": 79,
     "metadata": {},
     "output_type": "execute_result"
    }
   ],
   "source": [
    "soup.select(\"b.sister\")"
   ]
  },
  {
   "cell_type": "code",
   "execution_count": 75,
   "metadata": {
    "collapsed": false
   },
   "outputs": [
    {
     "data": {
      "text/plain": [
       "[<b class=\"sister\" href=\"http://example.com/lacie\" id=\"link2\">Lacie</b>]"
      ]
     },
     "execution_count": 75,
     "metadata": {},
     "output_type": "execute_result"
    }
   ],
   "source": [
    "soup.select(\"#link2\")"
   ]
  },
  {
   "cell_type": "code",
   "execution_count": 88,
   "metadata": {
    "collapsed": false,
    "scrolled": true
   },
   "outputs": [
    {
     "data": {
      "text/plain": [
       "['__call__',\n",
       " '__class__',\n",
       " '__cmp__',\n",
       " '__delattr__',\n",
       " '__doc__',\n",
       " '__format__',\n",
       " '__func__',\n",
       " '__get__',\n",
       " '__getattribute__',\n",
       " '__hash__',\n",
       " '__init__',\n",
       " '__new__',\n",
       " '__reduce__',\n",
       " '__reduce_ex__',\n",
       " '__repr__',\n",
       " '__self__',\n",
       " '__setattr__',\n",
       " '__sizeof__',\n",
       " '__str__',\n",
       " '__subclasshook__',\n",
       " 'im_class',\n",
       " 'im_func',\n",
       " 'im_self']"
      ]
     },
     "execution_count": 88,
     "metadata": {},
     "output_type": "execute_result"
    }
   ],
   "source": [
    "dir(soup.select)"
   ]
  },
  {
   "cell_type": "code",
   "execution_count": 96,
   "metadata": {
    "collapsed": false,
    "scrolled": true
   },
   "outputs": [
    {
     "name": "stdout",
     "output_type": "stream",
     "text": [
      "Help on class BeautifulSoup in module bs4:\n",
      "\n",
      "class BeautifulSoup(bs4.element.Tag)\n",
      " |  This class defines the basic interface called by the tree builders.\n",
      " |  \n",
      " |  These methods will be called by the parser:\n",
      " |    reset()\n",
      " |    feed(markup)\n",
      " |  \n",
      " |  The tree builder may call these methods from its feed() implementation:\n",
      " |    handle_starttag(name, attrs) # See note about return value\n",
      " |    handle_endtag(name)\n",
      " |    handle_data(data) # Appends to the current data node\n",
      " |    endData(containerClass=NavigableString) # Ends the current data node\n",
      " |  \n",
      " |  No matter how complicated the underlying parser is, you should be\n",
      " |  able to build a tree using 'start tag' events, 'end tag' events,\n",
      " |  'data' events, and \"done with data\" events.\n",
      " |  \n",
      " |  If you encounter an empty-element tag (aka a self-closing tag,\n",
      " |  like HTML's <br> tag), call handle_starttag and then\n",
      " |  handle_endtag.\n",
      " |  \n",
      " |  Method resolution order:\n",
      " |      BeautifulSoup\n",
      " |      bs4.element.Tag\n",
      " |      bs4.element.PageElement\n",
      " |      __builtin__.object\n",
      " |  \n",
      " |  Methods defined here:\n",
      " |  \n",
      " |  __copy__(self)\n",
      " |  \n",
      " |  __getstate__(self)\n",
      " |  \n",
      " |  __init__(self, markup='', features=None, builder=None, parse_only=None, from_encoding=None, exclude_encodings=None, **kwargs)\n",
      " |      The Soup object is initialized as the 'root tag', and the\n",
      " |      provided markup (which can be a string or a file-like object)\n",
      " |      is fed into the underlying parser.\n",
      " |  \n",
      " |  decode(self, pretty_print=False, eventual_encoding='utf-8', formatter='minimal')\n",
      " |      Returns a string or Unicode representation of this document.\n",
      " |      To get Unicode, pass None for encoding.\n",
      " |  \n",
      " |  endData(self, containerClass=<class 'bs4.element.NavigableString'>)\n",
      " |  \n",
      " |  handle_data(self, data)\n",
      " |  \n",
      " |  handle_endtag(self, name, nsprefix=None)\n",
      " |  \n",
      " |  handle_starttag(self, name, namespace, nsprefix, attrs)\n",
      " |      Push a start tag on to the stack.\n",
      " |      \n",
      " |      If this method returns None, the tag was rejected by the\n",
      " |      SoupStrainer. You should proceed as if the tag had not occured\n",
      " |      in the document. For instance, if this was a self-closing tag,\n",
      " |      don't call handle_endtag.\n",
      " |  \n",
      " |  insert_after(self, successor)\n",
      " |  \n",
      " |  insert_before(self, successor)\n",
      " |  \n",
      " |  new_string(self, s, subclass=<class 'bs4.element.NavigableString'>)\n",
      " |      Create a new NavigableString associated with this soup.\n",
      " |  \n",
      " |  new_tag(self, name, namespace=None, nsprefix=None, **attrs)\n",
      " |      Create a new tag associated with this soup.\n",
      " |  \n",
      " |  object_was_parsed(self, o, parent=None, most_recent_element=None)\n",
      " |      Add an object to the parse tree.\n",
      " |  \n",
      " |  popTag(self)\n",
      " |  \n",
      " |  pushTag(self, tag)\n",
      " |  \n",
      " |  reset(self)\n",
      " |  \n",
      " |  ----------------------------------------------------------------------\n",
      " |  Data and other attributes defined here:\n",
      " |  \n",
      " |  ASCII_SPACES = ' \\n\\t\\x0c\\r'\n",
      " |  \n",
      " |  DEFAULT_BUILDER_FEATURES = ['html', 'fast']\n",
      " |  \n",
      " |  NO_PARSER_SPECIFIED_WARNING = 'No parser was explicitly specified, so ...\n",
      " |  \n",
      " |  ROOT_TAG_NAME = u'[document]'\n",
      " |  \n",
      " |  ----------------------------------------------------------------------\n",
      " |  Methods inherited from bs4.element.Tag:\n",
      " |  \n",
      " |  __call__(self, *args, **kwargs)\n",
      " |      Calling a tag like a function is the same as calling its\n",
      " |      find_all() method. Eg. tag('a') returns a list of all the A tags\n",
      " |      found within this tag.\n",
      " |  \n",
      " |  __contains__(self, x)\n",
      " |  \n",
      " |  __delitem__(self, key)\n",
      " |      Deleting tag[key] deletes all 'key' attributes for the tag.\n",
      " |  \n",
      " |  __eq__(self, other)\n",
      " |      Returns true iff this tag has the same name, the same attributes,\n",
      " |      and the same contents (recursively) as the given tag.\n",
      " |  \n",
      " |  __getattr__(self, tag)\n",
      " |  \n",
      " |  __getitem__(self, key)\n",
      " |      tag[key] returns the value of the 'key' attribute for the tag,\n",
      " |      and throws an exception if it's not there.\n",
      " |  \n",
      " |  __hash__(self)\n",
      " |  \n",
      " |  __iter__(self)\n",
      " |      Iterating over a tag iterates over its contents.\n",
      " |  \n",
      " |  __len__(self)\n",
      " |      The length of a tag is the length of its list of contents.\n",
      " |  \n",
      " |  __ne__(self, other)\n",
      " |      Returns true iff this tag is not identical to the other tag,\n",
      " |      as defined in __eq__.\n",
      " |  \n",
      " |  __nonzero__(self)\n",
      " |      A tag is non-None even if it has no contents.\n",
      " |  \n",
      " |  __repr__(self, encoding='unicode-escape')\n",
      " |      Renders this tag as a string.\n",
      " |  \n",
      " |  __setitem__(self, key, value)\n",
      " |      Setting tag[key] sets the value of the 'key' attribute for the\n",
      " |      tag.\n",
      " |  \n",
      " |  __str__(self)\n",
      " |  \n",
      " |  __unicode__(self)\n",
      " |  \n",
      " |  childGenerator(self)\n",
      " |      # Old names for backwards compatibility\n",
      " |  \n",
      " |  clear(self, decompose=False)\n",
      " |      Extract all children. If decompose is True, decompose instead.\n",
      " |  \n",
      " |  decode_contents(self, indent_level=None, eventual_encoding='utf-8', formatter='minimal')\n",
      " |      Renders the contents of this tag as a Unicode string.\n",
      " |      \n",
      " |      :param indent_level: Each line of the rendering will be\n",
      " |         indented this many spaces.\n",
      " |      \n",
      " |      :param eventual_encoding: The tag is destined to be\n",
      " |         encoded into this encoding. This method is _not_\n",
      " |         responsible for performing that encoding. This information\n",
      " |         is passed in so that it can be substituted in if the\n",
      " |         document contains a <META> tag that mentions the document's\n",
      " |         encoding.\n",
      " |      \n",
      " |      :param formatter: The output formatter responsible for converting\n",
      " |         entities to Unicode characters.\n",
      " |  \n",
      " |  decompose(self)\n",
      " |      Recursively destroys the contents of this tree.\n",
      " |  \n",
      " |  encode(self, encoding='utf-8', indent_level=None, formatter='minimal', errors='xmlcharrefreplace')\n",
      " |  \n",
      " |  encode_contents(self, indent_level=None, encoding='utf-8', formatter='minimal')\n",
      " |      Renders the contents of this tag as a bytestring.\n",
      " |      \n",
      " |      :param indent_level: Each line of the rendering will be\n",
      " |         indented this many spaces.\n",
      " |      \n",
      " |      :param eventual_encoding: The bytestring will be in this encoding.\n",
      " |      \n",
      " |      :param formatter: The output formatter responsible for converting\n",
      " |         entities to Unicode characters.\n",
      " |  \n",
      " |  find(self, name=None, attrs={}, recursive=True, text=None, **kwargs)\n",
      " |      Return only the first child of this Tag matching the given\n",
      " |      criteria.\n",
      " |  \n",
      " |  findAll = find_all(self, name=None, attrs={}, recursive=True, text=None, limit=None, **kwargs)\n",
      " |      Extracts a list of Tag objects that match the given\n",
      " |      criteria.  You can specify the name of the Tag and any\n",
      " |      attributes you want the Tag to have.\n",
      " |      \n",
      " |      The value of a key-value pair in the 'attrs' map can be a\n",
      " |      string, a list of strings, a regular expression object, or a\n",
      " |      callable that takes a string and returns whether or not the\n",
      " |      string matches for some custom definition of 'matches'. The\n",
      " |      same is true of the tag name.\n",
      " |  \n",
      " |  findChild = find(self, name=None, attrs={}, recursive=True, text=None, **kwargs)\n",
      " |      Return only the first child of this Tag matching the given\n",
      " |      criteria.\n",
      " |  \n",
      " |  findChildren = find_all(self, name=None, attrs={}, recursive=True, text=None, limit=None, **kwargs)\n",
      " |      Extracts a list of Tag objects that match the given\n",
      " |      criteria.  You can specify the name of the Tag and any\n",
      " |      attributes you want the Tag to have.\n",
      " |      \n",
      " |      The value of a key-value pair in the 'attrs' map can be a\n",
      " |      string, a list of strings, a regular expression object, or a\n",
      " |      callable that takes a string and returns whether or not the\n",
      " |      string matches for some custom definition of 'matches'. The\n",
      " |      same is true of the tag name.\n",
      " |  \n",
      " |  find_all(self, name=None, attrs={}, recursive=True, text=None, limit=None, **kwargs)\n",
      " |      Extracts a list of Tag objects that match the given\n",
      " |      criteria.  You can specify the name of the Tag and any\n",
      " |      attributes you want the Tag to have.\n",
      " |      \n",
      " |      The value of a key-value pair in the 'attrs' map can be a\n",
      " |      string, a list of strings, a regular expression object, or a\n",
      " |      callable that takes a string and returns whether or not the\n",
      " |      string matches for some custom definition of 'matches'. The\n",
      " |      same is true of the tag name.\n",
      " |  \n",
      " |  get(self, key, default=None)\n",
      " |      Returns the value of the 'key' attribute for the tag, or\n",
      " |      the value given for 'default' if it doesn't have that\n",
      " |      attribute.\n",
      " |  \n",
      " |  getText = get_text(self, separator=u'', strip=False, types=(<class 'bs4.element.NavigableString'>, <class 'bs4.element.CData'>))\n",
      " |      Get all child strings, concatenated using the given separator.\n",
      " |  \n",
      " |  get_text(self, separator=u'', strip=False, types=(<class 'bs4.element.NavigableString'>, <class 'bs4.element.CData'>))\n",
      " |      Get all child strings, concatenated using the given separator.\n",
      " |  \n",
      " |  has_attr(self, key)\n",
      " |  \n",
      " |  has_key(self, key)\n",
      " |      This was kind of misleading because has_key() (attributes)\n",
      " |      was different from __in__ (contents). has_key() is gone in\n",
      " |      Python 3, anyway.\n",
      " |  \n",
      " |  index(self, element)\n",
      " |      Find the index of a child by identity, not value. Avoids issues with\n",
      " |      tag.contents.index(element) getting the index of equal elements.\n",
      " |  \n",
      " |  prettify(self, encoding=None, formatter='minimal')\n",
      " |  \n",
      " |  recursiveChildGenerator(self)\n",
      " |  \n",
      " |  renderContents(self, encoding='utf-8', prettyPrint=False, indentLevel=0)\n",
      " |      # Old method for BS3 compatibility\n",
      " |  \n",
      " |  select(self, selector, _candidate_generator=None, limit=None)\n",
      " |      Perform a CSS selection operation on the current element.\n",
      " |  \n",
      " |  select_one(self, selector)\n",
      " |      Perform a CSS selection operation on the current element.\n",
      " |  \n",
      " |  ----------------------------------------------------------------------\n",
      " |  Data descriptors inherited from bs4.element.Tag:\n",
      " |  \n",
      " |  children\n",
      " |  \n",
      " |  descendants\n",
      " |  \n",
      " |  isSelfClosing\n",
      " |      Is this tag an empty-element tag? (aka a self-closing tag)\n",
      " |      \n",
      " |      A tag that has contents is never an empty-element tag.\n",
      " |      \n",
      " |      A tag that has no contents may or may not be an empty-element\n",
      " |      tag. It depends on the builder used to create the tag. If the\n",
      " |      builder has a designated list of empty-element tags, then only\n",
      " |      a tag whose name shows up in that list is considered an\n",
      " |      empty-element tag.\n",
      " |      \n",
      " |      If the builder has no designated list of empty-element tags,\n",
      " |      then any tag with no contents is an empty-element tag.\n",
      " |  \n",
      " |  is_empty_element\n",
      " |      Is this tag an empty-element tag? (aka a self-closing tag)\n",
      " |      \n",
      " |      A tag that has contents is never an empty-element tag.\n",
      " |      \n",
      " |      A tag that has no contents may or may not be an empty-element\n",
      " |      tag. It depends on the builder used to create the tag. If the\n",
      " |      builder has a designated list of empty-element tags, then only\n",
      " |      a tag whose name shows up in that list is considered an\n",
      " |      empty-element tag.\n",
      " |      \n",
      " |      If the builder has no designated list of empty-element tags,\n",
      " |      then any tag with no contents is an empty-element tag.\n",
      " |  \n",
      " |  parserClass\n",
      " |  \n",
      " |  string\n",
      " |      Convenience property to get the single string within this tag.\n",
      " |      \n",
      " |      :Return: If this tag has a single string child, return value\n",
      " |       is that string. If this tag has no children, or more than one\n",
      " |       child, return value is None. If this tag has one child tag,\n",
      " |       return value is the 'string' attribute of the child tag,\n",
      " |       recursively.\n",
      " |  \n",
      " |  strings\n",
      " |      Yield all strings of certain classes, possibly stripping them.\n",
      " |      \n",
      " |      By default, yields only NavigableString and CData objects. So\n",
      " |      no comments, processing instructions, etc.\n",
      " |  \n",
      " |  stripped_strings\n",
      " |  \n",
      " |  text\n",
      " |      Get all child strings, concatenated using the given separator.\n",
      " |  \n",
      " |  ----------------------------------------------------------------------\n",
      " |  Methods inherited from bs4.element.PageElement:\n",
      " |  \n",
      " |  append(self, tag)\n",
      " |      Appends the given tag to the contents of this tag.\n",
      " |  \n",
      " |  extract(self)\n",
      " |      Destructively rips this element out of the tree.\n",
      " |  \n",
      " |  fetchNextSiblings = find_next_siblings(self, name=None, attrs={}, text=None, limit=None, **kwargs)\n",
      " |      Returns the siblings of this Tag that match the given\n",
      " |      criteria and appear after this Tag in the document.\n",
      " |  \n",
      " |  fetchParents = find_parents(self, name=None, attrs={}, limit=None, **kwargs)\n",
      " |      Returns the parents of this Tag that match the given\n",
      " |      criteria.\n",
      " |  \n",
      " |  fetchPrevious = find_all_previous(self, name=None, attrs={}, text=None, limit=None, **kwargs)\n",
      " |      Returns all items that match the given criteria and appear\n",
      " |      before this Tag in the document.\n",
      " |  \n",
      " |  fetchPreviousSiblings = find_previous_siblings(self, name=None, attrs={}, text=None, limit=None, **kwargs)\n",
      " |      Returns the siblings of this Tag that match the given\n",
      " |      criteria and appear before this Tag in the document.\n",
      " |  \n",
      " |  findAllNext = find_all_next(self, name=None, attrs={}, text=None, limit=None, **kwargs)\n",
      " |      Returns all items that match the given criteria and appear\n",
      " |      after this Tag in the document.\n",
      " |  \n",
      " |  findAllPrevious = find_all_previous(self, name=None, attrs={}, text=None, limit=None, **kwargs)\n",
      " |      Returns all items that match the given criteria and appear\n",
      " |      before this Tag in the document.\n",
      " |  \n",
      " |  findNext = find_next(self, name=None, attrs={}, text=None, **kwargs)\n",
      " |      Returns the first item that matches the given criteria and\n",
      " |      appears after this Tag in the document.\n",
      " |  \n",
      " |  findNextSibling = find_next_sibling(self, name=None, attrs={}, text=None, **kwargs)\n",
      " |      Returns the closest sibling to this Tag that matches the\n",
      " |      given criteria and appears after this Tag in the document.\n",
      " |  \n",
      " |  findNextSiblings = find_next_siblings(self, name=None, attrs={}, text=None, limit=None, **kwargs)\n",
      " |      Returns the siblings of this Tag that match the given\n",
      " |      criteria and appear after this Tag in the document.\n",
      " |  \n",
      " |  findParent = find_parent(self, name=None, attrs={}, **kwargs)\n",
      " |      Returns the closest parent of this Tag that matches the given\n",
      " |      criteria.\n",
      " |  \n",
      " |  findParents = find_parents(self, name=None, attrs={}, limit=None, **kwargs)\n",
      " |      Returns the parents of this Tag that match the given\n",
      " |      criteria.\n",
      " |  \n",
      " |  findPrevious = find_previous(self, name=None, attrs={}, text=None, **kwargs)\n",
      " |      Returns the first item that matches the given criteria and\n",
      " |      appears before this Tag in the document.\n",
      " |  \n",
      " |  findPreviousSibling = find_previous_sibling(self, name=None, attrs={}, text=None, **kwargs)\n",
      " |      Returns the closest sibling to this Tag that matches the\n",
      " |      given criteria and appears before this Tag in the document.\n",
      " |  \n",
      " |  findPreviousSiblings = find_previous_siblings(self, name=None, attrs={}, text=None, limit=None, **kwargs)\n",
      " |      Returns the siblings of this Tag that match the given\n",
      " |      criteria and appear before this Tag in the document.\n",
      " |  \n",
      " |  find_all_next(self, name=None, attrs={}, text=None, limit=None, **kwargs)\n",
      " |      Returns all items that match the given criteria and appear\n",
      " |      after this Tag in the document.\n",
      " |  \n",
      " |  find_all_previous(self, name=None, attrs={}, text=None, limit=None, **kwargs)\n",
      " |      Returns all items that match the given criteria and appear\n",
      " |      before this Tag in the document.\n",
      " |  \n",
      " |  find_next(self, name=None, attrs={}, text=None, **kwargs)\n",
      " |      Returns the first item that matches the given criteria and\n",
      " |      appears after this Tag in the document.\n",
      " |  \n",
      " |  find_next_sibling(self, name=None, attrs={}, text=None, **kwargs)\n",
      " |      Returns the closest sibling to this Tag that matches the\n",
      " |      given criteria and appears after this Tag in the document.\n",
      " |  \n",
      " |  find_next_siblings(self, name=None, attrs={}, text=None, limit=None, **kwargs)\n",
      " |      Returns the siblings of this Tag that match the given\n",
      " |      criteria and appear after this Tag in the document.\n",
      " |  \n",
      " |  find_parent(self, name=None, attrs={}, **kwargs)\n",
      " |      Returns the closest parent of this Tag that matches the given\n",
      " |      criteria.\n",
      " |  \n",
      " |  find_parents(self, name=None, attrs={}, limit=None, **kwargs)\n",
      " |      Returns the parents of this Tag that match the given\n",
      " |      criteria.\n",
      " |  \n",
      " |  find_previous(self, name=None, attrs={}, text=None, **kwargs)\n",
      " |      Returns the first item that matches the given criteria and\n",
      " |      appears before this Tag in the document.\n",
      " |  \n",
      " |  find_previous_sibling(self, name=None, attrs={}, text=None, **kwargs)\n",
      " |      Returns the closest sibling to this Tag that matches the\n",
      " |      given criteria and appears before this Tag in the document.\n",
      " |  \n",
      " |  find_previous_siblings(self, name=None, attrs={}, text=None, limit=None, **kwargs)\n",
      " |      Returns the siblings of this Tag that match the given\n",
      " |      criteria and appear before this Tag in the document.\n",
      " |  \n",
      " |  format_string(self, s, formatter='minimal')\n",
      " |      Format the given string using the given formatter.\n",
      " |  \n",
      " |  insert(self, position, new_child)\n",
      " |  \n",
      " |  nextGenerator(self)\n",
      " |      # Old non-property versions of the generators, for backwards\n",
      " |      # compatibility with BS3.\n",
      " |  \n",
      " |  nextSiblingGenerator(self)\n",
      " |  \n",
      " |  parentGenerator(self)\n",
      " |  \n",
      " |  previousGenerator(self)\n",
      " |  \n",
      " |  previousSiblingGenerator(self)\n",
      " |  \n",
      " |  replaceWith = replace_with(self, replace_with)\n",
      " |  \n",
      " |  replaceWithChildren = unwrap(self)\n",
      " |  \n",
      " |  replace_with(self, replace_with)\n",
      " |  \n",
      " |  replace_with_children = unwrap(self)\n",
      " |  \n",
      " |  setup(self, parent=None, previous_element=None, next_element=None, previous_sibling=None, next_sibling=None)\n",
      " |      Sets up the initial relations between this element and\n",
      " |      other elements.\n",
      " |  \n",
      " |  unwrap(self)\n",
      " |  \n",
      " |  wrap(self, wrap_inside)\n",
      " |  \n",
      " |  ----------------------------------------------------------------------\n",
      " |  Data descriptors inherited from bs4.element.PageElement:\n",
      " |  \n",
      " |  __dict__\n",
      " |      dictionary for instance variables (if defined)\n",
      " |  \n",
      " |  __weakref__\n",
      " |      list of weak references to the object (if defined)\n",
      " |  \n",
      " |  next\n",
      " |  \n",
      " |  nextSibling\n",
      " |  \n",
      " |  next_elements\n",
      " |  \n",
      " |  next_siblings\n",
      " |  \n",
      " |  parents\n",
      " |  \n",
      " |  previous\n",
      " |  \n",
      " |  previousSibling\n",
      " |  \n",
      " |  previous_elements\n",
      " |  \n",
      " |  previous_siblings\n",
      " |  \n",
      " |  ----------------------------------------------------------------------\n",
      " |  Data and other attributes inherited from bs4.element.PageElement:\n",
      " |  \n",
      " |  HTML_FORMATTERS = {None: None, 'html': <bound method type.substitute_h...\n",
      " |  \n",
      " |  XML_FORMATTERS = {None: None, 'html': <bound method type.substitute_ht...\n",
      " |  \n",
      " |  attribselect_re = <_sre.SRE_Pattern object>\n",
      " |  \n",
      " |  tag_name_re = <_sre.SRE_Pattern object>\n",
      "\n"
     ]
    }
   ],
   "source": [
    "help(soup.select.im_class)"
   ]
  },
  {
   "cell_type": "code",
   "execution_count": 80,
   "metadata": {
    "collapsed": false
   },
   "outputs": [
    {
     "data": {
      "text/plain": [
       "[<a class=\"sister\" href=\"http://example.com/elsie\" id=\"link1\">Elsie</a>]"
      ]
     },
     "execution_count": 80,
     "metadata": {},
     "output_type": "execute_result"
    }
   ],
   "source": [
    "soup.select('a[href=\"http://example.com/elsie\"]')"
   ]
  },
  {
   "cell_type": "markdown",
   "metadata": {},
   "source": [
    "## 範例"
   ]
  },
  {
   "cell_type": "code",
   "execution_count": null,
   "metadata": {
    "collapsed": true
   },
   "outputs": [],
   "source": [
    "#PTT"
   ]
  },
  {
   "cell_type": "code",
   "execution_count": null,
   "metadata": {
    "collapsed": true
   },
   "outputs": [],
   "source": [
    "#蘋果新聞"
   ]
  },
  {
   "cell_type": "code",
   "execution_count": null,
   "metadata": {
    "collapsed": true
   },
   "outputs": [],
   "source": [
    "#中華民國政府電子採購網"
   ]
  },
  {
   "cell_type": "code",
   "execution_count": null,
   "metadata": {
    "collapsed": true
   },
   "outputs": [],
   "source": [
    "#Facebook Graph API(?)"
   ]
  },
  {
   "cell_type": "code",
   "execution_count": 81,
   "metadata": {
    "collapsed": false,
    "scrolled": true
   },
   "outputs": [
    {
     "data": {
      "text/plain": [
       "['__add__',\n",
       " '__class__',\n",
       " '__contains__',\n",
       " '__delattr__',\n",
       " '__doc__',\n",
       " '__eq__',\n",
       " '__format__',\n",
       " '__ge__',\n",
       " '__getattribute__',\n",
       " '__getitem__',\n",
       " '__getnewargs__',\n",
       " '__getslice__',\n",
       " '__gt__',\n",
       " '__hash__',\n",
       " '__init__',\n",
       " '__le__',\n",
       " '__len__',\n",
       " '__lt__',\n",
       " '__mod__',\n",
       " '__mul__',\n",
       " '__ne__',\n",
       " '__new__',\n",
       " '__reduce__',\n",
       " '__reduce_ex__',\n",
       " '__repr__',\n",
       " '__rmod__',\n",
       " '__rmul__',\n",
       " '__setattr__',\n",
       " '__sizeof__',\n",
       " '__str__',\n",
       " '__subclasshook__',\n",
       " '_formatter_field_name_split',\n",
       " '_formatter_parser',\n",
       " 'capitalize',\n",
       " 'center',\n",
       " 'count',\n",
       " 'decode',\n",
       " 'encode',\n",
       " 'endswith',\n",
       " 'expandtabs',\n",
       " 'find',\n",
       " 'format',\n",
       " 'index',\n",
       " 'isalnum',\n",
       " 'isalpha',\n",
       " 'isdigit',\n",
       " 'islower',\n",
       " 'isspace',\n",
       " 'istitle',\n",
       " 'isupper',\n",
       " 'join',\n",
       " 'ljust',\n",
       " 'lower',\n",
       " 'lstrip',\n",
       " 'partition',\n",
       " 'replace',\n",
       " 'rfind',\n",
       " 'rindex',\n",
       " 'rjust',\n",
       " 'rpartition',\n",
       " 'rsplit',\n",
       " 'rstrip',\n",
       " 'split',\n",
       " 'splitlines',\n",
       " 'startswith',\n",
       " 'strip',\n",
       " 'swapcase',\n",
       " 'title',\n",
       " 'translate',\n",
       " 'upper',\n",
       " 'zfill']"
      ]
     },
     "execution_count": 81,
     "metadata": {},
     "output_type": "execute_result"
    }
   ],
   "source": [
    "dir('print')"
   ]
  },
  {
   "cell_type": "code",
   "execution_count": 87,
   "metadata": {
    "collapsed": false
   },
   "outputs": [
    {
     "name": "stdout",
     "output_type": "stream",
     "text": [
      "Help on built-in function __new__ in print:\n",
      "\n",
      "print.__new__ = __new__(...)\n",
      "    T.__new__(S, ...) -> a new object with type S, a subtype of T\n",
      "\n"
     ]
    }
   ],
   "source": [
    "help('print.__new__')"
   ]
  },
  {
   "cell_type": "code",
   "execution_count": null,
   "metadata": {
    "collapsed": true
   },
   "outputs": [],
   "source": []
  }
 ],
 "metadata": {
  "anaconda-cloud": {},
  "kernelspec": {
   "display_name": "Python [Root]",
   "language": "python",
   "name": "Python [Root]"
  },
  "language_info": {
   "codemirror_mode": {
    "name": "ipython",
    "version": 2
   },
   "file_extension": ".py",
   "mimetype": "text/x-python",
   "name": "python",
   "nbconvert_exporter": "python",
   "pygments_lexer": "ipython2",
   "version": "2.7.12"
  }
 },
 "nbformat": 4,
 "nbformat_minor": 0
}
